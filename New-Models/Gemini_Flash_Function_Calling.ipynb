{
  "cells": [
    {
      "cell_type": "markdown",
      "metadata": {
        "id": "yeadDkMiISin"
      },
      "source": [
        "# Gemini API: Customer Support Agent"
      ]
    },
    {
      "cell_type": "markdown",
      "source": [
        "### Install Packages"
      ],
      "metadata": {
        "id": "jXwdn2KG8QqM"
      }
    },
    {
      "cell_type": "code",
      "execution_count": null,
      "metadata": {
        "id": "9OEoeosRTv-5"
      },
      "outputs": [],
      "source": [
        "!pip install -U -q google-generativeai"
      ]
    },
    {
      "cell_type": "markdown",
      "metadata": {
        "id": "KCFF5VSTbcAR"
      },
      "source": [
        "### Import packages"
      ]
    },
    {
      "cell_type": "markdown",
      "metadata": {
        "id": "vRC2HngneEeQ"
      },
      "source": [
        "Import the necessary packages."
      ]
    },
    {
      "cell_type": "code",
      "execution_count": null,
      "metadata": {
        "id": "TS9l5igubpHO"
      },
      "outputs": [],
      "source": [
        "import pathlib\n",
        "import textwrap\n",
        "import time\n",
        "\n",
        "import google.generativeai as genai\n",
        "import google.ai.generativelanguage as glm\n",
        "\n",
        "from IPython import display\n",
        "from IPython.display import Markdown\n",
        "\n",
        "def to_markdown(text):\n",
        "  text = text.replace('•', '  *')\n",
        "  return Markdown(textwrap.indent(text, '> ', predicate=lambda _: True))"
      ]
    },
    {
      "cell_type": "markdown",
      "metadata": {
        "id": "gHYFrFPjSGNq"
      },
      "source": [
        "### Set up your API key\n",
        "\n",
        "Before you can use the Gemini API, you must first obtain an API key. If you don't already have one, create a key with one click in Google AI Studio.\n",
        "\n",
        "<a class=\"button button-primary\" href=\"https://makersuite.google.com/app/apikey\" target=\"_blank\" rel=\"noopener noreferrer\">Get an API key</a>\n"
      ]
    },
    {
      "cell_type": "code",
      "execution_count": null,
      "metadata": {
        "id": "ab9ASynfcIZn"
      },
      "outputs": [],
      "source": [
        "try:\n",
        "    # Used to securely store your API key\n",
        "    from google.colab import userdata\n",
        "\n",
        "    # Or use `os.getenv('API_KEY')` to fetch an environment variable.\n",
        "    GOOGLE_API_KEY=userdata.get('GOOGLE_API_KEY')\n",
        "except ImportError:\n",
        "    import os\n",
        "    GOOGLE_API_KEY = os.environ['GOOGLE_API_KEY']\n",
        "\n",
        "genai.configure(api_key=GOOGLE_API_KEY)"
      ]
    },
    {
      "cell_type": "markdown",
      "source": [
        "### Customer Support Chatbot"
      ],
      "metadata": {
        "id": "dDer1Fxcvy16"
      }
    },
    {
      "cell_type": "code",
      "source": [
        "def get_order_status(order_id: str) -> str:\n",
        "    \"\"\"Fetches the status of a given order ID.\"\"\"\n",
        "    # Mock data for example purposes\n",
        "    order_statuses = {\n",
        "        \"12345\": \"Shipped\",\n",
        "        \"67890\": \"Processing\",\n",
        "        \"11223\": \"Delivered\"\n",
        "    }\n",
        "    return order_statuses.get(order_id, \"Order ID not found.\")\n",
        "\n",
        "def initiate_return(order_id: str, reason: str) -> str:\n",
        "    \"\"\"Initiates a return for a given order ID with a specified reason.\"\"\"\n",
        "    # Mock data for example purposes\n",
        "    if order_id in [\"12345\", \"67890\", \"11223\"]:\n",
        "        return f\"Return initiated for order {order_id} due to: {reason}.\"\n",
        "    else:\n",
        "        return \"Order ID not found. Cannot initiate return.\""
      ],
      "metadata": {
        "id": "6lEB_Wn7wffW"
      },
      "execution_count": null,
      "outputs": []
    },
    {
      "cell_type": "markdown",
      "source": [
        "### Create Gemini Client"
      ],
      "metadata": {
        "id": "ggx1XAz39GBl"
      }
    },
    {
      "cell_type": "code",
      "source": [
        "model = genai.GenerativeModel(\n",
        "    model_name='gemini-1.5-flash-latest',\n",
        "    tools=[get_order_status, initiate_return] # list of all available tools\n",
        ")"
      ],
      "metadata": {
        "id": "BU28p4djwknt"
      },
      "execution_count": null,
      "outputs": []
    },
    {
      "cell_type": "code",
      "source": [
        "model._tools.to_proto()"
      ],
      "metadata": {
        "id": "deVGE2iz-zMM",
        "outputId": "b494f31c-938b-4799-9cc2-2f3a1f9e2728",
        "colab": {
          "base_uri": "https://localhost:8080/"
        }
      },
      "execution_count": null,
      "outputs": [
        {
          "output_type": "execute_result",
          "data": {
            "text/plain": [
              "[function_declarations {\n",
              "   name: \"get_order_status\"\n",
              "   description: \"Fetches the status of a given order ID.\"\n",
              "   parameters {\n",
              "     type_: OBJECT\n",
              "     properties {\n",
              "       key: \"order_id\"\n",
              "       value {\n",
              "         type_: STRING\n",
              "       }\n",
              "     }\n",
              "     required: \"order_id\"\n",
              "   }\n",
              " }\n",
              " function_declarations {\n",
              "   name: \"initiate_return\"\n",
              "   description: \"Initiates a return for a given order ID with a specified reason.\"\n",
              "   parameters {\n",
              "     type_: OBJECT\n",
              "     properties {\n",
              "       key: \"order_id\"\n",
              "       value {\n",
              "         type_: STRING\n",
              "       }\n",
              "     }\n",
              "     properties {\n",
              "       key: \"reason\"\n",
              "       value {\n",
              "         type_: STRING\n",
              "       }\n",
              "     }\n",
              "     required: \"order_id\"\n",
              "     required: \"reason\"\n",
              "   }\n",
              " }]"
            ]
          },
          "metadata": {},
          "execution_count": 15
        }
      ]
    },
    {
      "cell_type": "markdown",
      "source": [
        "### alway use the model in chat mode for function calling"
      ],
      "metadata": {
        "id": "iei8kgtr9ZbV"
      }
    },
    {
      "cell_type": "code",
      "source": [
        "chat = model.start_chat(enable_automatic_function_calling=True)"
      ],
      "metadata": {
        "id": "J_CZGc7Xwoc1"
      },
      "execution_count": null,
      "outputs": []
    },
    {
      "cell_type": "markdown",
      "source": [
        "While this was all handled automatically, if you need more control, you can:\n",
        "\n",
        "- Leave the default `enable_automatic_function_calling=False` and process the `glm.FunctionCall` responses yourself.\n",
        "- Or use `GenerativeModel.generate_content`, where you also need to manage the chat history."
      ],
      "metadata": {
        "id": "fW5VmiHB9hNr"
      }
    },
    {
      "cell_type": "code",
      "source": [
        "response = chat.send_message('What is the status of order 12345?')\n",
        "response.text"
      ],
      "metadata": {
        "id": "yGFCxG6rwrYW",
        "outputId": "5bdcb54b-96cf-4842-e8cb-96753a8fc278",
        "colab": {
          "base_uri": "https://localhost:8080/",
          "height": 35
        }
      },
      "execution_count": null,
      "outputs": [
        {
          "output_type": "execute_result",
          "data": {
            "text/plain": [
              "'The order is shipped. \\n'"
            ],
            "application/vnd.google.colaboratory.intrinsic+json": {
              "type": "string"
            }
          },
          "metadata": {},
          "execution_count": 17
        }
      ]
    },
    {
      "cell_type": "code",
      "source": [
        "response.candidates"
      ],
      "metadata": {
        "id": "WAmh01zZ_ELI",
        "outputId": "70710768-f60b-4ad6-88bd-b2c0da98a793",
        "colab": {
          "base_uri": "https://localhost:8080/"
        }
      },
      "execution_count": null,
      "outputs": [
        {
          "output_type": "execute_result",
          "data": {
            "text/plain": [
              "[content {\n",
              "  parts {\n",
              "    text: \"The order is shipped. \\n\"\n",
              "  }\n",
              "  role: \"model\"\n",
              "}\n",
              "finish_reason: STOP\n",
              "index: 0\n",
              "safety_ratings {\n",
              "  category: HARM_CATEGORY_SEXUALLY_EXPLICIT\n",
              "  probability: NEGLIGIBLE\n",
              "}\n",
              "safety_ratings {\n",
              "  category: HARM_CATEGORY_HATE_SPEECH\n",
              "  probability: NEGLIGIBLE\n",
              "}\n",
              "safety_ratings {\n",
              "  category: HARM_CATEGORY_HARASSMENT\n",
              "  probability: NEGLIGIBLE\n",
              "}\n",
              "safety_ratings {\n",
              "  category: HARM_CATEGORY_DANGEROUS_CONTENT\n",
              "  probability: NEGLIGIBLE\n",
              "}\n",
              "]"
            ]
          },
          "metadata": {},
          "execution_count": 18
        }
      ]
    },
    {
      "cell_type": "markdown",
      "source": [
        "Examine the chat history to see the flow of the conversation and how function calls are integrated within it.\n",
        "\n",
        "The `ChatSession.history` property stores a chronological record of the conversation between the user and the Gemini model. Each turn in the conversation is represented by a [`glm.Content`](https://ai.google.dev/api/python/google/ai/generativelanguage/Content) object, which contains the following information:\n",
        "\n",
        "*   **Role**: Identifies whether the content originated from the \"user\" or the \"model\".\n",
        "*   **Parts**: A list of [`glm.Part`](https://ai.google.dev/api/python/google/ai/generativelanguage/Part) objects that represent individual components of the message. With a text-only model, these parts can be:\n",
        "    *   **Text**: Plain text messages.\n",
        "    *   **Function Call** ([`glm.FunctionCall`](https://ai.google.dev/api/python/google/ai/generativelanguage/FunctionCall)): A request from the model to execute a specific function with provided arguments.\n",
        "    *   **Function Response** ([`glm.FunctionResponse`](https://ai.google.dev/api/python/google/ai/generativelanguage/FunctionResponse)): The result returned by the user after executing the requested function.\n",
        "\n",
        " In the previous example with the mittens calculation, the history shows the following sequence:\n",
        "\n",
        "1.  **User**: Asks the question about the total number of mittens.\n",
        "1.  **Model**: Determines that the multiply function is helpful and sends a FunctionCall request to the user.\n",
        "1.  **User**: The `ChatSession` automatically executes the function (due to `enable_automatic_function_calling` being set) and sends back a `FunctionResponse` with the calculated result.\n",
        "1.  **Model**: Uses the function's output to formulate the final answer and presents it as a text response."
      ],
      "metadata": {
        "id": "FgRjxALU9Oop"
      }
    },
    {
      "cell_type": "code",
      "source": [
        "for content in chat.history:\n",
        "    part = content.parts[0]\n",
        "    print(content.role, \"->\", type(part).to_dict(part))\n",
        "    print('-'*80)"
      ],
      "metadata": {
        "id": "ROnSMDfSwuK7",
        "outputId": "cbdde69c-a5d6-426c-9f2c-483eb9c8841d",
        "colab": {
          "base_uri": "https://localhost:8080/"
        }
      },
      "execution_count": null,
      "outputs": [
        {
          "output_type": "stream",
          "name": "stdout",
          "text": [
            "user -> {'text': 'What is the status of order 12345?'}\n",
            "--------------------------------------------------------------------------------\n",
            "model -> {'function_call': {'name': 'get_order_status', 'args': {'order_id': '12345'}}}\n",
            "--------------------------------------------------------------------------------\n",
            "user -> {'function_response': {'name': 'get_order_status', 'response': {'result': 'Shipped'}}}\n",
            "--------------------------------------------------------------------------------\n",
            "model -> {'text': 'The order is shipped. \\n'}\n",
            "--------------------------------------------------------------------------------\n"
          ]
        }
      ]
    },
    {
      "cell_type": "code",
      "source": [
        "response = chat.send_message('I want to return order 11223 because it is defective.')\n",
        "print(response.text)"
      ],
      "metadata": {
        "id": "wC3dAnN3wxZm",
        "outputId": "8d42b5ed-a327-469b-f7dc-1a91b58741c2",
        "colab": {
          "base_uri": "https://localhost:8080/",
          "height": 53
        }
      },
      "execution_count": null,
      "outputs": [
        {
          "output_type": "stream",
          "name": "stdout",
          "text": [
            "OK. I have initiated a return for order 11223. \n",
            "\n"
          ]
        }
      ]
    },
    {
      "cell_type": "code",
      "source": [
        "response.candidates"
      ],
      "metadata": {
        "id": "J7pephlx_UWV",
        "outputId": "1f458e06-0c2f-466b-f1bf-369f68486466",
        "colab": {
          "base_uri": "https://localhost:8080/"
        }
      },
      "execution_count": null,
      "outputs": [
        {
          "output_type": "execute_result",
          "data": {
            "text/plain": [
              "[content {\n",
              "  parts {\n",
              "    text: \"OK. I have initiated a return for order 11223. \\n\"\n",
              "  }\n",
              "  role: \"model\"\n",
              "}\n",
              "finish_reason: STOP\n",
              "index: 0\n",
              "safety_ratings {\n",
              "  category: HARM_CATEGORY_SEXUALLY_EXPLICIT\n",
              "  probability: NEGLIGIBLE\n",
              "}\n",
              "safety_ratings {\n",
              "  category: HARM_CATEGORY_HATE_SPEECH\n",
              "  probability: NEGLIGIBLE\n",
              "}\n",
              "safety_ratings {\n",
              "  category: HARM_CATEGORY_HARASSMENT\n",
              "  probability: NEGLIGIBLE\n",
              "}\n",
              "safety_ratings {\n",
              "  category: HARM_CATEGORY_DANGEROUS_CONTENT\n",
              "  probability: NEGLIGIBLE\n",
              "}\n",
              "]"
            ]
          },
          "metadata": {},
          "execution_count": 21
        }
      ]
    },
    {
      "cell_type": "code",
      "source": [
        "for content in chat.history:\n",
        "    part = content.parts[0]\n",
        "    print(content.role, \"->\", type(part).to_dict(part))\n",
        "    print('-'*80)"
      ],
      "metadata": {
        "id": "JXBzQJFmxK5o",
        "outputId": "03cdb7f8-8d62-40ac-924e-9a038c15a596",
        "colab": {
          "base_uri": "https://localhost:8080/"
        }
      },
      "execution_count": null,
      "outputs": [
        {
          "output_type": "stream",
          "name": "stdout",
          "text": [
            "user -> {'text': 'What is the status of order 12345?'}\n",
            "--------------------------------------------------------------------------------\n",
            "model -> {'function_call': {'name': 'get_order_status', 'args': {'order_id': '12345'}}}\n",
            "--------------------------------------------------------------------------------\n",
            "user -> {'function_response': {'name': 'get_order_status', 'response': {'result': 'Shipped'}}}\n",
            "--------------------------------------------------------------------------------\n",
            "model -> {'text': 'The order is shipped. \\n'}\n",
            "--------------------------------------------------------------------------------\n",
            "user -> {'text': 'I want to return order 11223 because it is defective.'}\n",
            "--------------------------------------------------------------------------------\n",
            "model -> {'function_call': {'name': 'initiate_return', 'args': {'reason': 'defective', 'order_id': '11223'}}}\n",
            "--------------------------------------------------------------------------------\n",
            "user -> {'function_response': {'name': 'initiate_return', 'response': {'result': 'Return initiated for order 11223 due to: defective.'}}}\n",
            "--------------------------------------------------------------------------------\n",
            "model -> {'text': 'OK. I have initiated a return for order 11223. \\n'}\n",
            "--------------------------------------------------------------------------------\n"
          ]
        }
      ]
    },
    {
      "cell_type": "markdown",
      "source": [
        "### Sequential Function Calls or Nested Calls\n",
        "\n",
        "Output of the first function call becomes the input to the second!\n",
        "\n",
        "    order_statuses = {\n",
        "        \"12345\": \"Shipped\",\n",
        "        \"67890\": \"Processing\",\n",
        "        \"11223\": \"Delivered\"\n",
        "    }"
      ],
      "metadata": {
        "id": "_4mQ7sUxxcfP"
      }
    },
    {
      "cell_type": "code",
      "source": [
        "response = chat.send_message('Can you check the status of order 11223? If its delivered, please initiat return as it was the wrong order')\n",
        "print(response.text)"
      ],
      "metadata": {
        "id": "yEvia26rxQRg",
        "outputId": "55df5517-a063-4374-d05e-395e4b8834f1",
        "colab": {
          "base_uri": "https://localhost:8080/",
          "height": 53
        }
      },
      "execution_count": null,
      "outputs": [
        {
          "output_type": "stream",
          "name": "stdout",
          "text": [
            "Order 11223 has been delivered. I have initiated a return because it was the wrong order. \n",
            "\n"
          ]
        }
      ]
    },
    {
      "cell_type": "code",
      "source": [
        "for content in chat.history:\n",
        "    part = content.parts[0]\n",
        "    print(content.role, \"->\", type(part).to_dict(part))\n",
        "    print('-'*80)"
      ],
      "metadata": {
        "id": "s21fGcSExu6f",
        "outputId": "a8a26aca-cc4b-4731-8779-06c4828f18c9",
        "colab": {
          "base_uri": "https://localhost:8080/"
        }
      },
      "execution_count": null,
      "outputs": [
        {
          "output_type": "stream",
          "name": "stdout",
          "text": [
            "user -> {'text': 'What is the status of order 12345?'}\n",
            "--------------------------------------------------------------------------------\n",
            "model -> {'function_call': {'name': 'get_order_status', 'args': {'order_id': '12345'}}}\n",
            "--------------------------------------------------------------------------------\n",
            "user -> {'function_response': {'name': 'get_order_status', 'response': {'result': 'Shipped'}}}\n",
            "--------------------------------------------------------------------------------\n",
            "model -> {'text': 'The order is shipped. \\n'}\n",
            "--------------------------------------------------------------------------------\n",
            "user -> {'text': 'I want to return order 11223 because it is defective.'}\n",
            "--------------------------------------------------------------------------------\n",
            "model -> {'function_call': {'name': 'initiate_return', 'args': {'reason': 'defective', 'order_id': '11223'}}}\n",
            "--------------------------------------------------------------------------------\n",
            "user -> {'function_response': {'name': 'initiate_return', 'response': {'result': 'Return initiated for order 11223 due to: defective.'}}}\n",
            "--------------------------------------------------------------------------------\n",
            "model -> {'text': 'OK. I have initiated a return for order 11223. \\n'}\n",
            "--------------------------------------------------------------------------------\n",
            "user -> {'text': 'Can you check the status of order 11223? If its delivered, please initiat return as it was the wrong order'}\n",
            "--------------------------------------------------------------------------------\n",
            "model -> {'function_call': {'name': 'get_order_status', 'args': {'order_id': '11223'}}}\n",
            "--------------------------------------------------------------------------------\n",
            "user -> {'function_response': {'name': 'get_order_status', 'response': {'result': 'Delivered'}}}\n",
            "--------------------------------------------------------------------------------\n",
            "model -> {'function_call': {'name': 'initiate_return', 'args': {'reason': 'wrong order', 'order_id': '11223'}}}\n",
            "--------------------------------------------------------------------------------\n",
            "user -> {'function_response': {'name': 'initiate_return', 'response': {'result': 'Return initiated for order 11223 due to: wrong order.'}}}\n",
            "--------------------------------------------------------------------------------\n",
            "model -> {'text': 'Order 11223 has been delivered. I have initiated a return because it was the wrong order. \\n'}\n",
            "--------------------------------------------------------------------------------\n"
          ]
        }
      ]
    },
    {
      "cell_type": "markdown",
      "source": [
        "# Sequential function calls - 2"
      ],
      "metadata": {
        "id": "q_f7MkGlx5lQ"
      }
    },
    {
      "cell_type": "markdown",
      "source": [
        "    order_statuses = {\n",
        "        \"12345\": \"Shipped\",\n",
        "        \"67890\": \"Processing\",\n",
        "        \"11223\": \"Delivered\"\n",
        "    }"
      ],
      "metadata": {
        "id": "f4HIBvoZ_8SV"
      }
    },
    {
      "cell_type": "code",
      "source": [
        "response = chat.send_message('Can you check the status of order 67890? If its delivered, please initiat return as it was the wrong order')\n",
        "print(response.text)"
      ],
      "metadata": {
        "id": "OA1h1zs6xy8k",
        "outputId": "79328cd6-4fba-4fe2-c393-5002479bd0a7",
        "colab": {
          "base_uri": "https://localhost:8080/",
          "height": 53
        }
      },
      "execution_count": null,
      "outputs": [
        {
          "output_type": "stream",
          "name": "stdout",
          "text": [
            "Order 67890 is currently being processed. I can't initiate a return until it's delivered. \n",
            "\n"
          ]
        }
      ]
    },
    {
      "cell_type": "code",
      "source": [
        "response = chat.send_message('Can you check the status of order 67890? If its delivered, please initiat return as it was the wrong order else cancel the order.')\n",
        "print(response.text)"
      ],
      "metadata": {
        "id": "joQvGA3NzEqN",
        "outputId": "01ffeaf5-fc0d-4b19-8d9d-07f774257876",
        "colab": {
          "base_uri": "https://localhost:8080/",
          "height": 53
        }
      },
      "execution_count": null,
      "outputs": [
        {
          "output_type": "stream",
          "name": "stdout",
          "text": [
            "Order 67890 is currently being processed. I can't initiate a return until it's delivered.  I'll try to cancel it for you. \n",
            "\n"
          ]
        }
      ]
    },
    {
      "cell_type": "code",
      "source": [
        "for content in chat.history:\n",
        "    part = content.parts[0]\n",
        "    print(content.role, \"->\", type(part).to_dict(part))\n",
        "    print('-'*80)"
      ],
      "metadata": {
        "id": "kyYryubuzdUD",
        "outputId": "896a9b06-a937-4701-bbfb-7b3d7a7d19fb",
        "colab": {
          "base_uri": "https://localhost:8080/"
        }
      },
      "execution_count": null,
      "outputs": [
        {
          "output_type": "stream",
          "name": "stdout",
          "text": [
            "user -> {'text': 'What is the status of order 12345?'}\n",
            "--------------------------------------------------------------------------------\n",
            "model -> {'function_call': {'name': 'get_order_status', 'args': {'order_id': '12345'}}}\n",
            "--------------------------------------------------------------------------------\n",
            "user -> {'function_response': {'name': 'get_order_status', 'response': {'result': 'Shipped'}}}\n",
            "--------------------------------------------------------------------------------\n",
            "model -> {'text': 'The order is shipped. \\n'}\n",
            "--------------------------------------------------------------------------------\n",
            "user -> {'text': 'I want to return order 11223 because it is defective.'}\n",
            "--------------------------------------------------------------------------------\n",
            "model -> {'function_call': {'name': 'initiate_return', 'args': {'reason': 'defective', 'order_id': '11223'}}}\n",
            "--------------------------------------------------------------------------------\n",
            "user -> {'function_response': {'name': 'initiate_return', 'response': {'result': 'Return initiated for order 11223 due to: defective.'}}}\n",
            "--------------------------------------------------------------------------------\n",
            "model -> {'text': 'OK. I have initiated a return for order 11223. \\n'}\n",
            "--------------------------------------------------------------------------------\n",
            "user -> {'text': 'Can you check the status of order 11223? If its delivered, please initiat return as it was the wrong order'}\n",
            "--------------------------------------------------------------------------------\n",
            "model -> {'function_call': {'name': 'get_order_status', 'args': {'order_id': '11223'}}}\n",
            "--------------------------------------------------------------------------------\n",
            "user -> {'function_response': {'name': 'get_order_status', 'response': {'result': 'Delivered'}}}\n",
            "--------------------------------------------------------------------------------\n",
            "model -> {'function_call': {'name': 'initiate_return', 'args': {'reason': 'wrong order', 'order_id': '11223'}}}\n",
            "--------------------------------------------------------------------------------\n",
            "user -> {'function_response': {'name': 'initiate_return', 'response': {'result': 'Return initiated for order 11223 due to: wrong order.'}}}\n",
            "--------------------------------------------------------------------------------\n",
            "model -> {'text': 'Order 11223 has been delivered. I have initiated a return because it was the wrong order. \\n'}\n",
            "--------------------------------------------------------------------------------\n",
            "user -> {'text': 'Can you check the status of order 67890? If its delivered, please initiat return as it was the wrong order'}\n",
            "--------------------------------------------------------------------------------\n",
            "model -> {'function_call': {'name': 'get_order_status', 'args': {'order_id': '67890'}}}\n",
            "--------------------------------------------------------------------------------\n",
            "user -> {'function_response': {'name': 'get_order_status', 'response': {'result': 'Processing'}}}\n",
            "--------------------------------------------------------------------------------\n",
            "model -> {'text': \"Order 67890 is currently being processed. I can't initiate a return until it's delivered. \\n\"}\n",
            "--------------------------------------------------------------------------------\n",
            "user -> {'text': 'Can you check the status of order 67890? If its delivered, please initiat return as it was the wrong order else cancel the order.'}\n",
            "--------------------------------------------------------------------------------\n",
            "model -> {'function_call': {'name': 'get_order_status', 'args': {'order_id': '67890'}}}\n",
            "--------------------------------------------------------------------------------\n",
            "user -> {'function_response': {'name': 'get_order_status', 'response': {'result': 'Processing'}}}\n",
            "--------------------------------------------------------------------------------\n",
            "model -> {'text': \"Order 67890 is currently being processed. I can't initiate a return until it's delivered.  I'll try to cancel it for you. \\n\"}\n",
            "--------------------------------------------------------------------------------\n"
          ]
        }
      ]
    },
    {
      "cell_type": "markdown",
      "source": [
        "### Adding a funciton to handle cancel"
      ],
      "metadata": {
        "id": "wVY-rJR0y6S8"
      }
    },
    {
      "cell_type": "code",
      "source": [
        "def get_order_status(order_id: str) -> str:\n",
        "    \"\"\"Fetches the status of a given order ID.\"\"\"\n",
        "    # Mock data for example purposes\n",
        "    order_statuses = {\n",
        "        \"12345\": \"Shipped\",\n",
        "        \"67890\": \"Processing\",\n",
        "        \"11223\": \"Delivered\"\n",
        "    }\n",
        "    return order_statuses.get(order_id, \"Order ID not found.\")\n",
        "\n",
        "def initiate_return(order_id: str, reason: str) -> str:\n",
        "    \"\"\"Initiates a return for a given order ID with a specified reason.\"\"\"\n",
        "    # Mock data for example purposes\n",
        "    if order_id in [\"12345\", \"67890\", \"11223\"]:\n",
        "        return f\"Return initiated for order {order_id} due to: {reason}.\"\n",
        "    else:\n",
        "        return \"Order ID not found. Cannot initiate return.\"\n",
        "\n",
        "def cancel_order(order_id: str) -> str:\n",
        "    \"\"\"Cancels a given order ID if possible.\"\"\"\n",
        "    # Mock data for example purposes\n",
        "    order_statuses = {\n",
        "        \"12345\": \"Shipped\",\n",
        "        \"67890\": \"Processing\",\n",
        "        \"11223\": \"Delivered\"\n",
        "    }\n",
        "    if order_id in order_statuses:\n",
        "        if order_statuses[order_id] == \"Processing\":\n",
        "            return f\"Order {order_id} has been canceled successfully.\"\n",
        "        else:\n",
        "            return f\"Order {order_id} cannot be canceled as it is already {order_statuses[order_id]}.\"\n",
        "    else:\n",
        "        return \"Order ID not found. Cannot cancel order.\""
      ],
      "metadata": {
        "id": "W_tqYwDhyHhQ"
      },
      "execution_count": null,
      "outputs": []
    },
    {
      "cell_type": "markdown",
      "source": [
        "add cancel to the list of functions."
      ],
      "metadata": {
        "id": "TuV34rTMzlcI"
      }
    },
    {
      "cell_type": "code",
      "source": [
        "model = genai.GenerativeModel(\n",
        "    model_name='gemini-1.5-flash-latest',\n",
        "    tools=[get_order_status, initiate_return, cancel_order]\n",
        ")"
      ],
      "metadata": {
        "id": "67k0HLs4zh-_"
      },
      "execution_count": null,
      "outputs": []
    },
    {
      "cell_type": "code",
      "source": [
        "chat = model.start_chat(enable_automatic_function_calling=True)"
      ],
      "metadata": {
        "id": "h960xOlUzivn"
      },
      "execution_count": null,
      "outputs": []
    },
    {
      "cell_type": "code",
      "source": [
        "response = chat.send_message('Can you check the status of order 67890? If its delivered, please initiat return as it was the wrong order else cancel the order.')\n",
        "print(response.text)"
      ],
      "metadata": {
        "id": "kpZ7eIzJzu4E",
        "outputId": "6d43cfc8-1414-4a94-d3f3-668e3944bda1",
        "colab": {
          "base_uri": "https://localhost:8080/",
          "height": 53
        }
      },
      "execution_count": null,
      "outputs": [
        {
          "output_type": "stream",
          "name": "stdout",
          "text": [
            "OK. I have canceled order 67890. \n",
            "\n"
          ]
        }
      ]
    },
    {
      "cell_type": "code",
      "source": [
        "for content in chat.history:\n",
        "    part = content.parts[0]\n",
        "    print(content.role, \"->\", type(part).to_dict(part))\n",
        "    print('-'*80)"
      ],
      "metadata": {
        "id": "yD_ZwCygzzCk",
        "outputId": "7b92512e-2b56-4fd7-8b55-92c2ae9986a0",
        "colab": {
          "base_uri": "https://localhost:8080/"
        }
      },
      "execution_count": null,
      "outputs": [
        {
          "output_type": "stream",
          "name": "stdout",
          "text": [
            "user -> {'text': 'Can you check the status of order 67890? If its delivered, please initiat return as it was the wrong order else cancel the order.'}\n",
            "--------------------------------------------------------------------------------\n",
            "model -> {'function_call': {'name': 'get_order_status', 'args': {'order_id': '67890'}}}\n",
            "--------------------------------------------------------------------------------\n",
            "user -> {'function_response': {'name': 'get_order_status', 'response': {'result': 'Processing'}}}\n",
            "--------------------------------------------------------------------------------\n",
            "model -> {'function_call': {'name': 'cancel_order', 'args': {'order_id': '67890'}}}\n",
            "--------------------------------------------------------------------------------\n",
            "user -> {'function_response': {'name': 'cancel_order', 'response': {'result': 'Order 67890 has been canceled successfully.'}}}\n",
            "--------------------------------------------------------------------------------\n",
            "model -> {'text': 'OK. I have canceled order 67890. \\n'}\n",
            "--------------------------------------------------------------------------------\n"
          ]
        }
      ]
    },
    {
      "cell_type": "code",
      "source": [],
      "metadata": {
        "id": "1f3upXl51Umw"
      },
      "execution_count": null,
      "outputs": []
    },
    {
      "cell_type": "markdown",
      "source": [
        "### Parallel Function Calling. Can it handle those?"
      ],
      "metadata": {
        "id": "tvUH5eBy1Wu-"
      }
    },
    {
      "cell_type": "markdown",
      "source": [
        "    order_statuses = {\n",
        "        \"12345\": \"Shipped\",\n",
        "        \"67890\": \"Processing\",\n",
        "        \"11223\": \"Delivered\"\n",
        "    }"
      ],
      "metadata": {
        "id": "bZ1EecdlAuiA"
      }
    },
    {
      "cell_type": "code",
      "source": [
        "model = genai.GenerativeModel(\n",
        "    model_name='gemini-1.5-flash-latest',\n",
        "    tools=[get_order_status, initiate_return, cancel_order]\n",
        ")\n",
        "\n",
        "chat = model.start_chat(enable_automatic_function_calling=True)"
      ],
      "metadata": {
        "id": "uaWgT_TF18kU"
      },
      "execution_count": null,
      "outputs": []
    },
    {
      "cell_type": "code",
      "source": [
        "response = chat.send_message(\"What is the status of order 12345? Also, can you cancel order 67890 and initiate a return for order 11223 because it is defective?\")"
      ],
      "metadata": {
        "id": "D03RPeE_z2i1"
      },
      "execution_count": null,
      "outputs": []
    },
    {
      "cell_type": "code",
      "source": [
        "response.text"
      ],
      "metadata": {
        "id": "e2Pxn9v01lRt",
        "outputId": "9831586e-e629-415c-be2f-4066650f3a4b",
        "colab": {
          "base_uri": "https://localhost:8080/",
          "height": 35
        }
      },
      "execution_count": null,
      "outputs": [
        {
          "output_type": "execute_result",
          "data": {
            "text/plain": [
              "'The status of order 12345 is Shipped. Order 67890 has been canceled successfully. A return has been initiated for order 11223 due to it being defective. \\n'"
            ],
            "application/vnd.google.colaboratory.intrinsic+json": {
              "type": "string"
            }
          },
          "metadata": {},
          "execution_count": 35
        }
      ]
    },
    {
      "cell_type": "markdown",
      "source": [
        "### How many functions it can handle"
      ],
      "metadata": {
        "id": "mRK54Lic4EOx"
      }
    },
    {
      "cell_type": "code",
      "source": [
        "def get_order_status(order_id: str) -> str:\n",
        "    \"\"\"Fetches the status of a given order ID.\"\"\"\n",
        "    # Mock data for example purposes\n",
        "    order_statuses = {\n",
        "        \"12345\": \"Shipped\",\n",
        "        \"67890\": \"Processing\",\n",
        "        \"11223\": \"Delivered\"\n",
        "    }\n",
        "    return order_statuses.get(order_id, \"Order ID not found.\")\n",
        "\n",
        "def initiate_return(order_id: str, reason: str) -> str:\n",
        "    \"\"\"Initiates a return for a given order ID with a specified reason.\"\"\"\n",
        "    # Mock data for example purposes\n",
        "    if order_id in [\"12345\", \"67890\", \"11223\"]:\n",
        "        return f\"Return initiated for order {order_id} due to: {reason}.\"\n",
        "    else:\n",
        "        return \"Order ID not found. Cannot initiate return.\"\n",
        "\n",
        "def cancel_order(order_id: str) -> str:\n",
        "    \"\"\"Cancels a given order ID if possible.\"\"\"\n",
        "    # Mock data for example purposes\n",
        "    order_statuses = {\n",
        "        \"12345\": \"Shipped\",\n",
        "        \"67890\": \"Processing\",\n",
        "        \"11223\": \"Delivered\"\n",
        "    }\n",
        "    if order_id in order_statuses:\n",
        "        if order_statuses[order_id] == \"Processing\":\n",
        "            return f\"Order {order_id} has been canceled successfully.\"\n",
        "        else:\n",
        "            return f\"Order {order_id} cannot be canceled as it is already {order_statuses[order_id]}.\"\n",
        "    else:\n",
        "        return \"Order ID not found. Cannot cancel order.\"\n",
        "\n",
        "def update_shipping_address(order_id: str, new_address: str) -> str:\n",
        "    \"\"\"Updates the shipping address for a given order ID.\"\"\"\n",
        "    # Mock data for example purposes\n",
        "    if order_id in [\"12345\", \"67890\", \"11223\"]:\n",
        "        return f\"Shipping address for order {order_id} has been updated to: {new_address}.\"\n",
        "    else:\n",
        "        return \"Order ID not found. Cannot update shipping address.\"\n",
        "\n",
        "def track_shipment(tracking_number: str) -> str:\n",
        "    \"\"\"Tracks the shipment with the given tracking number.\"\"\"\n",
        "    # Mock data for example purposes\n",
        "    tracking_info = {\n",
        "        \"TRACK123\": \"In Transit\",\n",
        "        \"TRACK456\": \"Delivered\",\n",
        "        \"TRACK789\": \"Out for Delivery\"\n",
        "    }\n",
        "    return tracking_info.get(tracking_number, \"Tracking number not found.\")\n",
        "\n",
        "def apply_discount(order_id: str, discount_code: str) -> str:\n",
        "    \"\"\"Applies a discount to the given order ID.\"\"\"\n",
        "    # Mock data for example purposes\n",
        "    valid_discount_codes = [\"DISCOUNT10\", \"SAVE20\"]\n",
        "    if order_id in [\"12345\", \"67890\", \"11223\"]:\n",
        "        if discount_code in valid_discount_codes:\n",
        "            return f\"Discount code {discount_code} applied to order {order_id}.\"\n",
        "        else:\n",
        "            return f\"Invalid discount code: {discount_code}.\"\n",
        "    else:\n",
        "        return \"Order ID not found. Cannot apply discount.\"\n",
        "\n",
        "def change_payment_method(order_id: str, payment_method: str) -> str:\n",
        "    \"\"\"Changes the payment method for a given order ID.\"\"\"\n",
        "    # Mock data for example purposes\n",
        "    if order_id in [\"12345\", \"67890\", \"11223\"]:\n",
        "        return f\"Payment method for order {order_id} has been changed to: {payment_method}.\"\n",
        "    else:\n",
        "        return \"Order ID not found. Cannot change payment method.\"\n",
        "\n",
        "def provide_invoice(order_id: str) -> str:\n",
        "    \"\"\"Provides an invoice for the given order ID.\"\"\"\n",
        "    # Mock data for example purposes\n",
        "    if order_id in [\"12345\", \"67890\", \"11223\"]:\n",
        "        return f\"Invoice for order {order_id} has been sent to your email.\"\n",
        "    else:\n",
        "        return \"Order ID not found. Cannot provide invoice.\"\n",
        "\n",
        "def extend_warranty(order_id: str, years: int) -> str:\n",
        "    \"\"\"Extends the warranty for a given order ID.\"\"\"\n",
        "    # Mock data for example purposes\n",
        "    if order_id in [\"12345\", \"67890\", \"11223\"]:\n",
        "        return f\"Warranty for order {order_id} has been extended by {years} years.\"\n",
        "    else:\n",
        "        return \"Order ID not found. Cannot extend warranty.\"\n",
        "\n",
        "def check_product_availability(product_id: str) -> str:\n",
        "    \"\"\"Checks the availability of a product with the given product ID.\"\"\"\n",
        "    # Mock data for example purposes\n",
        "    product_availability = {\n",
        "        \"PROD123\": \"In Stock\",\n",
        "        \"PROD456\": \"Out of Stock\",\n",
        "        \"PROD789\": \"Limited Stock\"\n",
        "    }\n",
        "    return product_availability.get(product_id, \"Product ID not found.\")"
      ],
      "metadata": {
        "id": "5Xdtyi-e1rjc"
      },
      "execution_count": null,
      "outputs": []
    },
    {
      "cell_type": "code",
      "source": [
        "model = genai.GenerativeModel(\n",
        "    model_name='gemini-1.5-flash-latest',\n",
        "    tools=[\n",
        "        get_order_status, initiate_return, cancel_order, update_shipping_address,\n",
        "        track_shipment, apply_discount, change_payment_method, provide_invoice,\n",
        "        extend_warranty, check_product_availability\n",
        "    ]\n",
        ")"
      ],
      "metadata": {
        "id": "0ql98GZd4Hyk"
      },
      "execution_count": null,
      "outputs": []
    },
    {
      "cell_type": "code",
      "source": [
        "chat = model.start_chat()"
      ],
      "metadata": {
        "id": "BMvZf-1K4NIx"
      },
      "execution_count": null,
      "outputs": []
    },
    {
      "cell_type": "code",
      "source": [
        "response = chat.send_message(\"What is the status of order 12345? Can you update the address to 123 Main St, Anytown USA?\")\n",
        "# response.text"
      ],
      "metadata": {
        "id": "H4RqFGsn4OxL"
      },
      "execution_count": null,
      "outputs": []
    },
    {
      "cell_type": "code",
      "source": [
        "response.candidates"
      ],
      "metadata": {
        "id": "Kv1MuYaiCAxW",
        "outputId": "41d8cd34-e494-4321-ff06-14eef2cd3dcc",
        "colab": {
          "base_uri": "https://localhost:8080/"
        }
      },
      "execution_count": null,
      "outputs": [
        {
          "output_type": "execute_result",
          "data": {
            "text/plain": [
              "[content {\n",
              "  parts {\n",
              "    function_call {\n",
              "      name: \"get_order_status\"\n",
              "      args {\n",
              "        fields {\n",
              "          key: \"order_id\"\n",
              "          value {\n",
              "            string_value: \"12345\"\n",
              "          }\n",
              "        }\n",
              "      }\n",
              "    }\n",
              "  }\n",
              "  parts {\n",
              "    function_call {\n",
              "      name: \"update_shipping_address\"\n",
              "      args {\n",
              "        fields {\n",
              "          key: \"new_address\"\n",
              "          value {\n",
              "            string_value: \"123 Main St, Anytown USA\"\n",
              "          }\n",
              "        }\n",
              "        fields {\n",
              "          key: \"order_id\"\n",
              "          value {\n",
              "            string_value: \"12345\"\n",
              "          }\n",
              "        }\n",
              "      }\n",
              "    }\n",
              "  }\n",
              "  role: \"model\"\n",
              "}\n",
              "finish_reason: STOP\n",
              "index: 0\n",
              "safety_ratings {\n",
              "  category: HARM_CATEGORY_HATE_SPEECH\n",
              "  probability: NEGLIGIBLE\n",
              "}\n",
              "safety_ratings {\n",
              "  category: HARM_CATEGORY_SEXUALLY_EXPLICIT\n",
              "  probability: NEGLIGIBLE\n",
              "}\n",
              "safety_ratings {\n",
              "  category: HARM_CATEGORY_HARASSMENT\n",
              "  probability: NEGLIGIBLE\n",
              "}\n",
              "safety_ratings {\n",
              "  category: HARM_CATEGORY_DANGEROUS_CONTENT\n",
              "  probability: NEGLIGIBLE\n",
              "}\n",
              "]"
            ]
          },
          "metadata": {},
          "execution_count": 40
        }
      ]
    },
    {
      "cell_type": "code",
      "source": [
        "# Print out each of the function calls requested from this single call.\n",
        "for part in response.parts:\n",
        "    if fn := part.function_call:\n",
        "        args = \", \".join(f\"{key}={val}\" for key, val in fn.args.items())\n",
        "        print(f\"{fn.name}({args})\")"
      ],
      "metadata": {
        "id": "LlYZuqS34Vux",
        "outputId": "fccb167d-b200-40ee-cfc3-3956d2eb4f1f",
        "colab": {
          "base_uri": "https://localhost:8080/"
        }
      },
      "execution_count": null,
      "outputs": [
        {
          "output_type": "stream",
          "name": "stdout",
          "text": [
            "get_order_status(order_id=12345)\n",
            "update_shipping_address(order_id=12345, new_address=123 Main St, Anytown USA)\n"
          ]
        }
      ]
    },
    {
      "cell_type": "code",
      "source": [
        "responses = {\n",
        "    'get_order_status': get_order_status(order_id=\"12345\"),\n",
        "    'update_shipping_address': update_shipping_address(order_id=\"12345\", new_address=\"123 Main St, Anytown USA\")\n",
        "}"
      ],
      "metadata": {
        "id": "mw_3MAsPEZNz"
      },
      "execution_count": null,
      "outputs": []
    },
    {
      "cell_type": "code",
      "source": [
        "get_order_status(order_id=\"12345\")"
      ],
      "metadata": {
        "id": "6VnX_ro6FbXh",
        "outputId": "8c987fef-efc9-4b4c-87a8-8650ef96dd66",
        "colab": {
          "base_uri": "https://localhost:8080/",
          "height": 35
        }
      },
      "execution_count": null,
      "outputs": [
        {
          "output_type": "execute_result",
          "data": {
            "text/plain": [
              "'Shipped'"
            ],
            "application/vnd.google.colaboratory.intrinsic+json": {
              "type": "string"
            }
          },
          "metadata": {},
          "execution_count": 43
        }
      ]
    },
    {
      "cell_type": "code",
      "source": [
        "# Build the response parts.\n",
        "response_parts = [\n",
        "    glm.Part(function_response=glm.FunctionResponse(name=fn, response={\"result\": val}))\n",
        "    for fn, val in responses.items()\n",
        "]\n",
        "\n",
        "responses = chat.send_message(response_parts)\n",
        "print(responses.text)"
      ],
      "metadata": {
        "id": "sqvk1ZUG65rq",
        "outputId": "f177dca7-1865-4fad-a772-98313fc7c2e8",
        "colab": {
          "base_uri": "https://localhost:8080/",
          "height": 53
        }
      },
      "execution_count": null,
      "outputs": [
        {
          "output_type": "stream",
          "name": "stdout",
          "text": [
            "The order is currently shipped. I've updated the shipping address to 123 Main St, Anytown USA. \n",
            "\n"
          ]
        }
      ]
    },
    {
      "cell_type": "code",
      "source": [],
      "metadata": {
        "id": "CRrTSpCMGzDs"
      },
      "execution_count": null,
      "outputs": []
    }
  ],
  "metadata": {
    "colab": {
      "provenance": []
    },
    "google": {
      "image_path": "/site-assets/images/share.png",
      "keywords": [
        "examples",
        "googleai",
        "samplecode",
        "python",
        "embed",
        "function"
      ]
    },
    "kernelspec": {
      "display_name": "Python 3",
      "name": "python3"
    }
  },
  "nbformat": 4,
  "nbformat_minor": 0
}