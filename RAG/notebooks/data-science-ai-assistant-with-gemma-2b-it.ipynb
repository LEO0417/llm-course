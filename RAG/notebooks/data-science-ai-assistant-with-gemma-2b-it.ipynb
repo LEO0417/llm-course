{
 "cells": [
  {
   "cell_type": "markdown",
   "id": "cf7ac60f",
   "metadata": {
    "papermill": {
     "duration": 0.014825,
     "end_time": "2024-03-17T00:17:15.760734",
     "exception": false,
     "start_time": "2024-03-17T00:17:15.745909",
     "status": "completed"
    },
    "tags": []
   },
   "source": [
    "# Data Science AI Assistant with Gemma 2b-it"
   ]
  },
  {
   "cell_type": "markdown",
   "id": "cbc49690",
   "metadata": {
    "papermill": {
     "duration": 0.013837,
     "end_time": "2024-03-17T00:17:15.788665",
     "exception": false,
     "start_time": "2024-03-17T00:17:15.774828",
     "status": "completed"
    },
    "tags": []
   },
   "source": [
    "For the Kaggle competition **\"Google – AI Assistants for Data Tasks with Gemma,\"** I've prepared this AI Assistant that can accomplish the task of **\"Explaining or teaching basic data science concepts,\"** as required by the competition.\n",
    "\n",
    "This project is also an occasion to explain how a basic **retrieval-augmented generation (RAG)** system works, by showing the role of the data, which constitutes the backbone of the system, the function of embeddings and distance measures, how to retrieve relevant information for the task of answering a question, and how to process such information by first using a distillation prompt and then assembling the answer required by the user in a meaningful and useful way.\n",
    "\n",
    "In this project, the lion's share is done by **Gemma**, the state-of-the-art open LLM model released by Google, in its 2b-it implementation, the smallest in terms of parameters. Gemma is not the only Google technology presented in the project because I also make use of **ScaNN** ([ScaNN Github repository](https://github.com/google-research/google-research/tree/master/scann)) for recalling the information. Apart from Gemma, ScaNN, and HuggingFace packages for transformers and embeddings, there are no ready-made solutions such as vector stores or RAG packages. You can actually see how everything works under the hood, and if you like it, reuse it for your own projects.\n",
    "\n"
   ]
  },
  {
   "cell_type": "markdown",
   "id": "88ada217",
   "metadata": {
    "papermill": {
     "duration": 0.014652,
     "end_time": "2024-03-17T00:17:15.817373",
     "exception": false,
     "start_time": "2024-03-17T00:17:15.802721",
     "status": "completed"
    },
    "tags": []
   },
   "source": [
    "![AI with Gemma](https://th.bing.com/th/id/OIG2.MHcSMMiDt6p95N.mjds0?pid=ImgGn)"
   ]
  },
  {
   "cell_type": "markdown",
   "id": "9cb05c0f",
   "metadata": {
    "papermill": {
     "duration": 0.013964,
     "end_time": "2024-03-17T00:17:15.845191",
     "exception": false,
     "start_time": "2024-03-17T00:17:15.831227",
     "status": "completed"
    },
    "tags": []
   },
   "source": [
    "# 1. What is a RAG and how it can help to explain or teach basic data science concepts"
   ]
  },
  {
   "cell_type": "markdown",
   "id": "193f9d29",
   "metadata": {
    "papermill": {
     "duration": 0.01371,
     "end_time": "2024-03-17T00:17:15.872837",
     "exception": false,
     "start_time": "2024-03-17T00:17:15.859127",
     "status": "completed"
    },
    "tags": []
   },
   "source": [
    "A **Retrieval-Augmented Generation (RAG)** is a solution that improves text generation of a large language model by integrating its answers using some kind of external knowledge retrieval.\n",
    "\n",
    "Hence, it combines a **retriever** to fetch relevant information and a **generator** to produce accurate responses based on this retrieved knowledge. Basically, it is just like first doing a search engine query (the retriever), getting the best answers, and then asking a large language model such as **Gemma** or **Gemini** to process the information (generator) to answer an initial question.\n",
    "\n",
    "Such an approach ensures AI models have access to up-to-date and relevant facts, improving the quality and reliability of their generated text, especially in tasks like question-answering where factual accuracy is crucial and LLMs are infamous for sometimes coming up with made-up information (hallucinations).\n",
    "\n",
    "In this case, **Google Gemma** seems already quite apt at answering basic questions about data science, but the idea is to further improve its competencies by providing it reliable information about AI, statistics, machine learning, and data science in general."
   ]
  },
  {
   "cell_type": "markdown",
   "id": "435a9ef5",
   "metadata": {
    "papermill": {
     "duration": 0.01368,
     "end_time": "2024-03-17T00:17:15.900422",
     "exception": false,
     "start_time": "2024-03-17T00:17:15.886742",
     "status": "completed"
    },
    "tags": []
   },
   "source": [
    "# 2. Setting up the necessary stuff"
   ]
  },
  {
   "cell_type": "markdown",
   "id": "b0052df9",
   "metadata": {
    "papermill": {
     "duration": 0.013798,
     "end_time": "2024-03-17T00:17:15.928076",
     "exception": false,
     "start_time": "2024-03-17T00:17:15.914278",
     "status": "completed"
    },
    "tags": []
   },
   "source": [
    "In the first cell of this notebook, some key packages for the project are installed or updated to the latest version:\n",
    "\n",
    "1. The first command installs or upgrades the **torch** package quietly, specifying version compatibility for CUDA 11.7 from the PyTorch repository.\n",
    "2. The second command installs or upgrades the **transformers** package to version **4.38.2**, a popular library for natural language processing tasks.\n",
    "3. The third command installs the **accelerate** package, which is used for optimizing machine learning training pipelines.\n",
    "4. The fourth command installs the **bitsandbytes** package from the specified index URL, potentially a custom or private package repository.\n",
    "5. The fifth command installs or upgrades the **sentence_transformers** package, known for providing pre-trained models for sentence embeddings.\n",
    "6. The sixth command installs or upgrades the **scann** package, likely used for approximate nearest neighbor search implementations.\n",
    "7. The seventh command installs or upgrades the **wikipedia-api** package, which provides an interface to interact with Wikipedia data programmatically.\n"
   ]
  },
  {
   "cell_type": "code",
   "execution_count": 1,
   "id": "4e679c89",
   "metadata": {
    "execution": {
     "iopub.execute_input": "2024-03-17T00:17:15.968239Z",
     "iopub.status.busy": "2024-03-17T00:17:15.967858Z",
     "iopub.status.idle": "2024-03-17T00:20:02.469920Z",
     "shell.execute_reply": "2024-03-17T00:20:02.468771Z"
    },
    "papermill": {
     "duration": 166.530303,
     "end_time": "2024-03-17T00:20:02.472371",
     "exception": false,
     "start_time": "2024-03-17T00:17:15.942068",
     "status": "completed"
    },
    "tags": []
   },
   "outputs": [
    {
     "name": "stdout",
     "output_type": "stream",
     "text": [
      "\u001b[31mERROR: pip's dependency resolver does not currently take into account all the packages that are installed. This behaviour is the source of the following dependency conflicts.\r\n",
      "cudf 23.8.0 requires cubinlinker, which is not installed.\r\n",
      "cudf 23.8.0 requires cupy-cuda11x>=12.0.0, which is not installed.\r\n",
      "cudf 23.8.0 requires ptxcompiler, which is not installed.\r\n",
      "cuml 23.8.0 requires cupy-cuda11x>=12.0.0, which is not installed.\r\n",
      "dask-cudf 23.8.0 requires cupy-cuda11x>=12.0.0, which is not installed.\r\n",
      "keras-nlp 0.8.1 requires keras-core, which is not installed.\r\n",
      "tensorflow-decision-forests 1.8.1 requires wurlitzer, which is not installed.\r\n",
      "sqlalchemy 2.0.25 requires typing-extensions>=4.6.0, but you have typing-extensions 4.5.0 which is incompatible.\r\n",
      "albumentations 1.4.0 requires numpy>=1.24.4, but you have numpy 1.24.3 which is incompatible.\r\n",
      "apache-beam 2.46.0 requires dill<0.3.2,>=0.3.1.1, but you have dill 0.3.8 which is incompatible.\r\n",
      "apache-beam 2.46.0 requires pyarrow<10.0.0,>=3.0.0, but you have pyarrow 11.0.0 which is incompatible.\r\n",
      "cudf 23.8.0 requires cuda-python<12.0a0,>=11.7.1, but you have cuda-python 12.3.0 which is incompatible.\r\n",
      "cudf 23.8.0 requires pandas<1.6.0dev0,>=1.3, but you have pandas 2.1.4 which is incompatible.\r\n",
      "cudf 23.8.0 requires protobuf<5,>=4.21, but you have protobuf 3.20.3 which is incompatible.\r\n",
      "cuml 23.8.0 requires dask==2023.7.1, but you have dask 2024.2.0 which is incompatible.\r\n",
      "dask-cuda 23.8.0 requires dask==2023.7.1, but you have dask 2024.2.0 which is incompatible.\r\n",
      "dask-cuda 23.8.0 requires pandas<1.6.0dev0,>=1.3, but you have pandas 2.1.4 which is incompatible.\r\n",
      "dask-cudf 23.8.0 requires dask==2023.7.1, but you have dask 2024.2.0 which is incompatible.\r\n",
      "dask-cudf 23.8.0 requires pandas<1.6.0dev0,>=1.3, but you have pandas 2.1.4 which is incompatible.\r\n",
      "fastapi 0.108.0 requires typing-extensions>=4.8.0, but you have typing-extensions 4.5.0 which is incompatible.\r\n",
      "gcsfs 2023.12.2.post1 requires fsspec==2023.12.2, but you have fsspec 2024.2.0 which is incompatible.\r\n",
      "jupyterlab 4.1.2 requires jupyter-lsp>=2.0.0, but you have jupyter-lsp 1.5.1 which is incompatible.\r\n",
      "jupyterlab-lsp 5.0.3 requires jupyter-lsp>=2.0.0, but you have jupyter-lsp 1.5.1 which is incompatible.\r\n",
      "libpysal 4.9.2 requires packaging>=22, but you have packaging 21.3 which is incompatible.\r\n",
      "libpysal 4.9.2 requires shapely>=2.0.1, but you have shapely 1.8.5.post1 which is incompatible.\r\n",
      "momepy 0.7.0 requires shapely>=2, but you have shapely 1.8.5.post1 which is incompatible.\r\n",
      "osmnx 1.9.1 requires shapely>=2.0, but you have shapely 1.8.5.post1 which is incompatible.\r\n",
      "pydantic 2.5.3 requires typing-extensions>=4.6.1, but you have typing-extensions 4.5.0 which is incompatible.\r\n",
      "pydantic-core 2.14.6 requires typing-extensions!=4.7.0,>=4.6.0, but you have typing-extensions 4.5.0 which is incompatible.\r\n",
      "pylibraft 23.8.0 requires cuda-python<12.0a0,>=11.7.1, but you have cuda-python 12.3.0 which is incompatible.\r\n",
      "raft-dask 23.8.0 requires dask==2023.7.1, but you have dask 2024.2.0 which is incompatible.\r\n",
      "rmm 23.8.0 requires cuda-python<12.0a0,>=11.7.1, but you have cuda-python 12.3.0 which is incompatible.\r\n",
      "spopt 0.6.0 requires shapely>=2.0.1, but you have shapely 1.8.5.post1 which is incompatible.\r\n",
      "tensorflow-decision-forests 1.8.1 requires tensorflow~=2.15.0, but you have tensorflow 2.13.1 which is incompatible.\r\n",
      "tensorflow-serving-api 2.14.1 requires tensorflow<3,>=2.14.1, but you have tensorflow 2.13.1 which is incompatible.\r\n",
      "tensorflow-text 2.15.0 requires tensorflow<2.16,>=2.15.0; platform_machine != \"arm64\" or platform_system != \"Darwin\", but you have tensorflow 2.13.1 which is incompatible.\r\n",
      "tensorstore 0.1.53 requires ml-dtypes>=0.3.1, but you have ml-dtypes 0.2.0 which is incompatible.\r\n",
      "typeguard 4.1.5 requires typing-extensions>=4.7.0; python_version < \"3.12\", but you have typing-extensions 4.5.0 which is incompatible.\r\n",
      "woodwork 0.28.0 requires numpy<2.0.0,>=1.25.0, but you have numpy 1.24.3 which is incompatible.\r\n",
      "xarray 2024.2.0 requires packaging>=22, but you have packaging 21.3 which is incompatible.\u001b[0m\u001b[31m\r\n",
      "\u001b[0m"
     ]
    }
   ],
   "source": [
    "!pip install -q -U torch --index-url https://download.pytorch.org/whl/cu117\n",
    "!pip install -q -U transformers==\"4.38.2\"\n",
    "!pip install -q accelerate\n",
    "!pip install -q -i https://pypi.org/simple/ bitsandbytes\n",
    "!pip install -q -U sentence_transformers\n",
    "!pip install -q -U scann\n",
    "!pip install -q -U wikipedia-api"
   ]
  },
  {
   "cell_type": "markdown",
   "id": "879e672a",
   "metadata": {
    "papermill": {
     "duration": 0.014904,
     "end_time": "2024-03-17T00:20:02.502859",
     "exception": false,
     "start_time": "2024-03-17T00:20:02.487955",
     "status": "completed"
    },
    "tags": []
   },
   "source": [
    "In the next cell, the code uses the **os** module to set some environment variables. The first line sets the **CUDA_VISIBLE_DEVICES** variable to \"0,\" which instructs CUDA-enabled applications to use only the GPU with index 0 for computation, useful for managing GPU resources in multi-GPU systems. The second line sets **TOKENIZERS_PARALLELISM** to \"false,\" disabling parallelism in the Hugging Face Tokenizers library, potentially useful for troubleshooting or ensuring single-threaded execution. These environment variable configurations help control GPU usage and tokenizer behavior within the Python environment where this code is executed."
   ]
  },
  {
   "cell_type": "code",
   "execution_count": 2,
   "id": "f20036c0",
   "metadata": {
    "execution": {
     "iopub.execute_input": "2024-03-17T00:20:02.535056Z",
     "iopub.status.busy": "2024-03-17T00:20:02.534666Z",
     "iopub.status.idle": "2024-03-17T00:20:02.539849Z",
     "shell.execute_reply": "2024-03-17T00:20:02.538918Z"
    },
    "papermill": {
     "duration": 0.023924,
     "end_time": "2024-03-17T00:20:02.541849",
     "exception": false,
     "start_time": "2024-03-17T00:20:02.517925",
     "status": "completed"
    },
    "tags": []
   },
   "outputs": [],
   "source": [
    "import os\n",
    "os.environ[\"CUDA_VISIBLE_DEVICES\"] = \"0\"\n",
    "os.environ[\"TOKENIZERS_PARALLELISM\"] = \"false\""
   ]
  },
  {
   "cell_type": "markdown",
   "id": "cbe25dca",
   "metadata": {
    "papermill": {
     "duration": 0.014847,
     "end_time": "2024-03-17T00:20:02.571834",
     "exception": false,
     "start_time": "2024-03-17T00:20:02.556987",
     "status": "completed"
    },
    "tags": []
   },
   "source": [
    "Moreover, since warnings may occur when using new versions of Python packages (aligning versions is often a task in itself), the following cell imports the **warnings** package and suppresses warnings during this session."
   ]
  },
  {
   "cell_type": "code",
   "execution_count": 3,
   "id": "ae28a65e",
   "metadata": {
    "execution": {
     "iopub.execute_input": "2024-03-17T00:20:02.601557Z",
     "iopub.status.busy": "2024-03-17T00:20:02.601232Z",
     "iopub.status.idle": "2024-03-17T00:20:02.605412Z",
     "shell.execute_reply": "2024-03-17T00:20:02.604541Z"
    },
    "papermill": {
     "duration": 0.021484,
     "end_time": "2024-03-17T00:20:02.607437",
     "exception": false,
     "start_time": "2024-03-17T00:20:02.585953",
     "status": "completed"
    },
    "tags": []
   },
   "outputs": [],
   "source": [
    "import warnings\n",
    "warnings.filterwarnings(\"ignore\")"
   ]
  },
  {
   "cell_type": "markdown",
   "id": "2279498f",
   "metadata": {
    "papermill": {
     "duration": 0.014432,
     "end_time": "2024-03-17T00:20:02.637565",
     "exception": false,
     "start_time": "2024-03-17T00:20:02.623133",
     "status": "completed"
    },
    "tags": []
   },
   "source": [
    "In the next cell, the notebook loads Python libraries and modules for natural language processing tasks. It also includes libraries like **re** for regular expressions, **numpy** and **pandas** for data manipulation, **tqdm** for progress bars, **scann** for approximate nearest neighbor search, and **wikipediaapi** for accessing Wikipedia content (yes, we are going to use Wikipedia as a knowledge base).\n"
   ]
  },
  {
   "cell_type": "code",
   "execution_count": 4,
   "id": "5581da5b",
   "metadata": {
    "execution": {
     "iopub.execute_input": "2024-03-17T00:20:02.666989Z",
     "iopub.status.busy": "2024-03-17T00:20:02.666698Z",
     "iopub.status.idle": "2024-03-17T00:20:13.811947Z",
     "shell.execute_reply": "2024-03-17T00:20:13.811001Z"
    },
    "papermill": {
     "duration": 11.162671,
     "end_time": "2024-03-17T00:20:13.814313",
     "exception": false,
     "start_time": "2024-03-17T00:20:02.651642",
     "status": "completed"
    },
    "tags": []
   },
   "outputs": [],
   "source": [
    "import re\n",
    "import numpy as np\n",
    "import pandas as pd\n",
    "from tqdm import tqdm\n",
    "import scann\n",
    "import wikipediaapi\n",
    "\n",
    "import torch\n",
    "\n",
    "import transformers\n",
    "from transformers import (AutoModelForCausalLM, \n",
    "                          AutoTokenizer, \n",
    "                          BitsAndBytesConfig,\n",
    "                         )\n",
    "from sentence_transformers import SentenceTransformer\n",
    "import bitsandbytes as bnb"
   ]
  },
  {
   "cell_type": "markdown",
   "id": "e7bf8ab9",
   "metadata": {
    "papermill": {
     "duration": 0.013962,
     "end_time": "2024-03-17T00:20:13.843092",
     "exception": false,
     "start_time": "2024-03-17T00:20:13.829130",
     "status": "completed"
    },
    "tags": []
   },
   "source": [
    "# 3. Proceeding by building blocks"
   ]
  },
  {
   "cell_type": "markdown",
   "id": "efa89274",
   "metadata": {
    "papermill": {
     "duration": 0.013837,
     "end_time": "2024-03-17T00:20:13.871088",
     "exception": false,
     "start_time": "2024-03-17T00:20:13.857251",
     "status": "completed"
    },
    "tags": []
   },
   "source": [
    "Before proceeding with the notebook, it is necessary to spend a word about how I will proceed in building the solution in a way that can be clear, easily explainable, and both reusable as well as hackable."
   ]
  },
  {
   "cell_type": "markdown",
   "id": "e62ff27e",
   "metadata": {
    "papermill": {
     "duration": 0.013788,
     "end_time": "2024-03-17T00:20:13.898912",
     "exception": false,
     "start_time": "2024-03-17T00:20:13.885124",
     "status": "completed"
    },
    "tags": []
   },
   "source": [
    "The AI assistant will simply be a class containing all you need for it to work and with methods for changing some settings (such as the temperature, which corresponds to its creativity, or the impersonated role, which influences how it responds) and for asking questions.\n",
    "\n",
    "All the internal functions, however, are external, hence they are easier to present as stand-alone code snippets, easily reusable for different purposes or projects, and easily upgradable or hackable. Because as you change an external function, you immediately change the behavior of the class, without having to reinstantiate it again (it actually takes some time to re-index all the knowledge base, which may prevent some fast experimentation).\n"
   ]
  },
  {
   "cell_type": "markdown",
   "id": "95989f1e",
   "metadata": {
    "papermill": {
     "duration": 0.013825,
     "end_time": "2024-03-17T00:20:13.926830",
     "exception": false,
     "start_time": "2024-03-17T00:20:13.913005",
     "status": "completed"
    },
    "tags": []
   },
   "source": [
    "Here, as a first piece of code, the next cell presents a function that returns the device where to map the model and the data when working with the PyTorch library (used by the HF packages). It works with a **CPU-based** computer, a **GPU** one, and with a **macOS with MPS**."
   ]
  },
  {
   "cell_type": "code",
   "execution_count": 5,
   "id": "2b3b500b",
   "metadata": {
    "execution": {
     "iopub.execute_input": "2024-03-17T00:20:13.956586Z",
     "iopub.status.busy": "2024-03-17T00:20:13.955951Z",
     "iopub.status.idle": "2024-03-17T00:20:13.962822Z",
     "shell.execute_reply": "2024-03-17T00:20:13.962049Z"
    },
    "papermill": {
     "duration": 0.023841,
     "end_time": "2024-03-17T00:20:13.964590",
     "exception": false,
     "start_time": "2024-03-17T00:20:13.940749",
     "status": "completed"
    },
    "tags": []
   },
   "outputs": [],
   "source": [
    "def define_device():\n",
    "    \"\"\"Define the device to be used by PyTorch\"\"\"\n",
    "\n",
    "    # Get the PyTorch version\n",
    "    torch_version = torch.__version__\n",
    "\n",
    "    # Print the PyTorch version\n",
    "    print(f\"PyTorch version: {torch_version}\", end=\" -- \")\n",
    "\n",
    "    # Check if MPS (Multi-Process Service) device is available on MacOS\n",
    "    if torch.backends.mps.is_available():\n",
    "        # If MPS is available, print a message indicating its usage\n",
    "        print(\"using MPS device on MacOS\")\n",
    "        # Define the device as MPS\n",
    "        defined_device = torch.device(\"mps\")\n",
    "    else:\n",
    "        # If MPS is not available, determine the device based on GPU availability\n",
    "        defined_device = torch.device(\"cuda\" if torch.cuda.is_available() else \"cpu\")\n",
    "        # Print a message indicating the selected device\n",
    "        print(f\"using {defined_device}\")\n",
    "\n",
    "    # Return the defined device\n",
    "    return defined_device\n"
   ]
  },
  {
   "cell_type": "markdown",
   "id": "2b3f27d7",
   "metadata": {
    "papermill": {
     "duration": 0.013799,
     "end_time": "2024-03-17T00:20:13.992444",
     "exception": false,
     "start_time": "2024-03-17T00:20:13.978645",
     "status": "completed"
    },
    "tags": []
   },
   "source": [
    "The next cells, instead, present two functions designed to operate using the **SentenceTransformers** package ([the package home page](https://www.sbert.net/index.html)), that can operate with lists of text and map them into embeddings.\n"
   ]
  },
  {
   "cell_type": "markdown",
   "id": "927fd4fe",
   "metadata": {
    "papermill": {
     "duration": 0.013837,
     "end_time": "2024-03-17T00:20:14.067466",
     "exception": false,
     "start_time": "2024-03-17T00:20:14.053629",
     "status": "completed"
    },
    "tags": []
   },
   "source": [
    "Embeddings, such as those processed by packages like **SentenceTransformers**, are representations of text or sentences in a numerical form that capture their semantic meaning. These embeddings are created by transforming words or sentences into high-dimensional vectors, where similar vectors represent similar meanings."
   ]
  },
  {
   "cell_type": "markdown",
   "id": "4b8e5880",
   "metadata": {
    "papermill": {
     "duration": 0.013801,
     "end_time": "2024-03-17T00:20:14.095310",
     "exception": false,
     "start_time": "2024-03-17T00:20:14.081509",
     "status": "completed"
    },
    "tags": []
   },
   "source": [
    "In the context of **SentenceTransformers**, these embeddings are generated using models like BERT or XLNet that have been fine-tuned to produce meaningful sentence representations. These embeddings can be used for various tasks like clustering, semantic textual similarity, and information retrieval (in our project we actually need a retrieval function) by comparing the vectors using metrics like cosine similarity."
   ]
  },
  {
   "cell_type": "code",
   "execution_count": 6,
   "id": "c4e39ad0",
   "metadata": {
    "execution": {
     "iopub.execute_input": "2024-03-17T00:20:14.125215Z",
     "iopub.status.busy": "2024-03-17T00:20:14.124591Z",
     "iopub.status.idle": "2024-03-17T00:20:14.131154Z",
     "shell.execute_reply": "2024-03-17T00:20:14.130321Z"
    },
    "papermill": {
     "duration": 0.023791,
     "end_time": "2024-03-17T00:20:14.133102",
     "exception": false,
     "start_time": "2024-03-17T00:20:14.109311",
     "status": "completed"
    },
    "tags": []
   },
   "outputs": [],
   "source": [
    "def get_embedding(text, embedding_model):\n",
    "    \"\"\"Get embeddings for a given text using the provided embedding model\"\"\"\n",
    "    \n",
    "    # Encode the text to obtain embeddings using the provided embedding model\n",
    "    embedding = embedding_model.encode(text, show_progress_bar=False)\n",
    "    \n",
    "    # Convert the embeddings to a list of floats and return\n",
    "    return embedding.tolist()\n",
    "\n",
    "def map2embeddings(data, embedding_model):\n",
    "    \"\"\"Map a list of texts to their embeddings using the provided embedding model\"\"\"\n",
    "    \n",
    "    # Initialize an empty list to store embeddings\n",
    "    embeddings = []\n",
    "\n",
    "    # Iterate over each text in the input data list\n",
    "    no_texts = len(data)\n",
    "    print(f\"Mapping {no_texts} pieces of information\")\n",
    "    for i in tqdm(range(no_texts)):\n",
    "        # Get embeddings for the current text using the provided embedding model\n",
    "        embeddings.append(get_embedding(data[i], embedding_model))\n",
    "    \n",
    "    # Return the list of embeddings\n",
    "    return embeddings"
   ]
  },
  {
   "cell_type": "markdown",
   "id": "2a79d74e",
   "metadata": {
    "papermill": {
     "duration": 0.013954,
     "end_time": "2024-03-17T00:20:14.161268",
     "exception": false,
     "start_time": "2024-03-17T00:20:14.147314",
     "status": "completed"
    },
    "tags": []
   },
   "source": [
    "The next cell contains a simple function capable of removing artifacts such as tokens, double asterisks, or spaces which sometimes appear in outputs from large language models.\n"
   ]
  },
  {
   "cell_type": "code",
   "execution_count": 7,
   "id": "e792c356",
   "metadata": {
    "execution": {
     "iopub.execute_input": "2024-03-17T00:20:14.191294Z",
     "iopub.status.busy": "2024-03-17T00:20:14.190597Z",
     "iopub.status.idle": "2024-03-17T00:20:14.195797Z",
     "shell.execute_reply": "2024-03-17T00:20:14.194893Z"
    },
    "papermill": {
     "duration": 0.022196,
     "end_time": "2024-03-17T00:20:14.197700",
     "exception": false,
     "start_time": "2024-03-17T00:20:14.175504",
     "status": "completed"
    },
    "tags": []
   },
   "outputs": [],
   "source": [
    "def clean_text(txt, EOS_TOKEN):\n",
    "    \"\"\"Clean text by removing specific tokens and redundant spaces\"\"\"\n",
    "    txt = (txt\n",
    "           .replace(EOS_TOKEN, \"\") # Replace the end-of-sentence token with an empty string\n",
    "           .replace(\"**\", \"\")      # Replace double asterisks with an empty string\n",
    "           .replace(\"<pad>\", \"\")   # Replace \"<pad>\" with an empty string\n",
    "           .replace(\"  \", \" \")     # Replace double spaces with single spaces\n",
    "          ).strip()                # Strip leading and trailing spaces from the text\n",
    "    return txt"
   ]
  },
  {
   "cell_type": "markdown",
   "id": "27bb8eb2",
   "metadata": {
    "papermill": {
     "duration": 0.014057,
     "end_time": "2024-03-17T00:20:14.225881",
     "exception": false,
     "start_time": "2024-03-17T00:20:14.211824",
     "status": "completed"
    },
    "tags": []
   },
   "source": [
    "The following function, instead, simply adds an indefinite article to a role name, something useful to make a prompt nicer and easier to read.\n"
   ]
  },
  {
   "cell_type": "code",
   "execution_count": 8,
   "id": "5e44a371",
   "metadata": {
    "execution": {
     "iopub.execute_input": "2024-03-17T00:20:14.255949Z",
     "iopub.status.busy": "2024-03-17T00:20:14.255631Z",
     "iopub.status.idle": "2024-03-17T00:20:14.260978Z",
     "shell.execute_reply": "2024-03-17T00:20:14.260091Z"
    },
    "papermill": {
     "duration": 0.02303,
     "end_time": "2024-03-17T00:20:14.262917",
     "exception": false,
     "start_time": "2024-03-17T00:20:14.239887",
     "status": "completed"
    },
    "tags": []
   },
   "outputs": [],
   "source": [
    "def add_indefinite_article(role_name):\n",
    "    \"\"\"Check if a role name has a determinative adjective before it, and if not, add the correct one\"\"\"\n",
    "    \n",
    "    # Check if the first word is a determinative adjective\n",
    "    determinative_adjectives = [\"a\", \"an\", \"the\"]\n",
    "    words = role_name.split()\n",
    "    if words[0].lower() not in determinative_adjectives:\n",
    "        # Use \"a\" or \"an\" based on the first letter of the role name\n",
    "        determinative_adjective = \"an\" if words[0][0].lower() in \"aeiou\" else \"a\"\n",
    "        role_name = f\"{determinative_adjective} {role_name}\"\n",
    "\n",
    "    return role_name"
   ]
  },
  {
   "cell_type": "markdown",
   "id": "6d3bbc39",
   "metadata": {
    "papermill": {
     "duration": 0.014243,
     "end_time": "2024-03-17T00:20:14.291356",
     "exception": false,
     "start_time": "2024-03-17T00:20:14.277113",
     "status": "completed"
    },
    "tags": []
   },
   "source": [
    "After the previous functions, mostly devoted to processing text for better readability, the next function helps to load and initialize Gemma by quantizing it to 4-bit, reducing its memory footprint and allowing for faster responses. Gemma is the core of our generative functions, making it a crucial element for processing information and returning it to the user in the most usable and useful form.\n"
   ]
  },
  {
   "cell_type": "markdown",
   "id": "0599fa99",
   "metadata": {
    "papermill": {
     "duration": 0.013819,
     "end_time": "2024-03-17T00:20:14.319298",
     "exception": false,
     "start_time": "2024-03-17T00:20:14.305479",
     "status": "completed"
    },
    "tags": []
   },
   "source": [
    "In short, the function `initialize_model` is designed to set up a 4-bit quantized causal language model (LLM) and tokenizer and configure them. It begins by defining the data type for computation as `float16`. Then, it creates a configuration for quantization using the `BitsAndBytesConfig` class with settings for 4-bit quantization. The function loads a pre-trained model (Gemma 2b-it in the project, but you can try also the 7b version) with the specified quantization configuration. It also loads a tokenizer with the selected device mapping and maximum sequence length settings. Finally, the function returns the initialized model and tokenizer, ready for use by our AI assistant.\n",
    "\n"
   ]
  },
  {
   "cell_type": "code",
   "execution_count": 9,
   "id": "94806b12",
   "metadata": {
    "execution": {
     "iopub.execute_input": "2024-03-17T00:20:14.348755Z",
     "iopub.status.busy": "2024-03-17T00:20:14.348445Z",
     "iopub.status.idle": "2024-03-17T00:20:14.354627Z",
     "shell.execute_reply": "2024-03-17T00:20:14.353713Z"
    },
    "papermill": {
     "duration": 0.023192,
     "end_time": "2024-03-17T00:20:14.356594",
     "exception": false,
     "start_time": "2024-03-17T00:20:14.333402",
     "status": "completed"
    },
    "tags": []
   },
   "outputs": [],
   "source": [
    "def initialize_model(model_name, device, max_seq_length):\n",
    "    \"\"\"Initialize a 4-bit quantized causal language model (LLM) and tokenizer with specified settings\"\"\"\n",
    "    \n",
    "    # Define the data type for computation\n",
    "    compute_dtype = getattr(torch, \"float16\")\n",
    "\n",
    "    # Define the configuration for quantization\n",
    "    bnb_config = BitsAndBytesConfig(\n",
    "        load_in_4bit=True,\n",
    "        bnb_4bit_use_double_quant=True,\n",
    "        bnb_4bit_quant_type=\"nf4\",\n",
    "        bnb_4bit_compute_dtype=compute_dtype,\n",
    "    )\n",
    "\n",
    "    # Load the pre-trained model with quantization configuration\n",
    "    model = AutoModelForCausalLM.from_pretrained(\n",
    "        model_name,\n",
    "        device_map=device,\n",
    "        quantization_config=bnb_config,\n",
    "    )\n",
    "\n",
    "    # Load the tokenizer with specified device and max_seq_length\n",
    "    tokenizer = AutoTokenizer.from_pretrained(\n",
    "        model_name,\n",
    "        device_map=device,\n",
    "        max_seq_length=max_seq_length\n",
    "    )\n",
    "    \n",
    "    # Return the initialized model and tokenizer\n",
    "    return model, tokenizer"
   ]
  },
  {
   "cell_type": "markdown",
   "id": "c6c4e132",
   "metadata": {
    "papermill": {
     "duration": 0.01397,
     "end_time": "2024-03-17T00:20:14.384782",
     "exception": false,
     "start_time": "2024-03-17T00:20:14.370812",
     "status": "completed"
    },
    "tags": []
   },
   "source": [
    "And here we arrive at the core of the generative functions (before we just initialized the generative engine, Gemma)."
   ]
  },
  {
   "cell_type": "markdown",
   "id": "b39558e9",
   "metadata": {
    "papermill": {
     "duration": 0.014023,
     "end_time": "2024-03-17T00:20:14.412826",
     "exception": false,
     "start_time": "2024-03-17T00:20:14.398803",
     "status": "completed"
    },
    "tags": []
   },
   "source": [
    "The first function, the `generate_text` function, processes text generation using a provided tokenizer and model with specified settings. It encodes the input prompt, determines if sampling should be performed based on a given temperature, generates text based on the prompt using the model, decodes the generated output into text, and returns a list of generated text results.\n"
   ]
  },
  {
   "cell_type": "markdown",
   "id": "6cc47da3",
   "metadata": {
    "papermill": {
     "duration": 0.013989,
     "end_time": "2024-03-17T00:20:14.440906",
     "exception": false,
     "start_time": "2024-03-17T00:20:14.426917",
     "status": "completed"
    },
    "tags": []
   },
   "source": [
    "The second function, the `generate_summary_and_answer` function, generates an answer for a given question using context from a dataset. It embeds the input question (using the `get_embedding` function we previously saw), finds similar contexts in the dataset, extracts relevant context based on similarity indices, generates prompts for summarizing the context and providing an answer, generates summaries and answers using the `generate_text` function, cleans the generated summary and answer, and returns the cleaned answer for further processing. These functions all work together in a sequence to generate informative responses starting from an input question and some knowledge base data previously provided.\n"
   ]
  },
  {
   "cell_type": "markdown",
   "id": "72ff12ee",
   "metadata": {
    "papermill": {
     "duration": 0.013868,
     "end_time": "2024-03-17T00:20:14.468739",
     "exception": false,
     "start_time": "2024-03-17T00:20:14.454871",
     "status": "completed"
    },
    "tags": []
   },
   "source": [
    "The two-step execution processing the information retrieved from the knowledge base is necessary because extraction based on embedded vectors sometimes returns irrelevant information. It is a problem based on the fact that embeddings are a mapping that has many facets (they are high-dimensional themselves) and that distance measures, and methods for finding what documents or text are most similar to your question, are often approximate for performance reasons resulting sometimes in unexpected retrieved results. First summarizing relevant information, a task that Gemma can execute with prowess, helps in having a shorter, more compact, and surely more relevant context to provide to the further processing by Gemma, which consists of writing an answer to your question.\n"
   ]
  },
  {
   "cell_type": "markdown",
   "id": "e90f278c",
   "metadata": {
    "papermill": {
     "duration": 0.013849,
     "end_time": "2024-03-17T00:20:14.496738",
     "exception": false,
     "start_time": "2024-03-17T00:20:14.482889",
     "status": "completed"
    },
    "tags": []
   },
   "source": [
    "In this process, temperature, the level of creativity, and the role may result in different answers and also different answering styles. I decided to rely on the \"expert data scientist\" role, but you may decide for the \"ELI5 divulgator\" or the \"verbose scholarly narrator\" (at your own risk XD).\n"
   ]
  },
  {
   "cell_type": "markdown",
   "id": "76194ed5",
   "metadata": {
    "papermill": {
     "duration": 0.01396,
     "end_time": "2024-03-17T00:20:14.524774",
     "exception": false,
     "start_time": "2024-03-17T00:20:14.510814",
     "status": "completed"
    },
    "tags": []
   },
   "source": [
    "Finally, notice the part of the generative prompt that says: \"If the context doesn't provide any relevant information, answer with <I couldn't find a good match in my knowledge base for your query, hence I answer based on my own knowledge>\". This is partly to prevent the assistant from losing its usefulness and to alert the user regarding the assistant providing peculiar answers when the question is off-topic, too difficult, or lacks sufficient information.\n"
   ]
  },
  {
   "cell_type": "code",
   "execution_count": 10,
   "id": "a7d0bc41",
   "metadata": {
    "execution": {
     "iopub.execute_input": "2024-03-17T00:20:14.554820Z",
     "iopub.status.busy": "2024-03-17T00:20:14.554028Z",
     "iopub.status.idle": "2024-03-17T00:20:14.565410Z",
     "shell.execute_reply": "2024-03-17T00:20:14.564557Z"
    },
    "papermill": {
     "duration": 0.028441,
     "end_time": "2024-03-17T00:20:14.567305",
     "exception": false,
     "start_time": "2024-03-17T00:20:14.538864",
     "status": "completed"
    },
    "tags": []
   },
   "outputs": [],
   "source": [
    "def generate_text(tokenizer, model, prompt, device, max_new_tokens, temperature):\n",
    "    \"\"\"Generate text using the provided tokenizer and model with specified settings\"\"\"\n",
    "    \n",
    "    # Encode the prompt and convert to PyTorch tensor\n",
    "    input_ids = tokenizer(prompt, return_tensors=\"pt\", padding=True).to(device)\n",
    "    \n",
    "    # Determine if sampling should be performed based on temperature\n",
    "    do_sample = True if temperature > 0 else False\n",
    "    \n",
    "    # Generate text based on the input prompt\n",
    "    outputs = model.generate(**input_ids, max_new_tokens=max_new_tokens, do_sample=do_sample, temperature=temperature)\n",
    "    \n",
    "    # Decode the generated output into text\n",
    "    results = [tokenizer.decode(output) for output in outputs]\n",
    "    \n",
    "    # Return the list of generated text results\n",
    "    return results\n",
    "\n",
    "\n",
    "def generate_summary_and_answer(question, data, searcher, embedding_model, model, tokenizer, device, \n",
    "                                max_new_tokens=2048, temperature=0.4, role=\"expert\"):\n",
    "    \"\"\"Generate an answer for a given question using context from a dataset\"\"\"\n",
    "    \n",
    "    # Embed the input question using the provided embedding model\n",
    "    embeded_question = np.array(get_embedding(question, embedding_model)).reshape(1, -1)\n",
    "    \n",
    "    # Find similar contexts in the dataset based on the embedded question\n",
    "    neighbors, distances = searcher.search_batched(embeded_question)\n",
    "    \n",
    "    # Extract context from the dataset based on the indices of similar contexts\n",
    "    context = \" \".join([data[pos] for pos in np.ravel(neighbors)])\n",
    "    \n",
    "    # Get the end-of-sentence token from the tokenizer\n",
    "    EOS_TOKEN = tokenizer.eos_token\n",
    "    \n",
    "    # Add a determinative adjective to the role\n",
    "    role = add_indefinite_article(role)\n",
    "    \n",
    "    # Generate a prompt for summarizing the context\n",
    "    prompt = f\"\"\"\n",
    "             Summarize this context: \"{context}\" in order to answer the question \"{question}\" as {role}\\\n",
    "             SUMMARY:\n",
    "             \"\"\".strip() + EOS_TOKEN\n",
    "    \n",
    "    # Generate a summary based on the prompt\n",
    "    results = generate_text(tokenizer, model, prompt, device, max_new_tokens, temperature)\n",
    "    \n",
    "    # Clean the generated summary\n",
    "    summary = clean_text(results[0].split(\"SUMMARY:\")[-1], EOS_TOKEN)\n",
    "\n",
    "    # Generate a prompt for providing an answer\n",
    "    prompt = f\"\"\"\n",
    "             Here is the context: {summary}\n",
    "             Using the relevant information from the context \n",
    "             and integrating it with your knowledge,\n",
    "             provide an answer as {role} to the question: {question}.\n",
    "             If the context doesn't provide\n",
    "             any relevant information answer with \n",
    "             [I couldn't find a good match in my\n",
    "             knowledge base for your question, \n",
    "             hence I answer based on my own knowledge] \\\n",
    "             ANSWER:\n",
    "             \"\"\".strip() + EOS_TOKEN\n",
    "\n",
    "    # Generate an answer based on the prompt\n",
    "    results = generate_text(tokenizer, model, prompt, device, max_new_tokens, temperature)\n",
    "    \n",
    "    # Clean the generated answer\n",
    "    answer = clean_text(results[0].split(\"ANSWER:\")[-1], EOS_TOKEN)\n",
    "\n",
    "    # Return the cleaned answer\n",
    "    return answer"
   ]
  },
  {
   "cell_type": "markdown",
   "id": "4d358c3b",
   "metadata": {
    "papermill": {
     "duration": 0.013887,
     "end_time": "2024-03-17T00:20:14.595445",
     "exception": false,
     "start_time": "2024-03-17T00:20:14.581558",
     "status": "completed"
    },
    "tags": []
   },
   "source": [
    "# 4. Wrapping up everything"
   ]
  },
  {
   "cell_type": "markdown",
   "id": "e96ce02b",
   "metadata": {
    "papermill": {
     "duration": 0.01453,
     "end_time": "2024-03-17T00:20:14.623914",
     "exception": false,
     "start_time": "2024-03-17T00:20:14.609384",
     "status": "completed"
    },
    "tags": []
   },
   "source": [
    "At this point, the next cell wraps all the functions into an `AIAssistant` class.\n"
   ]
  },
  {
   "cell_type": "markdown",
   "id": "7b5bc0ee",
   "metadata": {
    "papermill": {
     "duration": 0.014483,
     "end_time": "2024-03-17T00:20:14.653484",
     "exception": false,
     "start_time": "2024-03-17T00:20:14.639001",
     "status": "completed"
    },
    "tags": []
   },
   "source": [
    "The `AIAssistant` class impersonates an AI assistant that interacts with users by providing answers based on a given knowledge base (basically a list of texts containing the knowledge).\n",
    "\n",
    "Upon initialization, the class loads an embedding model, indexes the knowledge base for efficient search, initializes a language model and tokenizer, and builds a searcher for similarity search using the SCANN library. The class includes functions to query the knowledge base, adjust the assistant's temperature (creativity), and define its answering style.\n",
    "\n",
    "- The `query` function generates and prints an answer to a user query by utilizing the `generate_summary_and_answer` function.\n",
    "- The `set_temperature` function allows adjusting the assistant's creativity level, while the `set_role` function defines the answering style of the AI assistant.\n",
    "\n",
    "This class wraps all together the functionality of an AI assistant that makes good use of embeddings, powerful language models such as Gemma, and similarity search to provide informative responses to user queries based on a predefined knowledge base.\n"
   ]
  },
  {
   "cell_type": "markdown",
   "id": "eeaadf22",
   "metadata": {
    "papermill": {
     "duration": 0.013851,
     "end_time": "2024-03-17T00:20:14.682799",
     "exception": false,
     "start_time": "2024-03-17T00:20:14.668948",
     "status": "completed"
    },
    "tags": []
   },
   "source": [
    "A few notes about ScaNN. ScaNN is a library developed by Google Research that offers efficient and scalable nearest neighbor search capabilities. It provides advantages over other solutions by utilizing techniques like quantization and Anisotropic Hashing, which enhance search performance.\n",
    "\n",
    "Anisotropic Hashing is a method used in hashing techniques for multimodal retrieval that involves learning projection functions to produce dimensions with varying lengths or scales. This flexibility in scaling can be beneficial for capturing complex relationships and structures in high-dimensional data, offering improved retrieval performance in scenarios where isotropic methods may not be as effective. You can read everything about this method in the paper:\n",
    "\n",
    "Guo, Ruiqi, et al. \"Accelerating large-scale inference with anisotropic vector quantization.\" International Conference on Machine Learning. PMLR, 2020. ([Paper Link](https://arxiv.org/abs/1908.10396))\n",
    "\n",
    "or by browsing the code repository at [https://github.com/google-research/google-research/tree/master/scann](https://github.com/google-research/google-research/tree/master/scann)\n",
    "\n",
    "What is interesting to note is that in my solution I do not use the cosine distance but simply the dot product as suggested by this paper:\n",
    "\n",
    "Steck, Harald, Chaitanya Ekanadham, and Nathan Kallus. \"Is Cosine-Similarity of Embeddings Really About Similarity?.\" arXiv preprint arXiv:2403.05440 (2024). ([Paper Link](https://arxiv.org/html/2403.05440v1))\n",
    "\n",
    "And it works pretty well!\n"
   ]
  },
  {
   "cell_type": "code",
   "execution_count": 11,
   "id": "4dde4a78",
   "metadata": {
    "execution": {
     "iopub.execute_input": "2024-03-17T00:20:14.712055Z",
     "iopub.status.busy": "2024-03-17T00:20:14.711745Z",
     "iopub.status.idle": "2024-03-17T00:20:14.724934Z",
     "shell.execute_reply": "2024-03-17T00:20:14.724141Z"
    },
    "papermill": {
     "duration": 0.030057,
     "end_time": "2024-03-17T00:20:14.726786",
     "exception": false,
     "start_time": "2024-03-17T00:20:14.696729",
     "status": "completed"
    },
    "tags": []
   },
   "outputs": [],
   "source": [
    "class AIAssistant():\n",
    "    \"\"\"An AI assistant that interacts with users by providing answers based on a provided knowledge base\"\"\"\n",
    "    \n",
    "    def __init__(self, embeddings_name, model_name, max_seq_length=2048, temperature=0.4, role=\"expert\"):\n",
    "        \"\"\"Initialize the AI assistant.\"\"\"\n",
    "        # Initialize attributes\n",
    "        self.embeddings_name = embeddings_name\n",
    "        self.model_name = model_name\n",
    "        self.knowledge_base = []\n",
    "        self.max_seq_length = max_seq_length\n",
    "        self.temperature = temperature\n",
    "        self.role = role\n",
    "        \n",
    "        # Load the embedding model\n",
    "        self.embedding_model = SentenceTransformer(self.embeddings_name)\n",
    "        \n",
    "        # Initialize the model and tokenizer\n",
    "        print(\"\\nInitializing model:\")\n",
    "        self.device = define_device()\n",
    "        self.model, self.tokenizer = initialize_model(self.model_name, self.device, self.max_seq_length)\n",
    " \n",
    "    def learn_knowledge_base(self, knowledge_base):\n",
    "        \"\"\"Store and index the knowledge based to be used by the assistant\"\"\"\n",
    "        # Storing the knowledge base\n",
    "        self.knowledge_base=knowledge_base\n",
    "        \n",
    "        # Load and index the knowledge base\n",
    "        print(\"Indexing and mapping the knowledge base:\")\n",
    "        embeddings = map2embeddings(self.knowledge_base, self.embedding_model)\n",
    "        self.embeddings = np.array(embeddings).astype(np.float32)\n",
    "        \n",
    "        # Instantiate the searcher for similarity search\n",
    "        self.index_embeddings()\n",
    "        \n",
    "    def index_embeddings(self):\n",
    "        \"\"\"Index the embeddings using ScaNN \"\"\"\n",
    "        self.searcher = (scann.scann_ops_pybind.builder(db=self.embeddings, num_neighbors=10, distance_measure=\"dot_product\")\n",
    "                 .tree(num_leaves=2000, num_leaves_to_search=100, training_sample_size=self.embeddings.shape[0])\n",
    "                 .score_ah(2, anisotropic_quantization_threshold=0.2)\n",
    "                 .reorder(100)\n",
    "                 .build()\n",
    "           )\n",
    "        \n",
    "    def query(self, query):\n",
    "        \"\"\"Query the knowledge base of the AI assistant.\"\"\"\n",
    "        # Generate and print an answer to the query\n",
    "        answer = generate_summary_and_answer(query, \n",
    "                                             self.knowledge_base, \n",
    "                                             self.searcher, \n",
    "                                             self.embedding_model, \n",
    "                                             self.model, \n",
    "                                             self.tokenizer, \n",
    "                                             self.device, \n",
    "                                             max_new_tokens=2048,\n",
    "                                             temperature=self.temperature,\n",
    "                                             role=self.role)\n",
    "        print(answer)\n",
    "        \n",
    "    def set_temperature(self, temperature):\n",
    "        \"\"\"Set the temperature (creativity) of the AI assistant.\"\"\"\n",
    "        self.temperature = temperature\n",
    "        \n",
    "    def set_role(self, role):\n",
    "        \"\"\"Define the answering style of the AI assistant.\"\"\"\n",
    "        self.role = role\n",
    "        \n",
    "    def save_embeddings(self, filename=\"embeddings.npy\"):\n",
    "        \"\"\"Save the embeddings to disk\"\"\"\n",
    "        np.save(filename, self.embeddings)\n",
    "        \n",
    "    def load_embeddings(self, filename=\"embeddings.npy\"):\n",
    "        \"\"\"Load the embeddings from disk and index them\"\"\"\n",
    "        self.embeddings = np.load(filename)\n",
    "        # Re-instantiate the searcher\n",
    "        self.index_embeddings()"
   ]
  },
  {
   "cell_type": "markdown",
   "id": "1444d693",
   "metadata": {
    "papermill": {
     "duration": 0.013947,
     "end_time": "2024-03-17T00:20:14.754755",
     "exception": false,
     "start_time": "2024-03-17T00:20:14.740808",
     "status": "completed"
    },
    "tags": []
   },
   "source": [
    "# 5. Providing the knowledge base from Wikipedia"
   ]
  },
  {
   "cell_type": "markdown",
   "id": "87980bd9",
   "metadata": {
    "papermill": {
     "duration": 0.013988,
     "end_time": "2024-03-17T00:20:14.783141",
     "exception": false,
     "start_time": "2024-03-17T00:20:14.769153",
     "status": "completed"
    },
    "tags": []
   },
   "source": [
    "In order to provide a **knowledge base** for the AI Assistant to work confidently with data science questions, I decided to retrieve some information from Wikipedia."
   ]
  },
  {
   "cell_type": "markdown",
   "id": "13d6102a",
   "metadata": {
    "papermill": {
     "duration": 0.013858,
     "end_time": "2024-03-17T00:20:14.811013",
     "exception": false,
     "start_time": "2024-03-17T00:20:14.797155",
     "status": "completed"
    },
    "tags": []
   },
   "source": [
    "**Why Wikipedia?**\n",
    "\n",
    "Actually, Wikipedia provides a vast and diverse range of information on various topics, making it a rich source for context data. Also, its structured organization allows for easy extraction and processing, also thanks to the wikipediaapi interface.\n"
   ]
  },
  {
   "cell_type": "markdown",
   "id": "bc1e52e3",
   "metadata": {
    "papermill": {
     "duration": 0.014133,
     "end_time": "2024-03-17T00:20:14.839195",
     "exception": false,
     "start_time": "2024-03-17T00:20:14.825062",
     "status": "completed"
    },
    "tags": []
   },
   "source": [
    "The following code, apart from the first two functions useful for cleaning the text from tags and formatting, extracts references, such as pages or other Wikipedia categories, using the `extract_wikipedia_pages` function. Then, the `get_wikipedia_pages` function takes care to crawl to all the pages and information related to some initial Wikipedia category or page.\n"
   ]
  },
  {
   "cell_type": "code",
   "execution_count": 12,
   "id": "a9532f9a",
   "metadata": {
    "execution": {
     "iopub.execute_input": "2024-03-17T00:20:14.869096Z",
     "iopub.status.busy": "2024-03-17T00:20:14.868749Z",
     "iopub.status.idle": "2024-03-17T00:20:14.875155Z",
     "shell.execute_reply": "2024-03-17T00:20:14.874341Z"
    },
    "papermill": {
     "duration": 0.02355,
     "end_time": "2024-03-17T00:20:14.877062",
     "exception": false,
     "start_time": "2024-03-17T00:20:14.853512",
     "status": "completed"
    },
    "tags": []
   },
   "outputs": [],
   "source": [
    "# Pre-compile the regular expression pattern for better performance\n",
    "BRACES_PATTERN = re.compile(r'\\{.*?\\}|\\}')\n",
    "\n",
    "def remove_braces_and_content(text):\n",
    "    \"\"\"Remove all occurrences of curly braces and their content from the given text\"\"\"\n",
    "    return BRACES_PATTERN.sub('', text)\n",
    "\n",
    "def clean_string(input_string):\n",
    "    \"\"\"Clean the input string.\"\"\"\n",
    "    \n",
    "    # Remove extra spaces by splitting the string by spaces and joining back together\n",
    "    cleaned_string = ' '.join(input_string.split())\n",
    "    \n",
    "    # Remove consecutive carriage return characters until there are no more consecutive occurrences\n",
    "    cleaned_string = re.sub(r'\\r+', '\\r', cleaned_string)\n",
    "    \n",
    "    # Remove all occurrences of curly braces and their content from the cleaned string\n",
    "    cleaned_string = remove_braces_and_content(cleaned_string)\n",
    "    \n",
    "    # Return the cleaned string\n",
    "    return cleaned_string"
   ]
  },
  {
   "cell_type": "code",
   "execution_count": 13,
   "id": "01931958",
   "metadata": {
    "execution": {
     "iopub.execute_input": "2024-03-17T00:20:14.906359Z",
     "iopub.status.busy": "2024-03-17T00:20:14.906112Z",
     "iopub.status.idle": "2024-03-17T00:20:14.911285Z",
     "shell.execute_reply": "2024-03-17T00:20:14.910495Z"
    },
    "papermill": {
     "duration": 0.022014,
     "end_time": "2024-03-17T00:20:14.913103",
     "exception": false,
     "start_time": "2024-03-17T00:20:14.891089",
     "status": "completed"
    },
    "tags": []
   },
   "outputs": [],
   "source": [
    "def extract_wikipedia_pages(wiki_wiki, category_name):\n",
    "    \"\"\"Extract all references from a category on Wikipedia\"\"\"\n",
    "    \n",
    "    # Get the Wikipedia page corresponding to the provided category name\n",
    "    category = wiki_wiki.page(\"Category:\" + category_name)\n",
    "    \n",
    "    # Initialize an empty list to store page titles\n",
    "    pages = []\n",
    "    \n",
    "    # Check if the category exists\n",
    "    if category.exists():\n",
    "        # Iterate through each article in the category and append its title to the list\n",
    "        for article in category.categorymembers.values():\n",
    "            pages.append(article.title)\n",
    "    \n",
    "    # Return the list of page titles\n",
    "    return pages"
   ]
  },
  {
   "cell_type": "code",
   "execution_count": 14,
   "id": "ba11f87e",
   "metadata": {
    "execution": {
     "iopub.execute_input": "2024-03-17T00:20:14.942580Z",
     "iopub.status.busy": "2024-03-17T00:20:14.942312Z",
     "iopub.status.idle": "2024-03-17T00:20:14.953689Z",
     "shell.execute_reply": "2024-03-17T00:20:14.952873Z"
    },
    "papermill": {
     "duration": 0.028308,
     "end_time": "2024-03-17T00:20:14.955554",
     "exception": false,
     "start_time": "2024-03-17T00:20:14.927246",
     "status": "completed"
    },
    "tags": []
   },
   "outputs": [],
   "source": [
    "def get_wikipedia_pages(categories):\n",
    "    \"\"\"Retrieve Wikipedia pages from a list of categories and extract their content\"\"\"\n",
    "    \n",
    "    # Create a Wikipedia object\n",
    "    wiki_wiki = wikipediaapi.Wikipedia('Kaggle Data Science Assistant with Gemma', 'en')\n",
    "    \n",
    "    # Initialize lists to store explored categories and Wikipedia pages\n",
    "    explored_categories = []\n",
    "    wikipedia_pages = []\n",
    "\n",
    "    # Iterate through each category\n",
    "    print(\"- Processing Wikipedia categories:\")\n",
    "    for category_name in categories:\n",
    "        print(f\"\\tExploring {category_name} on Wikipedia\")\n",
    "        \n",
    "        # Get the Wikipedia page corresponding to the category\n",
    "        category = wiki_wiki.page(\"Category:\" + category_name)\n",
    "        \n",
    "        # Extract Wikipedia pages from the category and extend the list\n",
    "        wikipedia_pages.extend(extract_wikipedia_pages(wiki_wiki, category_name))\n",
    "        \n",
    "        # Add the explored category to the list\n",
    "        explored_categories.append(category_name)\n",
    "\n",
    "    # Extract subcategories and remove duplicate categories\n",
    "    categories_to_explore = [item.replace(\"Category:\", \"\") for item in wikipedia_pages if \"Category:\" in item]\n",
    "    wikipedia_pages = list(set([item for item in wikipedia_pages if \"Category:\" not in item]))\n",
    "    \n",
    "    # Explore subcategories recursively\n",
    "    while categories_to_explore:\n",
    "        category_name = categories_to_explore.pop()\n",
    "        print(f\"\\tExploring {category_name} on Wikipedia\")\n",
    "        \n",
    "        # Extract more references from the subcategory\n",
    "        more_refs = extract_wikipedia_pages(wiki_wiki, category_name)\n",
    "\n",
    "        # Iterate through the references\n",
    "        for ref in more_refs:\n",
    "            # Check if the reference is a category\n",
    "            if \"Category:\" in ref:\n",
    "                new_category = ref.replace(\"Category:\", \"\")\n",
    "                # Add the new category to the explored categories list\n",
    "                if new_category not in explored_categories:\n",
    "                    explored_categories.append(new_category)\n",
    "            else:\n",
    "                # Add the reference to the Wikipedia pages list\n",
    "                if ref not in wikipedia_pages:\n",
    "                    wikipedia_pages.append(ref)\n",
    "\n",
    "    # Initialize a list to store extracted texts\n",
    "    extracted_texts = []\n",
    "    \n",
    "    # Iterate through each Wikipedia page\n",
    "    print(\"- Processing Wikipedia pages:\")\n",
    "    for page_title in tqdm(wikipedia_pages):\n",
    "        # Get the Wikipedia page\n",
    "        page = wiki_wiki.page(page_title)\n",
    "        \n",
    "        # Check if the page summary does not contain certain keywords\n",
    "        if \"Biden\" not in page.summary and \"Trump\" not in page.summary:\n",
    "            # Append the page title and summary to the extracted texts list\n",
    "            if len(page.summary) > len(page.title):\n",
    "                extracted_texts.append(page.title + \" : \" + clean_string(page.summary))\n",
    "            \n",
    "            # Iterate through the sections in the page\n",
    "            for section in page.sections:\n",
    "                # Append the page title and section text to the extracted texts list\n",
    "                if len(section.text) > len(page.title):\n",
    "                    extracted_texts.append(page.title + \" : \" + clean_string(section.text))\n",
    "                    \n",
    "    # Return the extracted texts\n",
    "    return extracted_texts"
   ]
  },
  {
   "cell_type": "markdown",
   "id": "4bafc652",
   "metadata": {
    "papermill": {
     "duration": 0.0144,
     "end_time": "2024-03-17T00:20:14.984013",
     "exception": false,
     "start_time": "2024-03-17T00:20:14.969613",
     "status": "completed"
    },
    "tags": []
   },
   "source": [
    "To develop an AI assistant capable of answering questions about data science, I've chosen to begin with topics such as machine learning, data science, statistics, and deep learning artificial intelligence. As evident from the output, the range of topics it covers is truly impressive, even for a seasoned data scientist!\n"
   ]
  },
  {
   "cell_type": "code",
   "execution_count": 15,
   "id": "c97bb7ca",
   "metadata": {
    "execution": {
     "iopub.execute_input": "2024-03-17T00:20:15.015305Z",
     "iopub.status.busy": "2024-03-17T00:20:15.014942Z",
     "iopub.status.idle": "2024-03-17T00:27:34.667793Z",
     "shell.execute_reply": "2024-03-17T00:27:34.666637Z"
    },
    "papermill": {
     "duration": 439.671087,
     "end_time": "2024-03-17T00:27:34.669935",
     "exception": false,
     "start_time": "2024-03-17T00:20:14.998848",
     "status": "completed"
    },
    "tags": []
   },
   "outputs": [
    {
     "name": "stdout",
     "output_type": "stream",
     "text": [
      "- Processing Wikipedia categories:\n",
      "\tExploring Machine_learning on Wikipedia\n",
      "\tExploring Data_science on Wikipedia\n",
      "\tExploring Statistics on Wikipedia\n",
      "\tExploring Deep_learning on Wikipedia\n",
      "\tExploring Artificial_intelligence on Wikipedia\n",
      "\tExploring Artificial intelligence stubs on Wikipedia\n",
      "\tExploring Works created using artificial intelligence on Wikipedia\n",
      "\tExploring Virtual assistants on Wikipedia\n",
      "\tExploring Turing tests on Wikipedia\n",
      "\tExploring AI software on Wikipedia\n",
      "\tExploring Rule engines on Wikipedia\n",
      "\tExploring Artificial intelligence publications on Wikipedia\n",
      "\tExploring Philosophy of artificial intelligence on Wikipedia\n",
      "\tExploring Artificial intelligence people on Wikipedia\n",
      "\tExploring Open-source artificial intelligence on Wikipedia\n",
      "\tExploring Non-fiction books about Artificial intelligence on Wikipedia\n",
      "\tExploring Neural networks on Wikipedia\n",
      "\tExploring Multi-agent systems on Wikipedia\n",
      "\tExploring Mind–body problem on Wikipedia\n",
      "\tExploring Machine learning on Wikipedia\n",
      "\tExploring Artificial intelligence laboratories on Wikipedia\n",
      "\tExploring Knowledge representation on Wikipedia\n",
      "\tExploring History of artificial intelligence on Wikipedia\n",
      "\tExploring Generative artificial intelligence on Wikipedia\n",
      "\tExploring Game artificial intelligence on Wikipedia\n",
      "\tExploring Fuzzy logic on Wikipedia\n",
      "\tExploring Fiction about artificial intelligence on Wikipedia\n",
      "\tExploring Existential risk from artificial general intelligence on Wikipedia\n",
      "\tExploring Evolutionary computation on Wikipedia\n",
      "\tExploring Artificial intelligence entertainment on Wikipedia\n",
      "\tExploring Distributed artificial intelligence on Wikipedia\n",
      "\tExploring Signal processing conferences on Wikipedia\n",
      "\tExploring Artificial intelligence conferences on Wikipedia\n",
      "\tExploring Computer vision on Wikipedia\n",
      "\tExploring Artificial intelligence competitions on Wikipedia\n",
      "\tExploring AI companies on Wikipedia\n",
      "\tExploring Cognitive architecture on Wikipedia\n",
      "\tExploring Cloud robotics on Wikipedia\n",
      "\tExploring Chatbots on Wikipedia\n",
      "\tExploring Automated reasoning on Wikipedia\n",
      "\tExploring Artificial intelligence associations on Wikipedia\n",
      "\tExploring Artificial intelligence templates on Wikipedia\n",
      "\tExploring Artificial immune systems on Wikipedia\n",
      "\tExploring Artificial intelligence art on Wikipedia\n",
      "\tExploring Argument technology on Wikipedia\n",
      "\tExploring Applications of artificial intelligence on Wikipedia\n",
      "\tExploring Ambient intelligence on Wikipedia\n",
      "\tExploring AI accelerators on Wikipedia\n",
      "\tExploring Affective computing on Wikipedia\n",
      "\tExploring Text-to-image generation on Wikipedia\n",
      "\tExploring Google DeepMind on Wikipedia\n",
      "\tExploring Deepfakes on Wikipedia\n",
      "\tExploring Deep learning software on Wikipedia\n",
      "\tExploring Statistics stubs on Wikipedia\n",
      "\tExploring Statistical concepts on Wikipedia\n",
      "\tExploring Statistical software on Wikipedia\n",
      "\tExploring Statistical methods on Wikipedia\n",
      "\tExploring Statistical data on Wikipedia\n",
      "\tExploring Subfields of statistics on Wikipedia\n",
      "\tExploring Statistics profession and organizations on Wikipedia\n",
      "\tExploring Statistics-related lists on Wikipedia\n",
      "\tExploring Statisticians on Wikipedia\n",
      "\tExploring Data scientists on Wikipedia\n",
      "\tExploring Unsupervised learning on Wikipedia\n",
      "\tExploring Support vector machines on Wikipedia\n",
      "\tExploring Supervised learning on Wikipedia\n",
      "\tExploring Structured prediction on Wikipedia\n",
      "\tExploring Statistical natural language processing on Wikipedia\n",
      "\tExploring Semisupervised learning on Wikipedia\n",
      "\tExploring Natural language processing researchers on Wikipedia\n",
      "\tExploring Machine learning researchers on Wikipedia\n",
      "\tExploring Reinforcement learning on Wikipedia\n",
      "\tExploring Ontology learning (computer science) on Wikipedia\n",
      "\tExploring Markov models on Wikipedia\n",
      "\tExploring Machine learning task on Wikipedia\n",
      "\tExploring Machine learning algorithms on Wikipedia\n",
      "\tExploring Loss functions on Wikipedia\n",
      "\tExploring Log-linear models on Wikipedia\n",
      "\tExploring Learning in computer vision on Wikipedia\n",
      "\tExploring Latent variable models on Wikipedia\n",
      "\tExploring Kernel methods for machine learning on Wikipedia\n",
      "\tExploring Inductive logic programming on Wikipedia\n",
      "\tExploring Genetic programming on Wikipedia\n",
      "\tExploring Evolutionary algorithms on Wikipedia\n",
      "\tExploring Ensemble learning on Wikipedia\n",
      "\tExploring Dimension reduction on Wikipedia\n",
      "\tExploring Datasets in machine learning on Wikipedia\n",
      "\tExploring Data mining and machine learning software on Wikipedia\n",
      "\tExploring Signal processing conferences on Wikipedia\n",
      "\tExploring Artificial intelligence conferences on Wikipedia\n",
      "\tExploring Computational learning theory on Wikipedia\n",
      "\tExploring Cluster analysis on Wikipedia\n",
      "\tExploring Classification algorithms on Wikipedia\n",
      "\tExploring Blockmodeling on Wikipedia\n",
      "\tExploring Bayesian networks on Wikipedia\n",
      "\tExploring Artificial neural networks on Wikipedia\n",
      "\tExploring Applied machine learning on Wikipedia\n",
      "- Processing Wikipedia pages:\n"
     ]
    },
    {
     "name": "stderr",
     "output_type": "stream",
     "text": [
      "100%|██████████| 3438/3438 [06:58<00:00,  8.22it/s]"
     ]
    },
    {
     "name": "stdout",
     "output_type": "stream",
     "text": [
      "Found 16144 Wikipedia pages\n"
     ]
    },
    {
     "name": "stderr",
     "output_type": "stream",
     "text": [
      "\n"
     ]
    }
   ],
   "source": [
    "categories = [\"Machine_learning\", \"Data_science\", \"Statistics\", \"Deep_learning\", \"Artificial_intelligence\"]\n",
    "extracted_texts = get_wikipedia_pages(categories)\n",
    "print(\"Found\", len(extracted_texts), \"Wikipedia pages\")"
   ]
  },
  {
   "cell_type": "markdown",
   "id": "6b2866a7",
   "metadata": {
    "papermill": {
     "duration": 0.2282,
     "end_time": "2024-03-17T00:27:35.175292",
     "exception": false,
     "start_time": "2024-03-17T00:27:34.947092",
     "status": "completed"
    },
    "tags": []
   },
   "source": [
    "As a last step, the extracted knowledge base is saved to disk for later usage"
   ]
  },
  {
   "cell_type": "code",
   "execution_count": 16,
   "id": "882aa2d0",
   "metadata": {
    "execution": {
     "iopub.execute_input": "2024-03-17T00:27:35.636576Z",
     "iopub.status.busy": "2024-03-17T00:27:35.635816Z",
     "iopub.status.idle": "2024-03-17T00:27:36.251682Z",
     "shell.execute_reply": "2024-03-17T00:27:36.250741Z"
    },
    "papermill": {
     "duration": 0.848753,
     "end_time": "2024-03-17T00:27:36.253750",
     "exception": false,
     "start_time": "2024-03-17T00:27:35.404997",
     "status": "completed"
    },
    "tags": []
   },
   "outputs": [
    {
     "data": {
      "text/html": [
       "<div>\n",
       "<style scoped>\n",
       "    .dataframe tbody tr th:only-of-type {\n",
       "        vertical-align: middle;\n",
       "    }\n",
       "\n",
       "    .dataframe tbody tr th {\n",
       "        vertical-align: top;\n",
       "    }\n",
       "\n",
       "    .dataframe thead th {\n",
       "        text-align: right;\n",
       "    }\n",
       "</style>\n",
       "<table border=\"1\" class=\"dataframe\">\n",
       "  <thead>\n",
       "    <tr style=\"text-align: right;\">\n",
       "      <th></th>\n",
       "      <th>wikipedia_text</th>\n",
       "    </tr>\n",
       "  </thead>\n",
       "  <tbody>\n",
       "    <tr>\n",
       "      <th>0</th>\n",
       "      <td>Leakage (machine learning) : In statistics and...</td>\n",
       "    </tr>\n",
       "    <tr>\n",
       "      <th>1</th>\n",
       "      <td>Leakage (machine learning) : Leakage can occur...</td>\n",
       "    </tr>\n",
       "    <tr>\n",
       "      <th>2</th>\n",
       "      <td>Leakage (machine learning) : AutoML Concept dr...</td>\n",
       "    </tr>\n",
       "    <tr>\n",
       "      <th>3</th>\n",
       "      <td>Universal psychometrics : Universal psychometr...</td>\n",
       "    </tr>\n",
       "    <tr>\n",
       "      <th>4</th>\n",
       "      <td>Universal psychometrics : Hernández-Orallo, J....</td>\n",
       "    </tr>\n",
       "  </tbody>\n",
       "</table>\n",
       "</div>"
      ],
      "text/plain": [
       "                                      wikipedia_text\n",
       "0  Leakage (machine learning) : In statistics and...\n",
       "1  Leakage (machine learning) : Leakage can occur...\n",
       "2  Leakage (machine learning) : AutoML Concept dr...\n",
       "3  Universal psychometrics : Universal psychometr...\n",
       "4  Universal psychometrics : Hernández-Orallo, J...."
      ]
     },
     "execution_count": 16,
     "metadata": {},
     "output_type": "execute_result"
    }
   ],
   "source": [
    "wikipedia_data_science_kb = pd.DataFrame(extracted_texts, columns=[\"wikipedia_text\"])\n",
    "wikipedia_data_science_kb.to_csv(\"wikipedia_data_science_kb.csv\", index=False)\n",
    "wikipedia_data_science_kb.head()"
   ]
  },
  {
   "cell_type": "markdown",
   "id": "e873292d",
   "metadata": {
    "papermill": {
     "duration": 0.228215,
     "end_time": "2024-03-17T00:27:36.711452",
     "exception": false,
     "start_time": "2024-03-17T00:27:36.483237",
     "status": "completed"
    },
    "tags": []
   },
   "source": [
    "# 6. A test run"
   ]
  },
  {
   "cell_type": "markdown",
   "id": "b9170c14",
   "metadata": {
    "papermill": {
     "duration": 0.229723,
     "end_time": "2024-03-17T00:27:37.172732",
     "exception": false,
     "start_time": "2024-03-17T00:27:36.943009",
     "status": "completed"
    },
    "tags": []
   },
   "source": [
    "We are now ready to test our AI assistant!\n",
    "\n",
    "We instantiate it using the Gemma 2b-it and the gte-large embeddings and provide the extracts from Wikipedia as a knowledge base.\n",
    "\n",
    "The Generate Text Embedding (gte) model is a variant of the BERT model developed by Alibaba DAMO Academy. This embedding model is available in three versions (large, base, small) and is specifically designed for English text processing. In comparisons with other embedding models, the gte-large variant demonstrates superior performance in retrieval tasks, but it also needs more storage space for embedding vectors compared to competitors (we do not worry much about that because ScaNN is quite fast for this application).\n",
    "\n",
    "The instantiation will take a short while, then you can ask a few questions to the AI assistant.\n",
    "\n"
   ]
  },
  {
   "cell_type": "code",
   "execution_count": 17,
   "id": "ba54989b",
   "metadata": {
    "execution": {
     "iopub.execute_input": "2024-03-17T00:27:37.634307Z",
     "iopub.status.busy": "2024-03-17T00:27:37.633435Z",
     "iopub.status.idle": "2024-03-17T00:39:49.254982Z",
     "shell.execute_reply": "2024-03-17T00:39:49.254082Z"
    },
    "papermill": {
     "duration": 731.853767,
     "end_time": "2024-03-17T00:39:49.257385",
     "exception": false,
     "start_time": "2024-03-17T00:27:37.403618",
     "status": "completed"
    },
    "tags": []
   },
   "outputs": [
    {
     "data": {
      "application/vnd.jupyter.widget-view+json": {
       "model_id": "85126060caba44e39edc733b9e521d0c",
       "version_major": 2,
       "version_minor": 0
      },
      "text/plain": [
       "modules.json:   0%|          | 0.00/385 [00:00<?, ?B/s]"
      ]
     },
     "metadata": {},
     "output_type": "display_data"
    },
    {
     "data": {
      "application/vnd.jupyter.widget-view+json": {
       "model_id": "ed06c448d16b42c99ba155c94d6e634f",
       "version_major": 2,
       "version_minor": 0
      },
      "text/plain": [
       "README.md:   0%|          | 0.00/67.9k [00:00<?, ?B/s]"
      ]
     },
     "metadata": {},
     "output_type": "display_data"
    },
    {
     "data": {
      "application/vnd.jupyter.widget-view+json": {
       "model_id": "197138e449ee4b92881a071736629143",
       "version_major": 2,
       "version_minor": 0
      },
      "text/plain": [
       "sentence_bert_config.json:   0%|          | 0.00/57.0 [00:00<?, ?B/s]"
      ]
     },
     "metadata": {},
     "output_type": "display_data"
    },
    {
     "data": {
      "application/vnd.jupyter.widget-view+json": {
       "model_id": "cb1b8758a72642c7830398af04ffc456",
       "version_major": 2,
       "version_minor": 0
      },
      "text/plain": [
       "config.json:   0%|          | 0.00/619 [00:00<?, ?B/s]"
      ]
     },
     "metadata": {},
     "output_type": "display_data"
    },
    {
     "data": {
      "application/vnd.jupyter.widget-view+json": {
       "model_id": "01f167f9f84c433b9174f8799fe5eb56",
       "version_major": 2,
       "version_minor": 0
      },
      "text/plain": [
       "model.safetensors:   0%|          | 0.00/670M [00:00<?, ?B/s]"
      ]
     },
     "metadata": {},
     "output_type": "display_data"
    },
    {
     "data": {
      "application/vnd.jupyter.widget-view+json": {
       "model_id": "5a3455162b2f445f9637ce0f488aec51",
       "version_major": 2,
       "version_minor": 0
      },
      "text/plain": [
       "tokenizer_config.json:   0%|          | 0.00/342 [00:00<?, ?B/s]"
      ]
     },
     "metadata": {},
     "output_type": "display_data"
    },
    {
     "data": {
      "application/vnd.jupyter.widget-view+json": {
       "model_id": "ea9b746016ca43608851a452685ca3bc",
       "version_major": 2,
       "version_minor": 0
      },
      "text/plain": [
       "vocab.txt:   0%|          | 0.00/232k [00:00<?, ?B/s]"
      ]
     },
     "metadata": {},
     "output_type": "display_data"
    },
    {
     "data": {
      "application/vnd.jupyter.widget-view+json": {
       "model_id": "ebf9b71cd71648e9b31f9f523c6b7b1b",
       "version_major": 2,
       "version_minor": 0
      },
      "text/plain": [
       "tokenizer.json:   0%|          | 0.00/712k [00:00<?, ?B/s]"
      ]
     },
     "metadata": {},
     "output_type": "display_data"
    },
    {
     "data": {
      "application/vnd.jupyter.widget-view+json": {
       "model_id": "3eaab5739d1e4555834450b929b8f302",
       "version_major": 2,
       "version_minor": 0
      },
      "text/plain": [
       "special_tokens_map.json:   0%|          | 0.00/125 [00:00<?, ?B/s]"
      ]
     },
     "metadata": {},
     "output_type": "display_data"
    },
    {
     "data": {
      "application/vnd.jupyter.widget-view+json": {
       "model_id": "d0546974d09e4c5a92ec3464f591cdbc",
       "version_major": 2,
       "version_minor": 0
      },
      "text/plain": [
       "1_Pooling/config.json:   0%|          | 0.00/191 [00:00<?, ?B/s]"
      ]
     },
     "metadata": {},
     "output_type": "display_data"
    },
    {
     "name": "stdout",
     "output_type": "stream",
     "text": [
      "\n",
      "Initializing model:\n",
      "PyTorch version: 2.1.2 -- using cuda\n"
     ]
    },
    {
     "data": {
      "application/vnd.jupyter.widget-view+json": {
       "model_id": "7c8321bca72a4e1b8ebf6a04689c252a",
       "version_major": 2,
       "version_minor": 0
      },
      "text/plain": [
       "Loading checkpoint shards:   0%|          | 0/2 [00:00<?, ?it/s]"
      ]
     },
     "metadata": {},
     "output_type": "display_data"
    },
    {
     "name": "stdout",
     "output_type": "stream",
     "text": [
      "Indexing and mapping the knowledge base:\n",
      "Mapping 16144 pieces of information\n"
     ]
    },
    {
     "name": "stderr",
     "output_type": "stream",
     "text": [
      "100%|██████████| 16144/16144 [10:59<00:00, 24.48it/s]\n"
     ]
    }
   ],
   "source": [
    "# Initialize the name of the embeddings and model\n",
    "embeddings_name = \"thenlper/gte-large\"\n",
    "model_name = \"/kaggle/input/gemma/transformers/2b-it/1\"\n",
    "\n",
    "# Create an instance of AIAssistant with specified parameters\n",
    "gemma_ai_assistant = AIAssistant(embeddings_name, model_name)\n",
    "\n",
    "# Map the intended knowledge base to embeddings and index it\n",
    "gemma_ai_assistant.learn_knowledge_base(knowledge_base=extracted_texts)\n",
    "\n",
    "# Save the embeddings to disk (for later use)\n",
    "gemma_ai_assistant.save_embeddings()\n",
    "\n",
    "# Set the temperature (creativity) of the AI assistant and set the role\n",
    "gemma_ai_assistant.set_temperature(0.0)\n",
    "gemma_ai_assistant.set_role(\"data science expert whose explanations are useful, clear and complete\")"
   ]
  },
  {
   "cell_type": "markdown",
   "id": "0f652e2c",
   "metadata": {
    "papermill": {
     "duration": 0.71452,
     "end_time": "2024-03-17T00:39:50.586581",
     "exception": false,
     "start_time": "2024-03-17T00:39:49.872061",
     "status": "completed"
    },
    "tags": []
   },
   "source": [
    "Let's start with a warm-up question: \"What is the difference between data science, machine learning, and artificial intelligence?\"\n"
   ]
  },
  {
   "cell_type": "code",
   "execution_count": 18,
   "id": "74dd8553",
   "metadata": {
    "execution": {
     "iopub.execute_input": "2024-03-17T00:39:51.821380Z",
     "iopub.status.busy": "2024-03-17T00:39:51.820452Z",
     "iopub.status.idle": "2024-03-17T00:40:26.528153Z",
     "shell.execute_reply": "2024-03-17T00:40:26.527198Z"
    },
    "papermill": {
     "duration": 36.004171,
     "end_time": "2024-03-17T00:40:27.209217",
     "exception": false,
     "start_time": "2024-03-17T00:39:51.205046",
     "status": "completed"
    },
    "tags": []
   },
   "outputs": [
    {
     "name": "stdout",
     "output_type": "stream",
     "text": [
      "Sure, here's a summary of the difference between data science, machine learning, and artificial intelligence:\n",
      "\n",
      "Data Science\n",
      "\n",
      "* Focuses on extracting knowledge from data and applying the knowledge and insights from that data to solve problems.\n",
      "* Uses scientific methods, processes, algorithms, and systems to extract knowledge and insights from data.\n",
      "* Deals with both structured and unstructured data.\n",
      "* Emphasizes reasoning, knowledge representation, planning, learning, natural language processing, perception, and support for robotics.\n",
      "\n",
      "Machine Learning\n",
      "\n",
      "* A subfield of data science that focuses on developing algorithms and techniques that can learn from data.\n",
      "* Uses statistical methods and algorithms to build predictive models and make data-driven decisions.\n",
      "* Deals with supervised, semi-supervised, and unsupervised learning tasks.\n",
      "* Emphasizes reasoning, knowledge representation, planning, and learning.\n",
      "\n",
      "Artificial Intelligence\n",
      "\n",
      "* A broader field that encompasses data science, machine learning, and other related areas.\n",
      "* Focuses on developing intelligent agents that can reason and act autonomously.\n",
      "* Deals with both symbolic and continuous reasoning, knowledge representation, planning, and learning.\n",
      "* Emphasizes reasoning, knowledge representation, planning, and learning.\n"
     ]
    }
   ],
   "source": [
    "gemma_ai_assistant.query(\"What is the difference between data science, machine learning, and artificial intelligence?\")"
   ]
  },
  {
   "cell_type": "markdown",
   "id": "56795019",
   "metadata": {
    "papermill": {
     "duration": 0.611506,
     "end_time": "2024-03-17T00:40:28.439374",
     "exception": false,
     "start_time": "2024-03-17T00:40:27.827868",
     "status": "completed"
    },
    "tags": []
   },
   "source": [
    "Now a more complicated question, that you may also encounter in a data science interview!\n"
   ]
  },
  {
   "cell_type": "code",
   "execution_count": 19,
   "id": "b87f5483",
   "metadata": {
    "execution": {
     "iopub.execute_input": "2024-03-17T00:40:29.770681Z",
     "iopub.status.busy": "2024-03-17T00:40:29.770220Z",
     "iopub.status.idle": "2024-03-17T00:41:09.122995Z",
     "shell.execute_reply": "2024-03-17T00:41:09.122034Z"
    },
    "papermill": {
     "duration": 40.638728,
     "end_time": "2024-03-17T00:41:09.758206",
     "exception": false,
     "start_time": "2024-03-17T00:40:29.119478",
     "status": "completed"
    },
    "tags": []
   },
   "outputs": [
    {
     "name": "stdout",
     "output_type": "stream",
     "text": [
      "Sure, here's an explanation of how linear regression works:\n",
      "\n",
      "Linear regression is a statistical method used to predict a dependent variable based on one or more independent variables. It is a simple but powerful technique that can be used to model a wide range of relationships between the dependent and independent variables.\n",
      "\n",
      "The basic idea behind linear regression is that the dependent variable can be expressed as a linear function of the independent variables. This means that the dependent variable can be represented by a straight line.\n",
      "\n",
      "The linear predictor function is a function that relates the independent variables to the dependent variable. The weights of the independent variables are chosen to optimize the relationship between the prediction and the criterion.\n",
      "\n",
      "The process of linear regression involves the following steps:\n",
      "\n",
      "1. Define the linear predictor function.\n",
      "2. Choose a regression method.\n",
      "3. Fit the model to the data.\n",
      "4. Evaluate the model's performance.\n",
      "\n",
      "The linear predictor function is a function that expresses the relationship between the dependent and independent variables in a linear equation. The coefficients of the independent variables in this equation represent the weights of the variables in the linear predictor function.\n",
      "\n",
      "The regression method is chosen based on the data and the research question. There are many different regression methods available, each with its own strengths and weaknesses.\n",
      "\n",
      "Once the linear predictor function and regression method have been chosen, the model is fitted to the data. This process involves finding the values of the coefficients that minimize the sum of the squared errors between the predicted values and the actual values.\n",
      "\n",
      "The model's performance is then evaluated to determine how well it fits the data. There are many different metrics that can be used to evaluate model performance, including mean squared error (MSE), root mean squared error (RMSE), and adjusted R-squared.\n",
      "\n",
      "If the model's performance is satisfactory, it can be used to make predictions about the dependent variable based on the independent variables.\n"
     ]
    }
   ],
   "source": [
    "gemma_ai_assistant.query(\"Explain how linear regression works\")"
   ]
  },
  {
   "cell_type": "markdown",
   "id": "0517b537",
   "metadata": {
    "papermill": {
     "duration": 0.615098,
     "end_time": "2024-03-17T00:41:11.077057",
     "exception": false,
     "start_time": "2024-03-17T00:41:10.461959",
     "status": "completed"
    },
    "tags": []
   },
   "source": [
    "Let's ask for more complex methods and algorithms, such as decision trees.\n"
   ]
  },
  {
   "cell_type": "code",
   "execution_count": 20,
   "id": "694ea406",
   "metadata": {
    "execution": {
     "iopub.execute_input": "2024-03-17T00:41:12.312022Z",
     "iopub.status.busy": "2024-03-17T00:41:12.311647Z",
     "iopub.status.idle": "2024-03-17T00:41:47.862614Z",
     "shell.execute_reply": "2024-03-17T00:41:47.861526Z"
    },
    "papermill": {
     "duration": 36.876813,
     "end_time": "2024-03-17T00:41:48.569699",
     "exception": false,
     "start_time": "2024-03-17T00:41:11.692886",
     "status": "completed"
    },
    "tags": []
   },
   "outputs": [
    {
     "name": "stdout",
     "output_type": "stream",
     "text": [
      "Sure, here's a summary of the context:\n",
      "\n",
      "Decision Tree Learning is a supervised machine learning approach used to predict the value of a target variable based on several input variables.\n",
      "\n",
      "Types of Decision Trees:\n",
      "\n",
      "* Classification Tree (CART): Predicts the class of an instance based on the most prominent features.\n",
      "* Regression Tree (CRT): Predicts a real-valued value of an instance based on the most prominent features.\n",
      "\n",
      "Key Concepts:\n",
      "\n",
      "* Tree Structure: A tree in which each internal node represents a feature, and branches represent combinations of features.\n",
      "* Splitting Rules: Criteria used to split the data at each node.\n",
      "* Metrics for Splitting: Measures the homogeneity of the target variable within the subsets.\n",
      "* Ensemble Methods: Combine multiple decision trees to improve accuracy and interpretability.\n",
      "\n",
      "Applications of Decision Tree Learning:\n",
      "\n",
      "* Classification: Predicting the class of an instance.\n",
      "* Regression: Predicting a real-valued value of an instance.\n",
      "\n",
      "Notable Decision Tree Algorithms:\n",
      "\n",
      "* ID3\n",
      "* C4.5\n",
      "* CART\n",
      "* Chi-square Automatic Interaction Detection (CHAID)\n",
      "* Random Forest\n",
      "* Bootstrap Aggregated Trees (BAGging)\n",
      "* Decision List\n"
     ]
    }
   ],
   "source": [
    "gemma_ai_assistant.query(\"What are decision trees, and how do they work in machine learning?\")"
   ]
  },
  {
   "cell_type": "markdown",
   "id": "8bd339a8",
   "metadata": {
    "papermill": {
     "duration": 0.616069,
     "end_time": "2024-03-17T00:41:49.803893",
     "exception": false,
     "start_time": "2024-03-17T00:41:49.187824",
     "status": "completed"
    },
    "tags": []
   },
   "source": [
    "The next question, about cross-validation, is a return to fundamentals."
   ]
  },
  {
   "cell_type": "code",
   "execution_count": 21,
   "id": "eeda0c8a",
   "metadata": {
    "execution": {
     "iopub.execute_input": "2024-03-17T00:41:51.125761Z",
     "iopub.status.busy": "2024-03-17T00:41:51.125373Z",
     "iopub.status.idle": "2024-03-17T00:42:07.391605Z",
     "shell.execute_reply": "2024-03-17T00:42:07.390600Z"
    },
    "papermill": {
     "duration": 16.888548,
     "end_time": "2024-03-17T00:42:07.393700",
     "exception": false,
     "start_time": "2024-03-17T00:41:50.505152",
     "status": "completed"
    },
    "tags": []
   },
   "outputs": [
    {
     "name": "stdout",
     "output_type": "stream",
     "text": [
      "Cross-validation is a statistical technique used in machine learning to assess how well a predictive model will generalize to an independent data set. It involves resampling and sample splitting methods that use different portions of the data to test and train a model on different iterations. This allows the model to be evaluated under different conditions and to identify potential overfitting or underfitting issues. Cross-validation can be used for both model selection and hyperparameter tuning.\n"
     ]
    }
   ],
   "source": [
    "gemma_ai_assistant.query(\"What is cross-validation, and why is it used in machine learning?\")"
   ]
  },
  {
   "cell_type": "markdown",
   "id": "b0f69259",
   "metadata": {
    "papermill": {
     "duration": 0.679193,
     "end_time": "2024-03-17T00:42:08.695814",
     "exception": false,
     "start_time": "2024-03-17T00:42:08.016621",
     "status": "completed"
    },
    "tags": []
   },
   "source": [
    "Finally, a tricky question on regularization. How will the AI Assistant handle it?"
   ]
  },
  {
   "cell_type": "code",
   "execution_count": 22,
   "id": "e95548c0",
   "metadata": {
    "execution": {
     "iopub.execute_input": "2024-03-17T00:42:09.932928Z",
     "iopub.status.busy": "2024-03-17T00:42:09.932542Z",
     "iopub.status.idle": "2024-03-17T00:42:46.118322Z",
     "shell.execute_reply": "2024-03-17T00:42:46.117377Z"
    },
    "papermill": {
     "duration": 37.484915,
     "end_time": "2024-03-17T00:42:46.798959",
     "exception": false,
     "start_time": "2024-03-17T00:42:09.314044",
     "status": "completed"
    },
    "tags": []
   },
   "outputs": [
    {
     "name": "stdout",
     "output_type": "stream",
     "text": [
      "Regularization is a process of introducing additional information into a machine learning model to prevent overfitting. Overfitting occurs when a model becomes too closely fit to the training data, leading to poor performance on unseen data. Regularization introduces a penalty term that penalizes complex functions, forcing the model to be simpler and more generalizable.\n",
      "\n",
      "Regularization has several important benefits for preventing overfitting:\n",
      "\n",
      "- Reduces variance: By penalizing complex functions, regularization reduces the variance of the model's predictions, leading to improved generalization performance.\n",
      "- Improves generalization ability: Regularization forces the model to be more generalizable, allowing it to perform well on unseen data.\n",
      "- Reduces bias-variance tradeoff: Regularization helps to balance the bias and variance of the model, leading to a more accurate and robust model.\n",
      "\n",
      "There are various regularization techniques in machine learning, including:\n",
      "\n",
      "- L1 regularization (Lasso): Minimizes the sum of the absolute values of the model's weights.\n",
      "- L2 regularization (Ridge): Minimizes the squared value of the model's weights.\n",
      "- Tikhonov regularization: Minimizes a combination of the L1 and L2 norms of the model's weights.\n"
     ]
    }
   ],
   "source": [
    "gemma_ai_assistant.query(\"Explain the concept of regularization and its importance in preventing overfitting in machine learning models\")"
   ]
  },
  {
   "cell_type": "markdown",
   "id": "81dc292f",
   "metadata": {
    "papermill": {
     "duration": 0.640042,
     "end_time": "2024-03-17T00:42:48.052400",
     "exception": false,
     "start_time": "2024-03-17T00:42:47.412358",
     "status": "completed"
    },
    "tags": []
   },
   "source": [
    "# 7. Conclusions"
   ]
  },
  {
   "cell_type": "markdown",
   "id": "c1290ae2",
   "metadata": {
    "papermill": {
     "duration": 0.674735,
     "end_time": "2024-03-17T00:42:49.400405",
     "exception": false,
     "start_time": "2024-03-17T00:42:48.725670",
     "status": "completed"
    },
    "tags": []
   },
   "source": [
    "It seems that the AI Assistant is working fine and promptly answering questions in a correct and usable way. Using the same approach, the same code could also be used for other tasks of this competition such as:\n",
    "\n",
    "- Answering common questions about the Python programming language\n",
    "- Explaining or teaching concepts from Kaggle competition solution write-ups\n",
    "- Answering common questions about the Kaggle platform\n",
    "\n",
    "All you need is to prepare the context data by extraction from a website, a dataset, or other sources such as the meta-Kaggle meta.\n",
    "\n",
    "Enjoy your new AI assistant powered by Gemma 2b-it :-)\n"
   ]
  }
 ],
 "metadata": {
  "kaggle": {
   "accelerator": "gpu",
   "dataSources": [
    {
     "databundleVersionId": 7669720,
     "sourceId": 64148,
     "sourceType": "competition"
    },
    {
     "modelInstanceId": 8318,
     "sourceId": 11264,
     "sourceType": "modelInstanceVersion"
    }
   ],
   "dockerImageVersionId": 30664,
   "isGpuEnabled": true,
   "isInternetEnabled": true,
   "language": "python",
   "sourceType": "notebook"
  },
  "kernelspec": {
   "display_name": "Python 3",
   "language": "python",
   "name": "python3"
  },
  "language_info": {
   "codemirror_mode": {
    "name": "ipython",
    "version": 3
   },
   "file_extension": ".py",
   "mimetype": "text/x-python",
   "name": "python",
   "nbconvert_exporter": "python",
   "pygments_lexer": "ipython3",
   "version": "3.10.13"
  },
  "papermill": {
   "default_parameters": {},
   "duration": 1540.340267,
   "end_time": "2024-03-17T00:42:53.375471",
   "environment_variables": {},
   "exception": null,
   "input_path": "__notebook__.ipynb",
   "output_path": "__notebook__.ipynb",
   "parameters": {},
   "start_time": "2024-03-17T00:17:13.035204",
   "version": "2.5.0"
  },
  "widgets": {
   "application/vnd.jupyter.widget-state+json": {
    "state": {
     "009c5e6f21134cad87f16e09a0c7a28e": {
      "model_module": "@jupyter-widgets/controls",
      "model_module_version": "1.5.0",
      "model_name": "HTMLModel",
      "state": {
       "_dom_classes": [],
       "_model_module": "@jupyter-widgets/controls",
       "_model_module_version": "1.5.0",
       "_model_name": "HTMLModel",
       "_view_count": null,
       "_view_module": "@jupyter-widgets/controls",
       "_view_module_version": "1.5.0",
       "_view_name": "HTMLView",
       "description": "",
       "description_tooltip": null,
       "layout": "IPY_MODEL_d53185c782be4f199adeb5dcb8aef852",
       "placeholder": "​",
       "style": "IPY_MODEL_b25f6d9fc5e24872badd43933bc134a8",
       "value": "sentence_bert_config.json: 100%"
      }
     },
     "01f167f9f84c433b9174f8799fe5eb56": {
      "model_module": "@jupyter-widgets/controls",
      "model_module_version": "1.5.0",
      "model_name": "HBoxModel",
      "state": {
       "_dom_classes": [],
       "_model_module": "@jupyter-widgets/controls",
       "_model_module_version": "1.5.0",
       "_model_name": "HBoxModel",
       "_view_count": null,
       "_view_module": "@jupyter-widgets/controls",
       "_view_module_version": "1.5.0",
       "_view_name": "HBoxView",
       "box_style": "",
       "children": [
        "IPY_MODEL_3cd14f78d81d471984ea3f0a97cc6fde",
        "IPY_MODEL_dc54295289ea4f3581ed454e846fc1ab",
        "IPY_MODEL_50f4886c4ee54272b7fda6c60ea8d775"
       ],
       "layout": "IPY_MODEL_4698116c148f443f9094e0095cd06329"
      }
     },
     "04f9309cc9e44002bbd639804e4286d0": {
      "model_module": "@jupyter-widgets/controls",
      "model_module_version": "1.5.0",
      "model_name": "HTMLModel",
      "state": {
       "_dom_classes": [],
       "_model_module": "@jupyter-widgets/controls",
       "_model_module_version": "1.5.0",
       "_model_name": "HTMLModel",
       "_view_count": null,
       "_view_module": "@jupyter-widgets/controls",
       "_view_module_version": "1.5.0",
       "_view_name": "HTMLView",
       "description": "",
       "description_tooltip": null,
       "layout": "IPY_MODEL_4a0e3b70f54a4cf6868e2c8f63cc149d",
       "placeholder": "​",
       "style": "IPY_MODEL_c65640f915944211849196f8370d3b9c",
       "value": "tokenizer.json: 100%"
      }
     },
     "0533155058284c7b8ae0f158f11b4f7f": {
      "model_module": "@jupyter-widgets/base",
      "model_module_version": "1.2.0",
      "model_name": "LayoutModel",
      "state": {
       "_model_module": "@jupyter-widgets/base",
       "_model_module_version": "1.2.0",
       "_model_name": "LayoutModel",
       "_view_count": null,
       "_view_module": "@jupyter-widgets/base",
       "_view_module_version": "1.2.0",
       "_view_name": "LayoutView",
       "align_content": null,
       "align_items": null,
       "align_self": null,
       "border": null,
       "bottom": null,
       "display": null,
       "flex": null,
       "flex_flow": null,
       "grid_area": null,
       "grid_auto_columns": null,
       "grid_auto_flow": null,
       "grid_auto_rows": null,
       "grid_column": null,
       "grid_gap": null,
       "grid_row": null,
       "grid_template_areas": null,
       "grid_template_columns": null,
       "grid_template_rows": null,
       "height": null,
       "justify_content": null,
       "justify_items": null,
       "left": null,
       "margin": null,
       "max_height": null,
       "max_width": null,
       "min_height": null,
       "min_width": null,
       "object_fit": null,
       "object_position": null,
       "order": null,
       "overflow": null,
       "overflow_x": null,
       "overflow_y": null,
       "padding": null,
       "right": null,
       "top": null,
       "visibility": null,
       "width": null
      }
     },
     "058194d7d96542f689242153ce703647": {
      "model_module": "@jupyter-widgets/base",
      "model_module_version": "1.2.0",
      "model_name": "LayoutModel",
      "state": {
       "_model_module": "@jupyter-widgets/base",
       "_model_module_version": "1.2.0",
       "_model_name": "LayoutModel",
       "_view_count": null,
       "_view_module": "@jupyter-widgets/base",
       "_view_module_version": "1.2.0",
       "_view_name": "LayoutView",
       "align_content": null,
       "align_items": null,
       "align_self": null,
       "border": null,
       "bottom": null,
       "display": null,
       "flex": null,
       "flex_flow": null,
       "grid_area": null,
       "grid_auto_columns": null,
       "grid_auto_flow": null,
       "grid_auto_rows": null,
       "grid_column": null,
       "grid_gap": null,
       "grid_row": null,
       "grid_template_areas": null,
       "grid_template_columns": null,
       "grid_template_rows": null,
       "height": null,
       "justify_content": null,
       "justify_items": null,
       "left": null,
       "margin": null,
       "max_height": null,
       "max_width": null,
       "min_height": null,
       "min_width": null,
       "object_fit": null,
       "object_position": null,
       "order": null,
       "overflow": null,
       "overflow_x": null,
       "overflow_y": null,
       "padding": null,
       "right": null,
       "top": null,
       "visibility": null,
       "width": null
      }
     },
     "05aa86f956da4e838a5291a6e13b1f99": {
      "model_module": "@jupyter-widgets/base",
      "model_module_version": "1.2.0",
      "model_name": "LayoutModel",
      "state": {
       "_model_module": "@jupyter-widgets/base",
       "_model_module_version": "1.2.0",
       "_model_name": "LayoutModel",
       "_view_count": null,
       "_view_module": "@jupyter-widgets/base",
       "_view_module_version": "1.2.0",
       "_view_name": "LayoutView",
       "align_content": null,
       "align_items": null,
       "align_self": null,
       "border": null,
       "bottom": null,
       "display": null,
       "flex": null,
       "flex_flow": null,
       "grid_area": null,
       "grid_auto_columns": null,
       "grid_auto_flow": null,
       "grid_auto_rows": null,
       "grid_column": null,
       "grid_gap": null,
       "grid_row": null,
       "grid_template_areas": null,
       "grid_template_columns": null,
       "grid_template_rows": null,
       "height": null,
       "justify_content": null,
       "justify_items": null,
       "left": null,
       "margin": null,
       "max_height": null,
       "max_width": null,
       "min_height": null,
       "min_width": null,
       "object_fit": null,
       "object_position": null,
       "order": null,
       "overflow": null,
       "overflow_x": null,
       "overflow_y": null,
       "padding": null,
       "right": null,
       "top": null,
       "visibility": null,
       "width": null
      }
     },
     "074f43fd9e6a4d4d9738919031cf83fd": {
      "model_module": "@jupyter-widgets/base",
      "model_module_version": "1.2.0",
      "model_name": "LayoutModel",
      "state": {
       "_model_module": "@jupyter-widgets/base",
       "_model_module_version": "1.2.0",
       "_model_name": "LayoutModel",
       "_view_count": null,
       "_view_module": "@jupyter-widgets/base",
       "_view_module_version": "1.2.0",
       "_view_name": "LayoutView",
       "align_content": null,
       "align_items": null,
       "align_self": null,
       "border": null,
       "bottom": null,
       "display": null,
       "flex": null,
       "flex_flow": null,
       "grid_area": null,
       "grid_auto_columns": null,
       "grid_auto_flow": null,
       "grid_auto_rows": null,
       "grid_column": null,
       "grid_gap": null,
       "grid_row": null,
       "grid_template_areas": null,
       "grid_template_columns": null,
       "grid_template_rows": null,
       "height": null,
       "justify_content": null,
       "justify_items": null,
       "left": null,
       "margin": null,
       "max_height": null,
       "max_width": null,
       "min_height": null,
       "min_width": null,
       "object_fit": null,
       "object_position": null,
       "order": null,
       "overflow": null,
       "overflow_x": null,
       "overflow_y": null,
       "padding": null,
       "right": null,
       "top": null,
       "visibility": null,
       "width": null
      }
     },
     "0ad057cc54d04eb29098dc7f5c54c000": {
      "model_module": "@jupyter-widgets/controls",
      "model_module_version": "1.5.0",
      "model_name": "ProgressStyleModel",
      "state": {
       "_model_module": "@jupyter-widgets/controls",
       "_model_module_version": "1.5.0",
       "_model_name": "ProgressStyleModel",
       "_view_count": null,
       "_view_module": "@jupyter-widgets/base",
       "_view_module_version": "1.2.0",
       "_view_name": "StyleView",
       "bar_color": null,
       "description_width": ""
      }
     },
     "0c82ba14420c4a90be8e6e1246f41d39": {
      "model_module": "@jupyter-widgets/base",
      "model_module_version": "1.2.0",
      "model_name": "LayoutModel",
      "state": {
       "_model_module": "@jupyter-widgets/base",
       "_model_module_version": "1.2.0",
       "_model_name": "LayoutModel",
       "_view_count": null,
       "_view_module": "@jupyter-widgets/base",
       "_view_module_version": "1.2.0",
       "_view_name": "LayoutView",
       "align_content": null,
       "align_items": null,
       "align_self": null,
       "border": null,
       "bottom": null,
       "display": null,
       "flex": null,
       "flex_flow": null,
       "grid_area": null,
       "grid_auto_columns": null,
       "grid_auto_flow": null,
       "grid_auto_rows": null,
       "grid_column": null,
       "grid_gap": null,
       "grid_row": null,
       "grid_template_areas": null,
       "grid_template_columns": null,
       "grid_template_rows": null,
       "height": null,
       "justify_content": null,
       "justify_items": null,
       "left": null,
       "margin": null,
       "max_height": null,
       "max_width": null,
       "min_height": null,
       "min_width": null,
       "object_fit": null,
       "object_position": null,
       "order": null,
       "overflow": null,
       "overflow_x": null,
       "overflow_y": null,
       "padding": null,
       "right": null,
       "top": null,
       "visibility": null,
       "width": null
      }
     },
     "0d4b7d4e8ce74918a97bd69759886c84": {
      "model_module": "@jupyter-widgets/base",
      "model_module_version": "1.2.0",
      "model_name": "LayoutModel",
      "state": {
       "_model_module": "@jupyter-widgets/base",
       "_model_module_version": "1.2.0",
       "_model_name": "LayoutModel",
       "_view_count": null,
       "_view_module": "@jupyter-widgets/base",
       "_view_module_version": "1.2.0",
       "_view_name": "LayoutView",
       "align_content": null,
       "align_items": null,
       "align_self": null,
       "border": null,
       "bottom": null,
       "display": null,
       "flex": null,
       "flex_flow": null,
       "grid_area": null,
       "grid_auto_columns": null,
       "grid_auto_flow": null,
       "grid_auto_rows": null,
       "grid_column": null,
       "grid_gap": null,
       "grid_row": null,
       "grid_template_areas": null,
       "grid_template_columns": null,
       "grid_template_rows": null,
       "height": null,
       "justify_content": null,
       "justify_items": null,
       "left": null,
       "margin": null,
       "max_height": null,
       "max_width": null,
       "min_height": null,
       "min_width": null,
       "object_fit": null,
       "object_position": null,
       "order": null,
       "overflow": null,
       "overflow_x": null,
       "overflow_y": null,
       "padding": null,
       "right": null,
       "top": null,
       "visibility": null,
       "width": null
      }
     },
     "1049fefd43ae4449a86b7c5f1c47c92b": {
      "model_module": "@jupyter-widgets/controls",
      "model_module_version": "1.5.0",
      "model_name": "FloatProgressModel",
      "state": {
       "_dom_classes": [],
       "_model_module": "@jupyter-widgets/controls",
       "_model_module_version": "1.5.0",
       "_model_name": "FloatProgressModel",
       "_view_count": null,
       "_view_module": "@jupyter-widgets/controls",
       "_view_module_version": "1.5.0",
       "_view_name": "ProgressView",
       "bar_style": "success",
       "description": "",
       "description_tooltip": null,
       "layout": "IPY_MODEL_8788ee24467548bd818072d93d79a622",
       "max": 57.0,
       "min": 0.0,
       "orientation": "horizontal",
       "style": "IPY_MODEL_dc325ccfb2464d97be4e71a4050e3361",
       "value": 57.0
      }
     },
     "197138e449ee4b92881a071736629143": {
      "model_module": "@jupyter-widgets/controls",
      "model_module_version": "1.5.0",
      "model_name": "HBoxModel",
      "state": {
       "_dom_classes": [],
       "_model_module": "@jupyter-widgets/controls",
       "_model_module_version": "1.5.0",
       "_model_name": "HBoxModel",
       "_view_count": null,
       "_view_module": "@jupyter-widgets/controls",
       "_view_module_version": "1.5.0",
       "_view_name": "HBoxView",
       "box_style": "",
       "children": [
        "IPY_MODEL_009c5e6f21134cad87f16e09a0c7a28e",
        "IPY_MODEL_1049fefd43ae4449a86b7c5f1c47c92b",
        "IPY_MODEL_ebc11960e92a45c5957fddda715347f3"
       ],
       "layout": "IPY_MODEL_3a6bcd5daf904de28b073f5f0a83293f"
      }
     },
     "282432a3f21f47a5a6823ad8c6e3e77b": {
      "model_module": "@jupyter-widgets/base",
      "model_module_version": "1.2.0",
      "model_name": "LayoutModel",
      "state": {
       "_model_module": "@jupyter-widgets/base",
       "_model_module_version": "1.2.0",
       "_model_name": "LayoutModel",
       "_view_count": null,
       "_view_module": "@jupyter-widgets/base",
       "_view_module_version": "1.2.0",
       "_view_name": "LayoutView",
       "align_content": null,
       "align_items": null,
       "align_self": null,
       "border": null,
       "bottom": null,
       "display": null,
       "flex": null,
       "flex_flow": null,
       "grid_area": null,
       "grid_auto_columns": null,
       "grid_auto_flow": null,
       "grid_auto_rows": null,
       "grid_column": null,
       "grid_gap": null,
       "grid_row": null,
       "grid_template_areas": null,
       "grid_template_columns": null,
       "grid_template_rows": null,
       "height": null,
       "justify_content": null,
       "justify_items": null,
       "left": null,
       "margin": null,
       "max_height": null,
       "max_width": null,
       "min_height": null,
       "min_width": null,
       "object_fit": null,
       "object_position": null,
       "order": null,
       "overflow": null,
       "overflow_x": null,
       "overflow_y": null,
       "padding": null,
       "right": null,
       "top": null,
       "visibility": null,
       "width": null
      }
     },
     "283ddaac26cd4992aab686cd2cfeecf2": {
      "model_module": "@jupyter-widgets/controls",
      "model_module_version": "1.5.0",
      "model_name": "HTMLModel",
      "state": {
       "_dom_classes": [],
       "_model_module": "@jupyter-widgets/controls",
       "_model_module_version": "1.5.0",
       "_model_name": "HTMLModel",
       "_view_count": null,
       "_view_module": "@jupyter-widgets/controls",
       "_view_module_version": "1.5.0",
       "_view_name": "HTMLView",
       "description": "",
       "description_tooltip": null,
       "layout": "IPY_MODEL_c799133b357b48b3abd9178098b52e6d",
       "placeholder": "​",
       "style": "IPY_MODEL_357c370b12044581b92b567713344ee8",
       "value": " 385/385 [00:00&lt;00:00, 33.8kB/s]"
      }
     },
     "28ec2d2fcb834816b0607ff432b7d9a2": {
      "model_module": "@jupyter-widgets/controls",
      "model_module_version": "1.5.0",
      "model_name": "DescriptionStyleModel",
      "state": {
       "_model_module": "@jupyter-widgets/controls",
       "_model_module_version": "1.5.0",
       "_model_name": "DescriptionStyleModel",
       "_view_count": null,
       "_view_module": "@jupyter-widgets/base",
       "_view_module_version": "1.2.0",
       "_view_name": "StyleView",
       "description_width": ""
      }
     },
     "2a44764001614d5fb9be00d889746351": {
      "model_module": "@jupyter-widgets/controls",
      "model_module_version": "1.5.0",
      "model_name": "DescriptionStyleModel",
      "state": {
       "_model_module": "@jupyter-widgets/controls",
       "_model_module_version": "1.5.0",
       "_model_name": "DescriptionStyleModel",
       "_view_count": null,
       "_view_module": "@jupyter-widgets/base",
       "_view_module_version": "1.2.0",
       "_view_name": "StyleView",
       "description_width": ""
      }
     },
     "2ae262a256ad412cba1c30c0bdd09a7c": {
      "model_module": "@jupyter-widgets/base",
      "model_module_version": "1.2.0",
      "model_name": "LayoutModel",
      "state": {
       "_model_module": "@jupyter-widgets/base",
       "_model_module_version": "1.2.0",
       "_model_name": "LayoutModel",
       "_view_count": null,
       "_view_module": "@jupyter-widgets/base",
       "_view_module_version": "1.2.0",
       "_view_name": "LayoutView",
       "align_content": null,
       "align_items": null,
       "align_self": null,
       "border": null,
       "bottom": null,
       "display": null,
       "flex": null,
       "flex_flow": null,
       "grid_area": null,
       "grid_auto_columns": null,
       "grid_auto_flow": null,
       "grid_auto_rows": null,
       "grid_column": null,
       "grid_gap": null,
       "grid_row": null,
       "grid_template_areas": null,
       "grid_template_columns": null,
       "grid_template_rows": null,
       "height": null,
       "justify_content": null,
       "justify_items": null,
       "left": null,
       "margin": null,
       "max_height": null,
       "max_width": null,
       "min_height": null,
       "min_width": null,
       "object_fit": null,
       "object_position": null,
       "order": null,
       "overflow": null,
       "overflow_x": null,
       "overflow_y": null,
       "padding": null,
       "right": null,
       "top": null,
       "visibility": null,
       "width": null
      }
     },
     "2bc8b434131c444ba8604c373a87dd4e": {
      "model_module": "@jupyter-widgets/controls",
      "model_module_version": "1.5.0",
      "model_name": "FloatProgressModel",
      "state": {
       "_dom_classes": [],
       "_model_module": "@jupyter-widgets/controls",
       "_model_module_version": "1.5.0",
       "_model_name": "FloatProgressModel",
       "_view_count": null,
       "_view_module": "@jupyter-widgets/controls",
       "_view_module_version": "1.5.0",
       "_view_name": "ProgressView",
       "bar_style": "success",
       "description": "",
       "description_tooltip": null,
       "layout": "IPY_MODEL_b2175fc5f94d48d7bcea84222205beb0",
       "max": 385.0,
       "min": 0.0,
       "orientation": "horizontal",
       "style": "IPY_MODEL_3e35a12dbd9e418998627bffdfeae793",
       "value": 385.0
      }
     },
     "2d1b60a661874fc38133c31f7f7b3663": {
      "model_module": "@jupyter-widgets/controls",
      "model_module_version": "1.5.0",
      "model_name": "HTMLModel",
      "state": {
       "_dom_classes": [],
       "_model_module": "@jupyter-widgets/controls",
       "_model_module_version": "1.5.0",
       "_model_name": "HTMLModel",
       "_view_count": null,
       "_view_module": "@jupyter-widgets/controls",
       "_view_module_version": "1.5.0",
       "_view_name": "HTMLView",
       "description": "",
       "description_tooltip": null,
       "layout": "IPY_MODEL_074f43fd9e6a4d4d9738919031cf83fd",
       "placeholder": "​",
       "style": "IPY_MODEL_28ec2d2fcb834816b0607ff432b7d9a2",
       "value": " 712k/712k [00:00&lt;00:00, 2.93MB/s]"
      }
     },
     "2fa822fc520e44ad9d808f491235e81f": {
      "model_module": "@jupyter-widgets/controls",
      "model_module_version": "1.5.0",
      "model_name": "FloatProgressModel",
      "state": {
       "_dom_classes": [],
       "_model_module": "@jupyter-widgets/controls",
       "_model_module_version": "1.5.0",
       "_model_name": "FloatProgressModel",
       "_view_count": null,
       "_view_module": "@jupyter-widgets/controls",
       "_view_module_version": "1.5.0",
       "_view_name": "ProgressView",
       "bar_style": "success",
       "description": "",
       "description_tooltip": null,
       "layout": "IPY_MODEL_2ae262a256ad412cba1c30c0bdd09a7c",
       "max": 191.0,
       "min": 0.0,
       "orientation": "horizontal",
       "style": "IPY_MODEL_d64c16e3a7444184ac480b16a3e88e92",
       "value": 191.0
      }
     },
     "3219b206df484bc496d4a61d006a0bae": {
      "model_module": "@jupyter-widgets/controls",
      "model_module_version": "1.5.0",
      "model_name": "ProgressStyleModel",
      "state": {
       "_model_module": "@jupyter-widgets/controls",
       "_model_module_version": "1.5.0",
       "_model_name": "ProgressStyleModel",
       "_view_count": null,
       "_view_module": "@jupyter-widgets/base",
       "_view_module_version": "1.2.0",
       "_view_name": "StyleView",
       "bar_color": null,
       "description_width": ""
      }
     },
     "323d98e9edac46ee91da2ec12e8a8302": {
      "model_module": "@jupyter-widgets/controls",
      "model_module_version": "1.5.0",
      "model_name": "DescriptionStyleModel",
      "state": {
       "_model_module": "@jupyter-widgets/controls",
       "_model_module_version": "1.5.0",
       "_model_name": "DescriptionStyleModel",
       "_view_count": null,
       "_view_module": "@jupyter-widgets/base",
       "_view_module_version": "1.2.0",
       "_view_name": "StyleView",
       "description_width": ""
      }
     },
     "32ae989af4454245b5f8819185969cde": {
      "model_module": "@jupyter-widgets/base",
      "model_module_version": "1.2.0",
      "model_name": "LayoutModel",
      "state": {
       "_model_module": "@jupyter-widgets/base",
       "_model_module_version": "1.2.0",
       "_model_name": "LayoutModel",
       "_view_count": null,
       "_view_module": "@jupyter-widgets/base",
       "_view_module_version": "1.2.0",
       "_view_name": "LayoutView",
       "align_content": null,
       "align_items": null,
       "align_self": null,
       "border": null,
       "bottom": null,
       "display": null,
       "flex": null,
       "flex_flow": null,
       "grid_area": null,
       "grid_auto_columns": null,
       "grid_auto_flow": null,
       "grid_auto_rows": null,
       "grid_column": null,
       "grid_gap": null,
       "grid_row": null,
       "grid_template_areas": null,
       "grid_template_columns": null,
       "grid_template_rows": null,
       "height": null,
       "justify_content": null,
       "justify_items": null,
       "left": null,
       "margin": null,
       "max_height": null,
       "max_width": null,
       "min_height": null,
       "min_width": null,
       "object_fit": null,
       "object_position": null,
       "order": null,
       "overflow": null,
       "overflow_x": null,
       "overflow_y": null,
       "padding": null,
       "right": null,
       "top": null,
       "visibility": null,
       "width": null
      }
     },
     "357c370b12044581b92b567713344ee8": {
      "model_module": "@jupyter-widgets/controls",
      "model_module_version": "1.5.0",
      "model_name": "DescriptionStyleModel",
      "state": {
       "_model_module": "@jupyter-widgets/controls",
       "_model_module_version": "1.5.0",
       "_model_name": "DescriptionStyleModel",
       "_view_count": null,
       "_view_module": "@jupyter-widgets/base",
       "_view_module_version": "1.2.0",
       "_view_name": "StyleView",
       "description_width": ""
      }
     },
     "3610ad2dfd9f4cb7ad151ce079bf9efd": {
      "model_module": "@jupyter-widgets/controls",
      "model_module_version": "1.5.0",
      "model_name": "FloatProgressModel",
      "state": {
       "_dom_classes": [],
       "_model_module": "@jupyter-widgets/controls",
       "_model_module_version": "1.5.0",
       "_model_name": "FloatProgressModel",
       "_view_count": null,
       "_view_module": "@jupyter-widgets/controls",
       "_view_module_version": "1.5.0",
       "_view_name": "ProgressView",
       "bar_style": "success",
       "description": "",
       "description_tooltip": null,
       "layout": "IPY_MODEL_e2689732f69f44c088c19b7d014b2b46",
       "max": 711661.0,
       "min": 0.0,
       "orientation": "horizontal",
       "style": "IPY_MODEL_3219b206df484bc496d4a61d006a0bae",
       "value": 711661.0
      }
     },
     "3a6bcd5daf904de28b073f5f0a83293f": {
      "model_module": "@jupyter-widgets/base",
      "model_module_version": "1.2.0",
      "model_name": "LayoutModel",
      "state": {
       "_model_module": "@jupyter-widgets/base",
       "_model_module_version": "1.2.0",
       "_model_name": "LayoutModel",
       "_view_count": null,
       "_view_module": "@jupyter-widgets/base",
       "_view_module_version": "1.2.0",
       "_view_name": "LayoutView",
       "align_content": null,
       "align_items": null,
       "align_self": null,
       "border": null,
       "bottom": null,
       "display": null,
       "flex": null,
       "flex_flow": null,
       "grid_area": null,
       "grid_auto_columns": null,
       "grid_auto_flow": null,
       "grid_auto_rows": null,
       "grid_column": null,
       "grid_gap": null,
       "grid_row": null,
       "grid_template_areas": null,
       "grid_template_columns": null,
       "grid_template_rows": null,
       "height": null,
       "justify_content": null,
       "justify_items": null,
       "left": null,
       "margin": null,
       "max_height": null,
       "max_width": null,
       "min_height": null,
       "min_width": null,
       "object_fit": null,
       "object_position": null,
       "order": null,
       "overflow": null,
       "overflow_x": null,
       "overflow_y": null,
       "padding": null,
       "right": null,
       "top": null,
       "visibility": null,
       "width": null
      }
     },
     "3cd14f78d81d471984ea3f0a97cc6fde": {
      "model_module": "@jupyter-widgets/controls",
      "model_module_version": "1.5.0",
      "model_name": "HTMLModel",
      "state": {
       "_dom_classes": [],
       "_model_module": "@jupyter-widgets/controls",
       "_model_module_version": "1.5.0",
       "_model_name": "HTMLModel",
       "_view_count": null,
       "_view_module": "@jupyter-widgets/controls",
       "_view_module_version": "1.5.0",
       "_view_name": "HTMLView",
       "description": "",
       "description_tooltip": null,
       "layout": "IPY_MODEL_fac79eff35d0490ea798de8a6c938c15",
       "placeholder": "​",
       "style": "IPY_MODEL_c6f8aa9e7d954a09b5da6e3c28f02373",
       "value": "model.safetensors: 100%"
      }
     },
     "3d86412fd2fa40df8597743aa81d2854": {
      "model_module": "@jupyter-widgets/controls",
      "model_module_version": "1.5.0",
      "model_name": "ProgressStyleModel",
      "state": {
       "_model_module": "@jupyter-widgets/controls",
       "_model_module_version": "1.5.0",
       "_model_name": "ProgressStyleModel",
       "_view_count": null,
       "_view_module": "@jupyter-widgets/base",
       "_view_module_version": "1.2.0",
       "_view_name": "StyleView",
       "bar_color": null,
       "description_width": ""
      }
     },
     "3dffbdeba4244efa97db644b5efc9263": {
      "model_module": "@jupyter-widgets/base",
      "model_module_version": "1.2.0",
      "model_name": "LayoutModel",
      "state": {
       "_model_module": "@jupyter-widgets/base",
       "_model_module_version": "1.2.0",
       "_model_name": "LayoutModel",
       "_view_count": null,
       "_view_module": "@jupyter-widgets/base",
       "_view_module_version": "1.2.0",
       "_view_name": "LayoutView",
       "align_content": null,
       "align_items": null,
       "align_self": null,
       "border": null,
       "bottom": null,
       "display": null,
       "flex": null,
       "flex_flow": null,
       "grid_area": null,
       "grid_auto_columns": null,
       "grid_auto_flow": null,
       "grid_auto_rows": null,
       "grid_column": null,
       "grid_gap": null,
       "grid_row": null,
       "grid_template_areas": null,
       "grid_template_columns": null,
       "grid_template_rows": null,
       "height": null,
       "justify_content": null,
       "justify_items": null,
       "left": null,
       "margin": null,
       "max_height": null,
       "max_width": null,
       "min_height": null,
       "min_width": null,
       "object_fit": null,
       "object_position": null,
       "order": null,
       "overflow": null,
       "overflow_x": null,
       "overflow_y": null,
       "padding": null,
       "right": null,
       "top": null,
       "visibility": null,
       "width": null
      }
     },
     "3e35a12dbd9e418998627bffdfeae793": {
      "model_module": "@jupyter-widgets/controls",
      "model_module_version": "1.5.0",
      "model_name": "ProgressStyleModel",
      "state": {
       "_model_module": "@jupyter-widgets/controls",
       "_model_module_version": "1.5.0",
       "_model_name": "ProgressStyleModel",
       "_view_count": null,
       "_view_module": "@jupyter-widgets/base",
       "_view_module_version": "1.2.0",
       "_view_name": "StyleView",
       "bar_color": null,
       "description_width": ""
      }
     },
     "3eaab5739d1e4555834450b929b8f302": {
      "model_module": "@jupyter-widgets/controls",
      "model_module_version": "1.5.0",
      "model_name": "HBoxModel",
      "state": {
       "_dom_classes": [],
       "_model_module": "@jupyter-widgets/controls",
       "_model_module_version": "1.5.0",
       "_model_name": "HBoxModel",
       "_view_count": null,
       "_view_module": "@jupyter-widgets/controls",
       "_view_module_version": "1.5.0",
       "_view_name": "HBoxView",
       "box_style": "",
       "children": [
        "IPY_MODEL_5937905c4f704638865c6c644b6693ea",
        "IPY_MODEL_c57ba33f3c38458c907e6f8181c65e3e",
        "IPY_MODEL_872d9a5db91649a6a6c63716ce9590ef"
       ],
       "layout": "IPY_MODEL_88055530f58c49d69e7b25d63dc7c3b3"
      }
     },
     "3efd35e320f1420e85ee66a76d75b5d9": {
      "model_module": "@jupyter-widgets/base",
      "model_module_version": "1.2.0",
      "model_name": "LayoutModel",
      "state": {
       "_model_module": "@jupyter-widgets/base",
       "_model_module_version": "1.2.0",
       "_model_name": "LayoutModel",
       "_view_count": null,
       "_view_module": "@jupyter-widgets/base",
       "_view_module_version": "1.2.0",
       "_view_name": "LayoutView",
       "align_content": null,
       "align_items": null,
       "align_self": null,
       "border": null,
       "bottom": null,
       "display": null,
       "flex": null,
       "flex_flow": null,
       "grid_area": null,
       "grid_auto_columns": null,
       "grid_auto_flow": null,
       "grid_auto_rows": null,
       "grid_column": null,
       "grid_gap": null,
       "grid_row": null,
       "grid_template_areas": null,
       "grid_template_columns": null,
       "grid_template_rows": null,
       "height": null,
       "justify_content": null,
       "justify_items": null,
       "left": null,
       "margin": null,
       "max_height": null,
       "max_width": null,
       "min_height": null,
       "min_width": null,
       "object_fit": null,
       "object_position": null,
       "order": null,
       "overflow": null,
       "overflow_x": null,
       "overflow_y": null,
       "padding": null,
       "right": null,
       "top": null,
       "visibility": null,
       "width": null
      }
     },
     "4059973179fb4518bc15ba61cff2161e": {
      "model_module": "@jupyter-widgets/base",
      "model_module_version": "1.2.0",
      "model_name": "LayoutModel",
      "state": {
       "_model_module": "@jupyter-widgets/base",
       "_model_module_version": "1.2.0",
       "_model_name": "LayoutModel",
       "_view_count": null,
       "_view_module": "@jupyter-widgets/base",
       "_view_module_version": "1.2.0",
       "_view_name": "LayoutView",
       "align_content": null,
       "align_items": null,
       "align_self": null,
       "border": null,
       "bottom": null,
       "display": null,
       "flex": null,
       "flex_flow": null,
       "grid_area": null,
       "grid_auto_columns": null,
       "grid_auto_flow": null,
       "grid_auto_rows": null,
       "grid_column": null,
       "grid_gap": null,
       "grid_row": null,
       "grid_template_areas": null,
       "grid_template_columns": null,
       "grid_template_rows": null,
       "height": null,
       "justify_content": null,
       "justify_items": null,
       "left": null,
       "margin": null,
       "max_height": null,
       "max_width": null,
       "min_height": null,
       "min_width": null,
       "object_fit": null,
       "object_position": null,
       "order": null,
       "overflow": null,
       "overflow_x": null,
       "overflow_y": null,
       "padding": null,
       "right": null,
       "top": null,
       "visibility": null,
       "width": null
      }
     },
     "40afcf778b594170a04c0fe5e1c84d8a": {
      "model_module": "@jupyter-widgets/base",
      "model_module_version": "1.2.0",
      "model_name": "LayoutModel",
      "state": {
       "_model_module": "@jupyter-widgets/base",
       "_model_module_version": "1.2.0",
       "_model_name": "LayoutModel",
       "_view_count": null,
       "_view_module": "@jupyter-widgets/base",
       "_view_module_version": "1.2.0",
       "_view_name": "LayoutView",
       "align_content": null,
       "align_items": null,
       "align_self": null,
       "border": null,
       "bottom": null,
       "display": null,
       "flex": null,
       "flex_flow": null,
       "grid_area": null,
       "grid_auto_columns": null,
       "grid_auto_flow": null,
       "grid_auto_rows": null,
       "grid_column": null,
       "grid_gap": null,
       "grid_row": null,
       "grid_template_areas": null,
       "grid_template_columns": null,
       "grid_template_rows": null,
       "height": null,
       "justify_content": null,
       "justify_items": null,
       "left": null,
       "margin": null,
       "max_height": null,
       "max_width": null,
       "min_height": null,
       "min_width": null,
       "object_fit": null,
       "object_position": null,
       "order": null,
       "overflow": null,
       "overflow_x": null,
       "overflow_y": null,
       "padding": null,
       "right": null,
       "top": null,
       "visibility": null,
       "width": null
      }
     },
     "4212c024d8e34327bd8bbf619578014e": {
      "model_module": "@jupyter-widgets/controls",
      "model_module_version": "1.5.0",
      "model_name": "DescriptionStyleModel",
      "state": {
       "_model_module": "@jupyter-widgets/controls",
       "_model_module_version": "1.5.0",
       "_model_name": "DescriptionStyleModel",
       "_view_count": null,
       "_view_module": "@jupyter-widgets/base",
       "_view_module_version": "1.2.0",
       "_view_name": "StyleView",
       "description_width": ""
      }
     },
     "4456c740e92143eda1200da8d8faff70": {
      "model_module": "@jupyter-widgets/controls",
      "model_module_version": "1.5.0",
      "model_name": "HTMLModel",
      "state": {
       "_dom_classes": [],
       "_model_module": "@jupyter-widgets/controls",
       "_model_module_version": "1.5.0",
       "_model_name": "HTMLModel",
       "_view_count": null,
       "_view_module": "@jupyter-widgets/controls",
       "_view_module_version": "1.5.0",
       "_view_name": "HTMLView",
       "description": "",
       "description_tooltip": null,
       "layout": "IPY_MODEL_67bc0757ca26487ca345ca356eec2e5e",
       "placeholder": "​",
       "style": "IPY_MODEL_2a44764001614d5fb9be00d889746351",
       "value": "1_Pooling/config.json: 100%"
      }
     },
     "4698116c148f443f9094e0095cd06329": {
      "model_module": "@jupyter-widgets/base",
      "model_module_version": "1.2.0",
      "model_name": "LayoutModel",
      "state": {
       "_model_module": "@jupyter-widgets/base",
       "_model_module_version": "1.2.0",
       "_model_name": "LayoutModel",
       "_view_count": null,
       "_view_module": "@jupyter-widgets/base",
       "_view_module_version": "1.2.0",
       "_view_name": "LayoutView",
       "align_content": null,
       "align_items": null,
       "align_self": null,
       "border": null,
       "bottom": null,
       "display": null,
       "flex": null,
       "flex_flow": null,
       "grid_area": null,
       "grid_auto_columns": null,
       "grid_auto_flow": null,
       "grid_auto_rows": null,
       "grid_column": null,
       "grid_gap": null,
       "grid_row": null,
       "grid_template_areas": null,
       "grid_template_columns": null,
       "grid_template_rows": null,
       "height": null,
       "justify_content": null,
       "justify_items": null,
       "left": null,
       "margin": null,
       "max_height": null,
       "max_width": null,
       "min_height": null,
       "min_width": null,
       "object_fit": null,
       "object_position": null,
       "order": null,
       "overflow": null,
       "overflow_x": null,
       "overflow_y": null,
       "padding": null,
       "right": null,
       "top": null,
       "visibility": null,
       "width": null
      }
     },
     "4a0e3b70f54a4cf6868e2c8f63cc149d": {
      "model_module": "@jupyter-widgets/base",
      "model_module_version": "1.2.0",
      "model_name": "LayoutModel",
      "state": {
       "_model_module": "@jupyter-widgets/base",
       "_model_module_version": "1.2.0",
       "_model_name": "LayoutModel",
       "_view_count": null,
       "_view_module": "@jupyter-widgets/base",
       "_view_module_version": "1.2.0",
       "_view_name": "LayoutView",
       "align_content": null,
       "align_items": null,
       "align_self": null,
       "border": null,
       "bottom": null,
       "display": null,
       "flex": null,
       "flex_flow": null,
       "grid_area": null,
       "grid_auto_columns": null,
       "grid_auto_flow": null,
       "grid_auto_rows": null,
       "grid_column": null,
       "grid_gap": null,
       "grid_row": null,
       "grid_template_areas": null,
       "grid_template_columns": null,
       "grid_template_rows": null,
       "height": null,
       "justify_content": null,
       "justify_items": null,
       "left": null,
       "margin": null,
       "max_height": null,
       "max_width": null,
       "min_height": null,
       "min_width": null,
       "object_fit": null,
       "object_position": null,
       "order": null,
       "overflow": null,
       "overflow_x": null,
       "overflow_y": null,
       "padding": null,
       "right": null,
       "top": null,
       "visibility": null,
       "width": null
      }
     },
     "4cdf0170582a4c499d881f6305f34dd3": {
      "model_module": "@jupyter-widgets/controls",
      "model_module_version": "1.5.0",
      "model_name": "DescriptionStyleModel",
      "state": {
       "_model_module": "@jupyter-widgets/controls",
       "_model_module_version": "1.5.0",
       "_model_name": "DescriptionStyleModel",
       "_view_count": null,
       "_view_module": "@jupyter-widgets/base",
       "_view_module_version": "1.2.0",
       "_view_name": "StyleView",
       "description_width": ""
      }
     },
     "4df7f45e4f804d3b915fbdf246af18e6": {
      "model_module": "@jupyter-widgets/controls",
      "model_module_version": "1.5.0",
      "model_name": "DescriptionStyleModel",
      "state": {
       "_model_module": "@jupyter-widgets/controls",
       "_model_module_version": "1.5.0",
       "_model_name": "DescriptionStyleModel",
       "_view_count": null,
       "_view_module": "@jupyter-widgets/base",
       "_view_module_version": "1.2.0",
       "_view_name": "StyleView",
       "description_width": ""
      }
     },
     "50f4886c4ee54272b7fda6c60ea8d775": {
      "model_module": "@jupyter-widgets/controls",
      "model_module_version": "1.5.0",
      "model_name": "HTMLModel",
      "state": {
       "_dom_classes": [],
       "_model_module": "@jupyter-widgets/controls",
       "_model_module_version": "1.5.0",
       "_model_name": "HTMLModel",
       "_view_count": null,
       "_view_module": "@jupyter-widgets/controls",
       "_view_module_version": "1.5.0",
       "_view_name": "HTMLView",
       "description": "",
       "description_tooltip": null,
       "layout": "IPY_MODEL_b96b85e01d8945d2b512e3557c36b0e0",
       "placeholder": "​",
       "style": "IPY_MODEL_5d39d2c0ef4f420ea8fc0b4b0f13ea73",
       "value": " 670M/670M [00:02&lt;00:00, 316MB/s]"
      }
     },
     "588d085d7f8542c3998da19ef969308d": {
      "model_module": "@jupyter-widgets/controls",
      "model_module_version": "1.5.0",
      "model_name": "ProgressStyleModel",
      "state": {
       "_model_module": "@jupyter-widgets/controls",
       "_model_module_version": "1.5.0",
       "_model_name": "ProgressStyleModel",
       "_view_count": null,
       "_view_module": "@jupyter-widgets/base",
       "_view_module_version": "1.2.0",
       "_view_name": "StyleView",
       "bar_color": null,
       "description_width": ""
      }
     },
     "58b323d8a4904038b6d31cb349392cdd": {
      "model_module": "@jupyter-widgets/controls",
      "model_module_version": "1.5.0",
      "model_name": "DescriptionStyleModel",
      "state": {
       "_model_module": "@jupyter-widgets/controls",
       "_model_module_version": "1.5.0",
       "_model_name": "DescriptionStyleModel",
       "_view_count": null,
       "_view_module": "@jupyter-widgets/base",
       "_view_module_version": "1.2.0",
       "_view_name": "StyleView",
       "description_width": ""
      }
     },
     "5937905c4f704638865c6c644b6693ea": {
      "model_module": "@jupyter-widgets/controls",
      "model_module_version": "1.5.0",
      "model_name": "HTMLModel",
      "state": {
       "_dom_classes": [],
       "_model_module": "@jupyter-widgets/controls",
       "_model_module_version": "1.5.0",
       "_model_name": "HTMLModel",
       "_view_count": null,
       "_view_module": "@jupyter-widgets/controls",
       "_view_module_version": "1.5.0",
       "_view_name": "HTMLView",
       "description": "",
       "description_tooltip": null,
       "layout": "IPY_MODEL_da99783ade2a471dac656bfdc2841835",
       "placeholder": "​",
       "style": "IPY_MODEL_5f7aafd5e6684d2d99dbd0e605eac6e6",
       "value": "special_tokens_map.json: 100%"
      }
     },
     "5a3455162b2f445f9637ce0f488aec51": {
      "model_module": "@jupyter-widgets/controls",
      "model_module_version": "1.5.0",
      "model_name": "HBoxModel",
      "state": {
       "_dom_classes": [],
       "_model_module": "@jupyter-widgets/controls",
       "_model_module_version": "1.5.0",
       "_model_name": "HBoxModel",
       "_view_count": null,
       "_view_module": "@jupyter-widgets/controls",
       "_view_module_version": "1.5.0",
       "_view_name": "HBoxView",
       "box_style": "",
       "children": [
        "IPY_MODEL_ea3424110dee49e08c3f03f56542840c",
        "IPY_MODEL_f1b78297d594497db00c7ecf56ef8103",
        "IPY_MODEL_cd42e9d3c43f44c6b9585bec57312aa5"
       ],
       "layout": "IPY_MODEL_ea03b4a38bde4ecea751f16e92735a40"
      }
     },
     "5a700a5db18742fa9e57bdec5a18b23b": {
      "model_module": "@jupyter-widgets/controls",
      "model_module_version": "1.5.0",
      "model_name": "DescriptionStyleModel",
      "state": {
       "_model_module": "@jupyter-widgets/controls",
       "_model_module_version": "1.5.0",
       "_model_name": "DescriptionStyleModel",
       "_view_count": null,
       "_view_module": "@jupyter-widgets/base",
       "_view_module_version": "1.2.0",
       "_view_name": "StyleView",
       "description_width": ""
      }
     },
     "5d39d2c0ef4f420ea8fc0b4b0f13ea73": {
      "model_module": "@jupyter-widgets/controls",
      "model_module_version": "1.5.0",
      "model_name": "DescriptionStyleModel",
      "state": {
       "_model_module": "@jupyter-widgets/controls",
       "_model_module_version": "1.5.0",
       "_model_name": "DescriptionStyleModel",
       "_view_count": null,
       "_view_module": "@jupyter-widgets/base",
       "_view_module_version": "1.2.0",
       "_view_name": "StyleView",
       "description_width": ""
      }
     },
     "5f7aafd5e6684d2d99dbd0e605eac6e6": {
      "model_module": "@jupyter-widgets/controls",
      "model_module_version": "1.5.0",
      "model_name": "DescriptionStyleModel",
      "state": {
       "_model_module": "@jupyter-widgets/controls",
       "_model_module_version": "1.5.0",
       "_model_name": "DescriptionStyleModel",
       "_view_count": null,
       "_view_module": "@jupyter-widgets/base",
       "_view_module_version": "1.2.0",
       "_view_name": "StyleView",
       "description_width": ""
      }
     },
     "6155bccd36924a47a59bcb2f22269e02": {
      "model_module": "@jupyter-widgets/controls",
      "model_module_version": "1.5.0",
      "model_name": "HTMLModel",
      "state": {
       "_dom_classes": [],
       "_model_module": "@jupyter-widgets/controls",
       "_model_module_version": "1.5.0",
       "_model_name": "HTMLModel",
       "_view_count": null,
       "_view_module": "@jupyter-widgets/controls",
       "_view_module_version": "1.5.0",
       "_view_name": "HTMLView",
       "description": "",
       "description_tooltip": null,
       "layout": "IPY_MODEL_40afcf778b594170a04c0fe5e1c84d8a",
       "placeholder": "​",
       "style": "IPY_MODEL_b4aa79cb22414d72a4b13bc7e1e37fa3",
       "value": " 2/2 [00:40&lt;00:00, 16.99s/it]"
      }
     },
     "67bc0757ca26487ca345ca356eec2e5e": {
      "model_module": "@jupyter-widgets/base",
      "model_module_version": "1.2.0",
      "model_name": "LayoutModel",
      "state": {
       "_model_module": "@jupyter-widgets/base",
       "_model_module_version": "1.2.0",
       "_model_name": "LayoutModel",
       "_view_count": null,
       "_view_module": "@jupyter-widgets/base",
       "_view_module_version": "1.2.0",
       "_view_name": "LayoutView",
       "align_content": null,
       "align_items": null,
       "align_self": null,
       "border": null,
       "bottom": null,
       "display": null,
       "flex": null,
       "flex_flow": null,
       "grid_area": null,
       "grid_auto_columns": null,
       "grid_auto_flow": null,
       "grid_auto_rows": null,
       "grid_column": null,
       "grid_gap": null,
       "grid_row": null,
       "grid_template_areas": null,
       "grid_template_columns": null,
       "grid_template_rows": null,
       "height": null,
       "justify_content": null,
       "justify_items": null,
       "left": null,
       "margin": null,
       "max_height": null,
       "max_width": null,
       "min_height": null,
       "min_width": null,
       "object_fit": null,
       "object_position": null,
       "order": null,
       "overflow": null,
       "overflow_x": null,
       "overflow_y": null,
       "padding": null,
       "right": null,
       "top": null,
       "visibility": null,
       "width": null
      }
     },
     "6cedd7fa199746e19d5390adcc9c332e": {
      "model_module": "@jupyter-widgets/controls",
      "model_module_version": "1.5.0",
      "model_name": "DescriptionStyleModel",
      "state": {
       "_model_module": "@jupyter-widgets/controls",
       "_model_module_version": "1.5.0",
       "_model_name": "DescriptionStyleModel",
       "_view_count": null,
       "_view_module": "@jupyter-widgets/base",
       "_view_module_version": "1.2.0",
       "_view_name": "StyleView",
       "description_width": ""
      }
     },
     "6d7feb91e74b453695364375f58157d3": {
      "model_module": "@jupyter-widgets/controls",
      "model_module_version": "1.5.0",
      "model_name": "ProgressStyleModel",
      "state": {
       "_model_module": "@jupyter-widgets/controls",
       "_model_module_version": "1.5.0",
       "_model_name": "ProgressStyleModel",
       "_view_count": null,
       "_view_module": "@jupyter-widgets/base",
       "_view_module_version": "1.2.0",
       "_view_name": "StyleView",
       "bar_color": null,
       "description_width": ""
      }
     },
     "762cd031d703452fadf0be2f15dae3e4": {
      "model_module": "@jupyter-widgets/base",
      "model_module_version": "1.2.0",
      "model_name": "LayoutModel",
      "state": {
       "_model_module": "@jupyter-widgets/base",
       "_model_module_version": "1.2.0",
       "_model_name": "LayoutModel",
       "_view_count": null,
       "_view_module": "@jupyter-widgets/base",
       "_view_module_version": "1.2.0",
       "_view_name": "LayoutView",
       "align_content": null,
       "align_items": null,
       "align_self": null,
       "border": null,
       "bottom": null,
       "display": null,
       "flex": null,
       "flex_flow": null,
       "grid_area": null,
       "grid_auto_columns": null,
       "grid_auto_flow": null,
       "grid_auto_rows": null,
       "grid_column": null,
       "grid_gap": null,
       "grid_row": null,
       "grid_template_areas": null,
       "grid_template_columns": null,
       "grid_template_rows": null,
       "height": null,
       "justify_content": null,
       "justify_items": null,
       "left": null,
       "margin": null,
       "max_height": null,
       "max_width": null,
       "min_height": null,
       "min_width": null,
       "object_fit": null,
       "object_position": null,
       "order": null,
       "overflow": null,
       "overflow_x": null,
       "overflow_y": null,
       "padding": null,
       "right": null,
       "top": null,
       "visibility": null,
       "width": null
      }
     },
     "7c8321bca72a4e1b8ebf6a04689c252a": {
      "model_module": "@jupyter-widgets/controls",
      "model_module_version": "1.5.0",
      "model_name": "HBoxModel",
      "state": {
       "_dom_classes": [],
       "_model_module": "@jupyter-widgets/controls",
       "_model_module_version": "1.5.0",
       "_model_name": "HBoxModel",
       "_view_count": null,
       "_view_module": "@jupyter-widgets/controls",
       "_view_module_version": "1.5.0",
       "_view_name": "HBoxView",
       "box_style": "",
       "children": [
        "IPY_MODEL_aeea2e299ccc498baa150f057c7d1eed",
        "IPY_MODEL_9cd11693d5064bffa8e4d3d8a3d230e5",
        "IPY_MODEL_6155bccd36924a47a59bcb2f22269e02"
       ],
       "layout": "IPY_MODEL_9ed2255c567d4bccabe86321f9d920ee"
      }
     },
     "85126060caba44e39edc733b9e521d0c": {
      "model_module": "@jupyter-widgets/controls",
      "model_module_version": "1.5.0",
      "model_name": "HBoxModel",
      "state": {
       "_dom_classes": [],
       "_model_module": "@jupyter-widgets/controls",
       "_model_module_version": "1.5.0",
       "_model_name": "HBoxModel",
       "_view_count": null,
       "_view_module": "@jupyter-widgets/controls",
       "_view_module_version": "1.5.0",
       "_view_name": "HBoxView",
       "box_style": "",
       "children": [
        "IPY_MODEL_f0d366fee9fb4700822905678bc4c599",
        "IPY_MODEL_2bc8b434131c444ba8604c373a87dd4e",
        "IPY_MODEL_283ddaac26cd4992aab686cd2cfeecf2"
       ],
       "layout": "IPY_MODEL_282432a3f21f47a5a6823ad8c6e3e77b"
      }
     },
     "858099df133749c1bdf353469a5c5985": {
      "model_module": "@jupyter-widgets/controls",
      "model_module_version": "1.5.0",
      "model_name": "HTMLModel",
      "state": {
       "_dom_classes": [],
       "_model_module": "@jupyter-widgets/controls",
       "_model_module_version": "1.5.0",
       "_model_name": "HTMLModel",
       "_view_count": null,
       "_view_module": "@jupyter-widgets/controls",
       "_view_module_version": "1.5.0",
       "_view_name": "HTMLView",
       "description": "",
       "description_tooltip": null,
       "layout": "IPY_MODEL_a688814d0b924c628bf7d243007e912e",
       "placeholder": "​",
       "style": "IPY_MODEL_5a700a5db18742fa9e57bdec5a18b23b",
       "value": " 232k/232k [00:00&lt;00:00, 1.78MB/s]"
      }
     },
     "872d9a5db91649a6a6c63716ce9590ef": {
      "model_module": "@jupyter-widgets/controls",
      "model_module_version": "1.5.0",
      "model_name": "HTMLModel",
      "state": {
       "_dom_classes": [],
       "_model_module": "@jupyter-widgets/controls",
       "_model_module_version": "1.5.0",
       "_model_name": "HTMLModel",
       "_view_count": null,
       "_view_module": "@jupyter-widgets/controls",
       "_view_module_version": "1.5.0",
       "_view_name": "HTMLView",
       "description": "",
       "description_tooltip": null,
       "layout": "IPY_MODEL_0c82ba14420c4a90be8e6e1246f41d39",
       "placeholder": "​",
       "style": "IPY_MODEL_4cdf0170582a4c499d881f6305f34dd3",
       "value": " 125/125 [00:00&lt;00:00, 11.2kB/s]"
      }
     },
     "8788ee24467548bd818072d93d79a622": {
      "model_module": "@jupyter-widgets/base",
      "model_module_version": "1.2.0",
      "model_name": "LayoutModel",
      "state": {
       "_model_module": "@jupyter-widgets/base",
       "_model_module_version": "1.2.0",
       "_model_name": "LayoutModel",
       "_view_count": null,
       "_view_module": "@jupyter-widgets/base",
       "_view_module_version": "1.2.0",
       "_view_name": "LayoutView",
       "align_content": null,
       "align_items": null,
       "align_self": null,
       "border": null,
       "bottom": null,
       "display": null,
       "flex": null,
       "flex_flow": null,
       "grid_area": null,
       "grid_auto_columns": null,
       "grid_auto_flow": null,
       "grid_auto_rows": null,
       "grid_column": null,
       "grid_gap": null,
       "grid_row": null,
       "grid_template_areas": null,
       "grid_template_columns": null,
       "grid_template_rows": null,
       "height": null,
       "justify_content": null,
       "justify_items": null,
       "left": null,
       "margin": null,
       "max_height": null,
       "max_width": null,
       "min_height": null,
       "min_width": null,
       "object_fit": null,
       "object_position": null,
       "order": null,
       "overflow": null,
       "overflow_x": null,
       "overflow_y": null,
       "padding": null,
       "right": null,
       "top": null,
       "visibility": null,
       "width": null
      }
     },
     "88055530f58c49d69e7b25d63dc7c3b3": {
      "model_module": "@jupyter-widgets/base",
      "model_module_version": "1.2.0",
      "model_name": "LayoutModel",
      "state": {
       "_model_module": "@jupyter-widgets/base",
       "_model_module_version": "1.2.0",
       "_model_name": "LayoutModel",
       "_view_count": null,
       "_view_module": "@jupyter-widgets/base",
       "_view_module_version": "1.2.0",
       "_view_name": "LayoutView",
       "align_content": null,
       "align_items": null,
       "align_self": null,
       "border": null,
       "bottom": null,
       "display": null,
       "flex": null,
       "flex_flow": null,
       "grid_area": null,
       "grid_auto_columns": null,
       "grid_auto_flow": null,
       "grid_auto_rows": null,
       "grid_column": null,
       "grid_gap": null,
       "grid_row": null,
       "grid_template_areas": null,
       "grid_template_columns": null,
       "grid_template_rows": null,
       "height": null,
       "justify_content": null,
       "justify_items": null,
       "left": null,
       "margin": null,
       "max_height": null,
       "max_width": null,
       "min_height": null,
       "min_width": null,
       "object_fit": null,
       "object_position": null,
       "order": null,
       "overflow": null,
       "overflow_x": null,
       "overflow_y": null,
       "padding": null,
       "right": null,
       "top": null,
       "visibility": null,
       "width": null
      }
     },
     "895085dd7a8a4ffa965ccad25f126361": {
      "model_module": "@jupyter-widgets/base",
      "model_module_version": "1.2.0",
      "model_name": "LayoutModel",
      "state": {
       "_model_module": "@jupyter-widgets/base",
       "_model_module_version": "1.2.0",
       "_model_name": "LayoutModel",
       "_view_count": null,
       "_view_module": "@jupyter-widgets/base",
       "_view_module_version": "1.2.0",
       "_view_name": "LayoutView",
       "align_content": null,
       "align_items": null,
       "align_self": null,
       "border": null,
       "bottom": null,
       "display": null,
       "flex": null,
       "flex_flow": null,
       "grid_area": null,
       "grid_auto_columns": null,
       "grid_auto_flow": null,
       "grid_auto_rows": null,
       "grid_column": null,
       "grid_gap": null,
       "grid_row": null,
       "grid_template_areas": null,
       "grid_template_columns": null,
       "grid_template_rows": null,
       "height": null,
       "justify_content": null,
       "justify_items": null,
       "left": null,
       "margin": null,
       "max_height": null,
       "max_width": null,
       "min_height": null,
       "min_width": null,
       "object_fit": null,
       "object_position": null,
       "order": null,
       "overflow": null,
       "overflow_x": null,
       "overflow_y": null,
       "padding": null,
       "right": null,
       "top": null,
       "visibility": null,
       "width": null
      }
     },
     "89c14376e32c410ab3bb0404668248ad": {
      "model_module": "@jupyter-widgets/base",
      "model_module_version": "1.2.0",
      "model_name": "LayoutModel",
      "state": {
       "_model_module": "@jupyter-widgets/base",
       "_model_module_version": "1.2.0",
       "_model_name": "LayoutModel",
       "_view_count": null,
       "_view_module": "@jupyter-widgets/base",
       "_view_module_version": "1.2.0",
       "_view_name": "LayoutView",
       "align_content": null,
       "align_items": null,
       "align_self": null,
       "border": null,
       "bottom": null,
       "display": null,
       "flex": null,
       "flex_flow": null,
       "grid_area": null,
       "grid_auto_columns": null,
       "grid_auto_flow": null,
       "grid_auto_rows": null,
       "grid_column": null,
       "grid_gap": null,
       "grid_row": null,
       "grid_template_areas": null,
       "grid_template_columns": null,
       "grid_template_rows": null,
       "height": null,
       "justify_content": null,
       "justify_items": null,
       "left": null,
       "margin": null,
       "max_height": null,
       "max_width": null,
       "min_height": null,
       "min_width": null,
       "object_fit": null,
       "object_position": null,
       "order": null,
       "overflow": null,
       "overflow_x": null,
       "overflow_y": null,
       "padding": null,
       "right": null,
       "top": null,
       "visibility": null,
       "width": null
      }
     },
     "8d70e08e96284d429087e256b299bb19": {
      "model_module": "@jupyter-widgets/base",
      "model_module_version": "1.2.0",
      "model_name": "LayoutModel",
      "state": {
       "_model_module": "@jupyter-widgets/base",
       "_model_module_version": "1.2.0",
       "_model_name": "LayoutModel",
       "_view_count": null,
       "_view_module": "@jupyter-widgets/base",
       "_view_module_version": "1.2.0",
       "_view_name": "LayoutView",
       "align_content": null,
       "align_items": null,
       "align_self": null,
       "border": null,
       "bottom": null,
       "display": null,
       "flex": null,
       "flex_flow": null,
       "grid_area": null,
       "grid_auto_columns": null,
       "grid_auto_flow": null,
       "grid_auto_rows": null,
       "grid_column": null,
       "grid_gap": null,
       "grid_row": null,
       "grid_template_areas": null,
       "grid_template_columns": null,
       "grid_template_rows": null,
       "height": null,
       "justify_content": null,
       "justify_items": null,
       "left": null,
       "margin": null,
       "max_height": null,
       "max_width": null,
       "min_height": null,
       "min_width": null,
       "object_fit": null,
       "object_position": null,
       "order": null,
       "overflow": null,
       "overflow_x": null,
       "overflow_y": null,
       "padding": null,
       "right": null,
       "top": null,
       "visibility": null,
       "width": null
      }
     },
     "93d3dd08614b421697a5f181000a05d8": {
      "model_module": "@jupyter-widgets/controls",
      "model_module_version": "1.5.0",
      "model_name": "HTMLModel",
      "state": {
       "_dom_classes": [],
       "_model_module": "@jupyter-widgets/controls",
       "_model_module_version": "1.5.0",
       "_model_name": "HTMLModel",
       "_view_count": null,
       "_view_module": "@jupyter-widgets/controls",
       "_view_module_version": "1.5.0",
       "_view_name": "HTMLView",
       "description": "",
       "description_tooltip": null,
       "layout": "IPY_MODEL_8d70e08e96284d429087e256b299bb19",
       "placeholder": "​",
       "style": "IPY_MODEL_4df7f45e4f804d3b915fbdf246af18e6",
       "value": " 619/619 [00:00&lt;00:00, 62.7kB/s]"
      }
     },
     "9cd11693d5064bffa8e4d3d8a3d230e5": {
      "model_module": "@jupyter-widgets/controls",
      "model_module_version": "1.5.0",
      "model_name": "FloatProgressModel",
      "state": {
       "_dom_classes": [],
       "_model_module": "@jupyter-widgets/controls",
       "_model_module_version": "1.5.0",
       "_model_name": "FloatProgressModel",
       "_view_count": null,
       "_view_module": "@jupyter-widgets/controls",
       "_view_module_version": "1.5.0",
       "_view_name": "ProgressView",
       "bar_style": "success",
       "description": "",
       "description_tooltip": null,
       "layout": "IPY_MODEL_4059973179fb4518bc15ba61cff2161e",
       "max": 2.0,
       "min": 0.0,
       "orientation": "horizontal",
       "style": "IPY_MODEL_3d86412fd2fa40df8597743aa81d2854",
       "value": 2.0
      }
     },
     "9ea56b4602154ab8bb35e0b5d916d4f0": {
      "model_module": "@jupyter-widgets/base",
      "model_module_version": "1.2.0",
      "model_name": "LayoutModel",
      "state": {
       "_model_module": "@jupyter-widgets/base",
       "_model_module_version": "1.2.0",
       "_model_name": "LayoutModel",
       "_view_count": null,
       "_view_module": "@jupyter-widgets/base",
       "_view_module_version": "1.2.0",
       "_view_name": "LayoutView",
       "align_content": null,
       "align_items": null,
       "align_self": null,
       "border": null,
       "bottom": null,
       "display": null,
       "flex": null,
       "flex_flow": null,
       "grid_area": null,
       "grid_auto_columns": null,
       "grid_auto_flow": null,
       "grid_auto_rows": null,
       "grid_column": null,
       "grid_gap": null,
       "grid_row": null,
       "grid_template_areas": null,
       "grid_template_columns": null,
       "grid_template_rows": null,
       "height": null,
       "justify_content": null,
       "justify_items": null,
       "left": null,
       "margin": null,
       "max_height": null,
       "max_width": null,
       "min_height": null,
       "min_width": null,
       "object_fit": null,
       "object_position": null,
       "order": null,
       "overflow": null,
       "overflow_x": null,
       "overflow_y": null,
       "padding": null,
       "right": null,
       "top": null,
       "visibility": null,
       "width": null
      }
     },
     "9ed2255c567d4bccabe86321f9d920ee": {
      "model_module": "@jupyter-widgets/base",
      "model_module_version": "1.2.0",
      "model_name": "LayoutModel",
      "state": {
       "_model_module": "@jupyter-widgets/base",
       "_model_module_version": "1.2.0",
       "_model_name": "LayoutModel",
       "_view_count": null,
       "_view_module": "@jupyter-widgets/base",
       "_view_module_version": "1.2.0",
       "_view_name": "LayoutView",
       "align_content": null,
       "align_items": null,
       "align_self": null,
       "border": null,
       "bottom": null,
       "display": null,
       "flex": null,
       "flex_flow": null,
       "grid_area": null,
       "grid_auto_columns": null,
       "grid_auto_flow": null,
       "grid_auto_rows": null,
       "grid_column": null,
       "grid_gap": null,
       "grid_row": null,
       "grid_template_areas": null,
       "grid_template_columns": null,
       "grid_template_rows": null,
       "height": null,
       "justify_content": null,
       "justify_items": null,
       "left": null,
       "margin": null,
       "max_height": null,
       "max_width": null,
       "min_height": null,
       "min_width": null,
       "object_fit": null,
       "object_position": null,
       "order": null,
       "overflow": null,
       "overflow_x": null,
       "overflow_y": null,
       "padding": null,
       "right": null,
       "top": null,
       "visibility": null,
       "width": null
      }
     },
     "a688814d0b924c628bf7d243007e912e": {
      "model_module": "@jupyter-widgets/base",
      "model_module_version": "1.2.0",
      "model_name": "LayoutModel",
      "state": {
       "_model_module": "@jupyter-widgets/base",
       "_model_module_version": "1.2.0",
       "_model_name": "LayoutModel",
       "_view_count": null,
       "_view_module": "@jupyter-widgets/base",
       "_view_module_version": "1.2.0",
       "_view_name": "LayoutView",
       "align_content": null,
       "align_items": null,
       "align_self": null,
       "border": null,
       "bottom": null,
       "display": null,
       "flex": null,
       "flex_flow": null,
       "grid_area": null,
       "grid_auto_columns": null,
       "grid_auto_flow": null,
       "grid_auto_rows": null,
       "grid_column": null,
       "grid_gap": null,
       "grid_row": null,
       "grid_template_areas": null,
       "grid_template_columns": null,
       "grid_template_rows": null,
       "height": null,
       "justify_content": null,
       "justify_items": null,
       "left": null,
       "margin": null,
       "max_height": null,
       "max_width": null,
       "min_height": null,
       "min_width": null,
       "object_fit": null,
       "object_position": null,
       "order": null,
       "overflow": null,
       "overflow_x": null,
       "overflow_y": null,
       "padding": null,
       "right": null,
       "top": null,
       "visibility": null,
       "width": null
      }
     },
     "a6eda34ca5d14b98863ee2f854e0a9d7": {
      "model_module": "@jupyter-widgets/controls",
      "model_module_version": "1.5.0",
      "model_name": "ProgressStyleModel",
      "state": {
       "_model_module": "@jupyter-widgets/controls",
       "_model_module_version": "1.5.0",
       "_model_name": "ProgressStyleModel",
       "_view_count": null,
       "_view_module": "@jupyter-widgets/base",
       "_view_module_version": "1.2.0",
       "_view_name": "StyleView",
       "bar_color": null,
       "description_width": ""
      }
     },
     "a83e0509357d4378ac73ac739fdeff1a": {
      "model_module": "@jupyter-widgets/base",
      "model_module_version": "1.2.0",
      "model_name": "LayoutModel",
      "state": {
       "_model_module": "@jupyter-widgets/base",
       "_model_module_version": "1.2.0",
       "_model_name": "LayoutModel",
       "_view_count": null,
       "_view_module": "@jupyter-widgets/base",
       "_view_module_version": "1.2.0",
       "_view_name": "LayoutView",
       "align_content": null,
       "align_items": null,
       "align_self": null,
       "border": null,
       "bottom": null,
       "display": null,
       "flex": null,
       "flex_flow": null,
       "grid_area": null,
       "grid_auto_columns": null,
       "grid_auto_flow": null,
       "grid_auto_rows": null,
       "grid_column": null,
       "grid_gap": null,
       "grid_row": null,
       "grid_template_areas": null,
       "grid_template_columns": null,
       "grid_template_rows": null,
       "height": null,
       "justify_content": null,
       "justify_items": null,
       "left": null,
       "margin": null,
       "max_height": null,
       "max_width": null,
       "min_height": null,
       "min_width": null,
       "object_fit": null,
       "object_position": null,
       "order": null,
       "overflow": null,
       "overflow_x": null,
       "overflow_y": null,
       "padding": null,
       "right": null,
       "top": null,
       "visibility": null,
       "width": null
      }
     },
     "aeea2e299ccc498baa150f057c7d1eed": {
      "model_module": "@jupyter-widgets/controls",
      "model_module_version": "1.5.0",
      "model_name": "HTMLModel",
      "state": {
       "_dom_classes": [],
       "_model_module": "@jupyter-widgets/controls",
       "_model_module_version": "1.5.0",
       "_model_name": "HTMLModel",
       "_view_count": null,
       "_view_module": "@jupyter-widgets/controls",
       "_view_module_version": "1.5.0",
       "_view_name": "HTMLView",
       "description": "",
       "description_tooltip": null,
       "layout": "IPY_MODEL_32ae989af4454245b5f8819185969cde",
       "placeholder": "​",
       "style": "IPY_MODEL_b196204d3a794a5fbec9de5bcf13cd0f",
       "value": "Loading checkpoint shards: 100%"
      }
     },
     "b196204d3a794a5fbec9de5bcf13cd0f": {
      "model_module": "@jupyter-widgets/controls",
      "model_module_version": "1.5.0",
      "model_name": "DescriptionStyleModel",
      "state": {
       "_model_module": "@jupyter-widgets/controls",
       "_model_module_version": "1.5.0",
       "_model_name": "DescriptionStyleModel",
       "_view_count": null,
       "_view_module": "@jupyter-widgets/base",
       "_view_module_version": "1.2.0",
       "_view_name": "StyleView",
       "description_width": ""
      }
     },
     "b2175fc5f94d48d7bcea84222205beb0": {
      "model_module": "@jupyter-widgets/base",
      "model_module_version": "1.2.0",
      "model_name": "LayoutModel",
      "state": {
       "_model_module": "@jupyter-widgets/base",
       "_model_module_version": "1.2.0",
       "_model_name": "LayoutModel",
       "_view_count": null,
       "_view_module": "@jupyter-widgets/base",
       "_view_module_version": "1.2.0",
       "_view_name": "LayoutView",
       "align_content": null,
       "align_items": null,
       "align_self": null,
       "border": null,
       "bottom": null,
       "display": null,
       "flex": null,
       "flex_flow": null,
       "grid_area": null,
       "grid_auto_columns": null,
       "grid_auto_flow": null,
       "grid_auto_rows": null,
       "grid_column": null,
       "grid_gap": null,
       "grid_row": null,
       "grid_template_areas": null,
       "grid_template_columns": null,
       "grid_template_rows": null,
       "height": null,
       "justify_content": null,
       "justify_items": null,
       "left": null,
       "margin": null,
       "max_height": null,
       "max_width": null,
       "min_height": null,
       "min_width": null,
       "object_fit": null,
       "object_position": null,
       "order": null,
       "overflow": null,
       "overflow_x": null,
       "overflow_y": null,
       "padding": null,
       "right": null,
       "top": null,
       "visibility": null,
       "width": null
      }
     },
     "b25f6d9fc5e24872badd43933bc134a8": {
      "model_module": "@jupyter-widgets/controls",
      "model_module_version": "1.5.0",
      "model_name": "DescriptionStyleModel",
      "state": {
       "_model_module": "@jupyter-widgets/controls",
       "_model_module_version": "1.5.0",
       "_model_name": "DescriptionStyleModel",
       "_view_count": null,
       "_view_module": "@jupyter-widgets/base",
       "_view_module_version": "1.2.0",
       "_view_name": "StyleView",
       "description_width": ""
      }
     },
     "b495aa32bcfe46c19ff5951a5c74466a": {
      "model_module": "@jupyter-widgets/controls",
      "model_module_version": "1.5.0",
      "model_name": "DescriptionStyleModel",
      "state": {
       "_model_module": "@jupyter-widgets/controls",
       "_model_module_version": "1.5.0",
       "_model_name": "DescriptionStyleModel",
       "_view_count": null,
       "_view_module": "@jupyter-widgets/base",
       "_view_module_version": "1.2.0",
       "_view_name": "StyleView",
       "description_width": ""
      }
     },
     "b4aa79cb22414d72a4b13bc7e1e37fa3": {
      "model_module": "@jupyter-widgets/controls",
      "model_module_version": "1.5.0",
      "model_name": "DescriptionStyleModel",
      "state": {
       "_model_module": "@jupyter-widgets/controls",
       "_model_module_version": "1.5.0",
       "_model_name": "DescriptionStyleModel",
       "_view_count": null,
       "_view_module": "@jupyter-widgets/base",
       "_view_module_version": "1.2.0",
       "_view_name": "StyleView",
       "description_width": ""
      }
     },
     "b6eff11692bc4eb7a25eb8706ce806ca": {
      "model_module": "@jupyter-widgets/controls",
      "model_module_version": "1.5.0",
      "model_name": "FloatProgressModel",
      "state": {
       "_dom_classes": [],
       "_model_module": "@jupyter-widgets/controls",
       "_model_module_version": "1.5.0",
       "_model_name": "FloatProgressModel",
       "_view_count": null,
       "_view_module": "@jupyter-widgets/controls",
       "_view_module_version": "1.5.0",
       "_view_name": "ProgressView",
       "bar_style": "success",
       "description": "",
       "description_tooltip": null,
       "layout": "IPY_MODEL_9ea56b4602154ab8bb35e0b5d916d4f0",
       "max": 619.0,
       "min": 0.0,
       "orientation": "horizontal",
       "style": "IPY_MODEL_fd40c43c249b4993863f68c40474369a",
       "value": 619.0
      }
     },
     "b8936d2303744db5bb94a5819752e2bd": {
      "model_module": "@jupyter-widgets/controls",
      "model_module_version": "1.5.0",
      "model_name": "DescriptionStyleModel",
      "state": {
       "_model_module": "@jupyter-widgets/controls",
       "_model_module_version": "1.5.0",
       "_model_name": "DescriptionStyleModel",
       "_view_count": null,
       "_view_module": "@jupyter-widgets/base",
       "_view_module_version": "1.2.0",
       "_view_name": "StyleView",
       "description_width": ""
      }
     },
     "b96b85e01d8945d2b512e3557c36b0e0": {
      "model_module": "@jupyter-widgets/base",
      "model_module_version": "1.2.0",
      "model_name": "LayoutModel",
      "state": {
       "_model_module": "@jupyter-widgets/base",
       "_model_module_version": "1.2.0",
       "_model_name": "LayoutModel",
       "_view_count": null,
       "_view_module": "@jupyter-widgets/base",
       "_view_module_version": "1.2.0",
       "_view_name": "LayoutView",
       "align_content": null,
       "align_items": null,
       "align_self": null,
       "border": null,
       "bottom": null,
       "display": null,
       "flex": null,
       "flex_flow": null,
       "grid_area": null,
       "grid_auto_columns": null,
       "grid_auto_flow": null,
       "grid_auto_rows": null,
       "grid_column": null,
       "grid_gap": null,
       "grid_row": null,
       "grid_template_areas": null,
       "grid_template_columns": null,
       "grid_template_rows": null,
       "height": null,
       "justify_content": null,
       "justify_items": null,
       "left": null,
       "margin": null,
       "max_height": null,
       "max_width": null,
       "min_height": null,
       "min_width": null,
       "object_fit": null,
       "object_position": null,
       "order": null,
       "overflow": null,
       "overflow_x": null,
       "overflow_y": null,
       "padding": null,
       "right": null,
       "top": null,
       "visibility": null,
       "width": null
      }
     },
     "bc81f64b7dcd463d9328ca95ced32a10": {
      "model_module": "@jupyter-widgets/controls",
      "model_module_version": "1.5.0",
      "model_name": "ProgressStyleModel",
      "state": {
       "_model_module": "@jupyter-widgets/controls",
       "_model_module_version": "1.5.0",
       "_model_name": "ProgressStyleModel",
       "_view_count": null,
       "_view_module": "@jupyter-widgets/base",
       "_view_module_version": "1.2.0",
       "_view_name": "StyleView",
       "bar_color": null,
       "description_width": ""
      }
     },
     "c175c6917b904f8f97f6a5d00c197ed2": {
      "model_module": "@jupyter-widgets/controls",
      "model_module_version": "1.5.0",
      "model_name": "HTMLModel",
      "state": {
       "_dom_classes": [],
       "_model_module": "@jupyter-widgets/controls",
       "_model_module_version": "1.5.0",
       "_model_name": "HTMLModel",
       "_view_count": null,
       "_view_module": "@jupyter-widgets/controls",
       "_view_module_version": "1.5.0",
       "_view_name": "HTMLView",
       "description": "",
       "description_tooltip": null,
       "layout": "IPY_MODEL_d73309d4d32d4b53867250e27919af2a",
       "placeholder": "​",
       "style": "IPY_MODEL_b8936d2303744db5bb94a5819752e2bd",
       "value": "config.json: 100%"
      }
     },
     "c57ba33f3c38458c907e6f8181c65e3e": {
      "model_module": "@jupyter-widgets/controls",
      "model_module_version": "1.5.0",
      "model_name": "FloatProgressModel",
      "state": {
       "_dom_classes": [],
       "_model_module": "@jupyter-widgets/controls",
       "_model_module_version": "1.5.0",
       "_model_name": "FloatProgressModel",
       "_view_count": null,
       "_view_module": "@jupyter-widgets/controls",
       "_view_module_version": "1.5.0",
       "_view_name": "ProgressView",
       "bar_style": "success",
       "description": "",
       "description_tooltip": null,
       "layout": "IPY_MODEL_0d4b7d4e8ce74918a97bd69759886c84",
       "max": 125.0,
       "min": 0.0,
       "orientation": "horizontal",
       "style": "IPY_MODEL_a6eda34ca5d14b98863ee2f854e0a9d7",
       "value": 125.0
      }
     },
     "c65640f915944211849196f8370d3b9c": {
      "model_module": "@jupyter-widgets/controls",
      "model_module_version": "1.5.0",
      "model_name": "DescriptionStyleModel",
      "state": {
       "_model_module": "@jupyter-widgets/controls",
       "_model_module_version": "1.5.0",
       "_model_name": "DescriptionStyleModel",
       "_view_count": null,
       "_view_module": "@jupyter-widgets/base",
       "_view_module_version": "1.2.0",
       "_view_name": "StyleView",
       "description_width": ""
      }
     },
     "c6f8aa9e7d954a09b5da6e3c28f02373": {
      "model_module": "@jupyter-widgets/controls",
      "model_module_version": "1.5.0",
      "model_name": "DescriptionStyleModel",
      "state": {
       "_model_module": "@jupyter-widgets/controls",
       "_model_module_version": "1.5.0",
       "_model_name": "DescriptionStyleModel",
       "_view_count": null,
       "_view_module": "@jupyter-widgets/base",
       "_view_module_version": "1.2.0",
       "_view_name": "StyleView",
       "description_width": ""
      }
     },
     "c799133b357b48b3abd9178098b52e6d": {
      "model_module": "@jupyter-widgets/base",
      "model_module_version": "1.2.0",
      "model_name": "LayoutModel",
      "state": {
       "_model_module": "@jupyter-widgets/base",
       "_model_module_version": "1.2.0",
       "_model_name": "LayoutModel",
       "_view_count": null,
       "_view_module": "@jupyter-widgets/base",
       "_view_module_version": "1.2.0",
       "_view_name": "LayoutView",
       "align_content": null,
       "align_items": null,
       "align_self": null,
       "border": null,
       "bottom": null,
       "display": null,
       "flex": null,
       "flex_flow": null,
       "grid_area": null,
       "grid_auto_columns": null,
       "grid_auto_flow": null,
       "grid_auto_rows": null,
       "grid_column": null,
       "grid_gap": null,
       "grid_row": null,
       "grid_template_areas": null,
       "grid_template_columns": null,
       "grid_template_rows": null,
       "height": null,
       "justify_content": null,
       "justify_items": null,
       "left": null,
       "margin": null,
       "max_height": null,
       "max_width": null,
       "min_height": null,
       "min_width": null,
       "object_fit": null,
       "object_position": null,
       "order": null,
       "overflow": null,
       "overflow_x": null,
       "overflow_y": null,
       "padding": null,
       "right": null,
       "top": null,
       "visibility": null,
       "width": null
      }
     },
     "cb13160e190143109f2c5a7e1b0a4510": {
      "model_module": "@jupyter-widgets/base",
      "model_module_version": "1.2.0",
      "model_name": "LayoutModel",
      "state": {
       "_model_module": "@jupyter-widgets/base",
       "_model_module_version": "1.2.0",
       "_model_name": "LayoutModel",
       "_view_count": null,
       "_view_module": "@jupyter-widgets/base",
       "_view_module_version": "1.2.0",
       "_view_name": "LayoutView",
       "align_content": null,
       "align_items": null,
       "align_self": null,
       "border": null,
       "bottom": null,
       "display": null,
       "flex": null,
       "flex_flow": null,
       "grid_area": null,
       "grid_auto_columns": null,
       "grid_auto_flow": null,
       "grid_auto_rows": null,
       "grid_column": null,
       "grid_gap": null,
       "grid_row": null,
       "grid_template_areas": null,
       "grid_template_columns": null,
       "grid_template_rows": null,
       "height": null,
       "justify_content": null,
       "justify_items": null,
       "left": null,
       "margin": null,
       "max_height": null,
       "max_width": null,
       "min_height": null,
       "min_width": null,
       "object_fit": null,
       "object_position": null,
       "order": null,
       "overflow": null,
       "overflow_x": null,
       "overflow_y": null,
       "padding": null,
       "right": null,
       "top": null,
       "visibility": null,
       "width": null
      }
     },
     "cb1b8758a72642c7830398af04ffc456": {
      "model_module": "@jupyter-widgets/controls",
      "model_module_version": "1.5.0",
      "model_name": "HBoxModel",
      "state": {
       "_dom_classes": [],
       "_model_module": "@jupyter-widgets/controls",
       "_model_module_version": "1.5.0",
       "_model_name": "HBoxModel",
       "_view_count": null,
       "_view_module": "@jupyter-widgets/controls",
       "_view_module_version": "1.5.0",
       "_view_name": "HBoxView",
       "box_style": "",
       "children": [
        "IPY_MODEL_c175c6917b904f8f97f6a5d00c197ed2",
        "IPY_MODEL_b6eff11692bc4eb7a25eb8706ce806ca",
        "IPY_MODEL_93d3dd08614b421697a5f181000a05d8"
       ],
       "layout": "IPY_MODEL_ebd4fa1efbe349ee889cd4603931671d"
      }
     },
     "cd42e9d3c43f44c6b9585bec57312aa5": {
      "model_module": "@jupyter-widgets/controls",
      "model_module_version": "1.5.0",
      "model_name": "HTMLModel",
      "state": {
       "_dom_classes": [],
       "_model_module": "@jupyter-widgets/controls",
       "_model_module_version": "1.5.0",
       "_model_name": "HTMLModel",
       "_view_count": null,
       "_view_module": "@jupyter-widgets/controls",
       "_view_module_version": "1.5.0",
       "_view_name": "HTMLView",
       "description": "",
       "description_tooltip": null,
       "layout": "IPY_MODEL_3dffbdeba4244efa97db644b5efc9263",
       "placeholder": "​",
       "style": "IPY_MODEL_ff10e74603ca4dcbbb863ed4239fd6bd",
       "value": " 342/342 [00:00&lt;00:00, 29.0kB/s]"
      }
     },
     "d0546974d09e4c5a92ec3464f591cdbc": {
      "model_module": "@jupyter-widgets/controls",
      "model_module_version": "1.5.0",
      "model_name": "HBoxModel",
      "state": {
       "_dom_classes": [],
       "_model_module": "@jupyter-widgets/controls",
       "_model_module_version": "1.5.0",
       "_model_name": "HBoxModel",
       "_view_count": null,
       "_view_module": "@jupyter-widgets/controls",
       "_view_module_version": "1.5.0",
       "_view_name": "HBoxView",
       "box_style": "",
       "children": [
        "IPY_MODEL_4456c740e92143eda1200da8d8faff70",
        "IPY_MODEL_2fa822fc520e44ad9d808f491235e81f",
        "IPY_MODEL_da6c22817c224365a014c3e1c054cdb2"
       ],
       "layout": "IPY_MODEL_05aa86f956da4e838a5291a6e13b1f99"
      }
     },
     "d47b34de7ab94b429d7e8d583be227a2": {
      "model_module": "@jupyter-widgets/controls",
      "model_module_version": "1.5.0",
      "model_name": "FloatProgressModel",
      "state": {
       "_dom_classes": [],
       "_model_module": "@jupyter-widgets/controls",
       "_model_module_version": "1.5.0",
       "_model_name": "FloatProgressModel",
       "_view_count": null,
       "_view_module": "@jupyter-widgets/controls",
       "_view_module_version": "1.5.0",
       "_view_name": "ProgressView",
       "bar_style": "success",
       "description": "",
       "description_tooltip": null,
       "layout": "IPY_MODEL_cb13160e190143109f2c5a7e1b0a4510",
       "max": 67863.0,
       "min": 0.0,
       "orientation": "horizontal",
       "style": "IPY_MODEL_6d7feb91e74b453695364375f58157d3",
       "value": 67863.0
      }
     },
     "d53185c782be4f199adeb5dcb8aef852": {
      "model_module": "@jupyter-widgets/base",
      "model_module_version": "1.2.0",
      "model_name": "LayoutModel",
      "state": {
       "_model_module": "@jupyter-widgets/base",
       "_model_module_version": "1.2.0",
       "_model_name": "LayoutModel",
       "_view_count": null,
       "_view_module": "@jupyter-widgets/base",
       "_view_module_version": "1.2.0",
       "_view_name": "LayoutView",
       "align_content": null,
       "align_items": null,
       "align_self": null,
       "border": null,
       "bottom": null,
       "display": null,
       "flex": null,
       "flex_flow": null,
       "grid_area": null,
       "grid_auto_columns": null,
       "grid_auto_flow": null,
       "grid_auto_rows": null,
       "grid_column": null,
       "grid_gap": null,
       "grid_row": null,
       "grid_template_areas": null,
       "grid_template_columns": null,
       "grid_template_rows": null,
       "height": null,
       "justify_content": null,
       "justify_items": null,
       "left": null,
       "margin": null,
       "max_height": null,
       "max_width": null,
       "min_height": null,
       "min_width": null,
       "object_fit": null,
       "object_position": null,
       "order": null,
       "overflow": null,
       "overflow_x": null,
       "overflow_y": null,
       "padding": null,
       "right": null,
       "top": null,
       "visibility": null,
       "width": null
      }
     },
     "d64c16e3a7444184ac480b16a3e88e92": {
      "model_module": "@jupyter-widgets/controls",
      "model_module_version": "1.5.0",
      "model_name": "ProgressStyleModel",
      "state": {
       "_model_module": "@jupyter-widgets/controls",
       "_model_module_version": "1.5.0",
       "_model_name": "ProgressStyleModel",
       "_view_count": null,
       "_view_module": "@jupyter-widgets/base",
       "_view_module_version": "1.2.0",
       "_view_name": "StyleView",
       "bar_color": null,
       "description_width": ""
      }
     },
     "d73309d4d32d4b53867250e27919af2a": {
      "model_module": "@jupyter-widgets/base",
      "model_module_version": "1.2.0",
      "model_name": "LayoutModel",
      "state": {
       "_model_module": "@jupyter-widgets/base",
       "_model_module_version": "1.2.0",
       "_model_name": "LayoutModel",
       "_view_count": null,
       "_view_module": "@jupyter-widgets/base",
       "_view_module_version": "1.2.0",
       "_view_name": "LayoutView",
       "align_content": null,
       "align_items": null,
       "align_self": null,
       "border": null,
       "bottom": null,
       "display": null,
       "flex": null,
       "flex_flow": null,
       "grid_area": null,
       "grid_auto_columns": null,
       "grid_auto_flow": null,
       "grid_auto_rows": null,
       "grid_column": null,
       "grid_gap": null,
       "grid_row": null,
       "grid_template_areas": null,
       "grid_template_columns": null,
       "grid_template_rows": null,
       "height": null,
       "justify_content": null,
       "justify_items": null,
       "left": null,
       "margin": null,
       "max_height": null,
       "max_width": null,
       "min_height": null,
       "min_width": null,
       "object_fit": null,
       "object_position": null,
       "order": null,
       "overflow": null,
       "overflow_x": null,
       "overflow_y": null,
       "padding": null,
       "right": null,
       "top": null,
       "visibility": null,
       "width": null
      }
     },
     "d9688eefe92d4aa3bed029beb3bcec01": {
      "model_module": "@jupyter-widgets/base",
      "model_module_version": "1.2.0",
      "model_name": "LayoutModel",
      "state": {
       "_model_module": "@jupyter-widgets/base",
       "_model_module_version": "1.2.0",
       "_model_name": "LayoutModel",
       "_view_count": null,
       "_view_module": "@jupyter-widgets/base",
       "_view_module_version": "1.2.0",
       "_view_name": "LayoutView",
       "align_content": null,
       "align_items": null,
       "align_self": null,
       "border": null,
       "bottom": null,
       "display": null,
       "flex": null,
       "flex_flow": null,
       "grid_area": null,
       "grid_auto_columns": null,
       "grid_auto_flow": null,
       "grid_auto_rows": null,
       "grid_column": null,
       "grid_gap": null,
       "grid_row": null,
       "grid_template_areas": null,
       "grid_template_columns": null,
       "grid_template_rows": null,
       "height": null,
       "justify_content": null,
       "justify_items": null,
       "left": null,
       "margin": null,
       "max_height": null,
       "max_width": null,
       "min_height": null,
       "min_width": null,
       "object_fit": null,
       "object_position": null,
       "order": null,
       "overflow": null,
       "overflow_x": null,
       "overflow_y": null,
       "padding": null,
       "right": null,
       "top": null,
       "visibility": null,
       "width": null
      }
     },
     "da6c22817c224365a014c3e1c054cdb2": {
      "model_module": "@jupyter-widgets/controls",
      "model_module_version": "1.5.0",
      "model_name": "HTMLModel",
      "state": {
       "_dom_classes": [],
       "_model_module": "@jupyter-widgets/controls",
       "_model_module_version": "1.5.0",
       "_model_name": "HTMLModel",
       "_view_count": null,
       "_view_module": "@jupyter-widgets/controls",
       "_view_module_version": "1.5.0",
       "_view_name": "HTMLView",
       "description": "",
       "description_tooltip": null,
       "layout": "IPY_MODEL_e31e3d65545f40f2840fe2cbd2f38843",
       "placeholder": "​",
       "style": "IPY_MODEL_e4b407b575c64341ba12906a2f480cea",
       "value": " 191/191 [00:00&lt;00:00, 16.7kB/s]"
      }
     },
     "da99783ade2a471dac656bfdc2841835": {
      "model_module": "@jupyter-widgets/base",
      "model_module_version": "1.2.0",
      "model_name": "LayoutModel",
      "state": {
       "_model_module": "@jupyter-widgets/base",
       "_model_module_version": "1.2.0",
       "_model_name": "LayoutModel",
       "_view_count": null,
       "_view_module": "@jupyter-widgets/base",
       "_view_module_version": "1.2.0",
       "_view_name": "LayoutView",
       "align_content": null,
       "align_items": null,
       "align_self": null,
       "border": null,
       "bottom": null,
       "display": null,
       "flex": null,
       "flex_flow": null,
       "grid_area": null,
       "grid_auto_columns": null,
       "grid_auto_flow": null,
       "grid_auto_rows": null,
       "grid_column": null,
       "grid_gap": null,
       "grid_row": null,
       "grid_template_areas": null,
       "grid_template_columns": null,
       "grid_template_rows": null,
       "height": null,
       "justify_content": null,
       "justify_items": null,
       "left": null,
       "margin": null,
       "max_height": null,
       "max_width": null,
       "min_height": null,
       "min_width": null,
       "object_fit": null,
       "object_position": null,
       "order": null,
       "overflow": null,
       "overflow_x": null,
       "overflow_y": null,
       "padding": null,
       "right": null,
       "top": null,
       "visibility": null,
       "width": null
      }
     },
     "dc325ccfb2464d97be4e71a4050e3361": {
      "model_module": "@jupyter-widgets/controls",
      "model_module_version": "1.5.0",
      "model_name": "ProgressStyleModel",
      "state": {
       "_model_module": "@jupyter-widgets/controls",
       "_model_module_version": "1.5.0",
       "_model_name": "ProgressStyleModel",
       "_view_count": null,
       "_view_module": "@jupyter-widgets/base",
       "_view_module_version": "1.2.0",
       "_view_name": "StyleView",
       "bar_color": null,
       "description_width": ""
      }
     },
     "dc54295289ea4f3581ed454e846fc1ab": {
      "model_module": "@jupyter-widgets/controls",
      "model_module_version": "1.5.0",
      "model_name": "FloatProgressModel",
      "state": {
       "_dom_classes": [],
       "_model_module": "@jupyter-widgets/controls",
       "_model_module_version": "1.5.0",
       "_model_name": "FloatProgressModel",
       "_view_count": null,
       "_view_module": "@jupyter-widgets/controls",
       "_view_module_version": "1.5.0",
       "_view_name": "ProgressView",
       "bar_style": "success",
       "description": "",
       "description_tooltip": null,
       "layout": "IPY_MODEL_d9688eefe92d4aa3bed029beb3bcec01",
       "max": 670332568.0,
       "min": 0.0,
       "orientation": "horizontal",
       "style": "IPY_MODEL_0ad057cc54d04eb29098dc7f5c54c000",
       "value": 670332568.0
      }
     },
     "dff8724ac09543bea9c494cb18f13780": {
      "model_module": "@jupyter-widgets/controls",
      "model_module_version": "1.5.0",
      "model_name": "HTMLModel",
      "state": {
       "_dom_classes": [],
       "_model_module": "@jupyter-widgets/controls",
       "_model_module_version": "1.5.0",
       "_model_name": "HTMLModel",
       "_view_count": null,
       "_view_module": "@jupyter-widgets/controls",
       "_view_module_version": "1.5.0",
       "_view_name": "HTMLView",
       "description": "",
       "description_tooltip": null,
       "layout": "IPY_MODEL_89c14376e32c410ab3bb0404668248ad",
       "placeholder": "​",
       "style": "IPY_MODEL_b495aa32bcfe46c19ff5951a5c74466a",
       "value": "README.md: 100%"
      }
     },
     "e193a12ab54942d0b19e26fe85dd2b76": {
      "model_module": "@jupyter-widgets/base",
      "model_module_version": "1.2.0",
      "model_name": "LayoutModel",
      "state": {
       "_model_module": "@jupyter-widgets/base",
       "_model_module_version": "1.2.0",
       "_model_name": "LayoutModel",
       "_view_count": null,
       "_view_module": "@jupyter-widgets/base",
       "_view_module_version": "1.2.0",
       "_view_name": "LayoutView",
       "align_content": null,
       "align_items": null,
       "align_self": null,
       "border": null,
       "bottom": null,
       "display": null,
       "flex": null,
       "flex_flow": null,
       "grid_area": null,
       "grid_auto_columns": null,
       "grid_auto_flow": null,
       "grid_auto_rows": null,
       "grid_column": null,
       "grid_gap": null,
       "grid_row": null,
       "grid_template_areas": null,
       "grid_template_columns": null,
       "grid_template_rows": null,
       "height": null,
       "justify_content": null,
       "justify_items": null,
       "left": null,
       "margin": null,
       "max_height": null,
       "max_width": null,
       "min_height": null,
       "min_width": null,
       "object_fit": null,
       "object_position": null,
       "order": null,
       "overflow": null,
       "overflow_x": null,
       "overflow_y": null,
       "padding": null,
       "right": null,
       "top": null,
       "visibility": null,
       "width": null
      }
     },
     "e1ac9e6dc3144d7e801d03c353834ab9": {
      "model_module": "@jupyter-widgets/controls",
      "model_module_version": "1.5.0",
      "model_name": "FloatProgressModel",
      "state": {
       "_dom_classes": [],
       "_model_module": "@jupyter-widgets/controls",
       "_model_module_version": "1.5.0",
       "_model_name": "FloatProgressModel",
       "_view_count": null,
       "_view_module": "@jupyter-widgets/controls",
       "_view_module_version": "1.5.0",
       "_view_name": "ProgressView",
       "bar_style": "success",
       "description": "",
       "description_tooltip": null,
       "layout": "IPY_MODEL_fea45a8dbb3c484d9f9d6cd1d3dede7e",
       "max": 231508.0,
       "min": 0.0,
       "orientation": "horizontal",
       "style": "IPY_MODEL_588d085d7f8542c3998da19ef969308d",
       "value": 231508.0
      }
     },
     "e2689732f69f44c088c19b7d014b2b46": {
      "model_module": "@jupyter-widgets/base",
      "model_module_version": "1.2.0",
      "model_name": "LayoutModel",
      "state": {
       "_model_module": "@jupyter-widgets/base",
       "_model_module_version": "1.2.0",
       "_model_name": "LayoutModel",
       "_view_count": null,
       "_view_module": "@jupyter-widgets/base",
       "_view_module_version": "1.2.0",
       "_view_name": "LayoutView",
       "align_content": null,
       "align_items": null,
       "align_self": null,
       "border": null,
       "bottom": null,
       "display": null,
       "flex": null,
       "flex_flow": null,
       "grid_area": null,
       "grid_auto_columns": null,
       "grid_auto_flow": null,
       "grid_auto_rows": null,
       "grid_column": null,
       "grid_gap": null,
       "grid_row": null,
       "grid_template_areas": null,
       "grid_template_columns": null,
       "grid_template_rows": null,
       "height": null,
       "justify_content": null,
       "justify_items": null,
       "left": null,
       "margin": null,
       "max_height": null,
       "max_width": null,
       "min_height": null,
       "min_width": null,
       "object_fit": null,
       "object_position": null,
       "order": null,
       "overflow": null,
       "overflow_x": null,
       "overflow_y": null,
       "padding": null,
       "right": null,
       "top": null,
       "visibility": null,
       "width": null
      }
     },
     "e31e3d65545f40f2840fe2cbd2f38843": {
      "model_module": "@jupyter-widgets/base",
      "model_module_version": "1.2.0",
      "model_name": "LayoutModel",
      "state": {
       "_model_module": "@jupyter-widgets/base",
       "_model_module_version": "1.2.0",
       "_model_name": "LayoutModel",
       "_view_count": null,
       "_view_module": "@jupyter-widgets/base",
       "_view_module_version": "1.2.0",
       "_view_name": "LayoutView",
       "align_content": null,
       "align_items": null,
       "align_self": null,
       "border": null,
       "bottom": null,
       "display": null,
       "flex": null,
       "flex_flow": null,
       "grid_area": null,
       "grid_auto_columns": null,
       "grid_auto_flow": null,
       "grid_auto_rows": null,
       "grid_column": null,
       "grid_gap": null,
       "grid_row": null,
       "grid_template_areas": null,
       "grid_template_columns": null,
       "grid_template_rows": null,
       "height": null,
       "justify_content": null,
       "justify_items": null,
       "left": null,
       "margin": null,
       "max_height": null,
       "max_width": null,
       "min_height": null,
       "min_width": null,
       "object_fit": null,
       "object_position": null,
       "order": null,
       "overflow": null,
       "overflow_x": null,
       "overflow_y": null,
       "padding": null,
       "right": null,
       "top": null,
       "visibility": null,
       "width": null
      }
     },
     "e4b407b575c64341ba12906a2f480cea": {
      "model_module": "@jupyter-widgets/controls",
      "model_module_version": "1.5.0",
      "model_name": "DescriptionStyleModel",
      "state": {
       "_model_module": "@jupyter-widgets/controls",
       "_model_module_version": "1.5.0",
       "_model_name": "DescriptionStyleModel",
       "_view_count": null,
       "_view_module": "@jupyter-widgets/base",
       "_view_module_version": "1.2.0",
       "_view_name": "StyleView",
       "description_width": ""
      }
     },
     "ea03b4a38bde4ecea751f16e92735a40": {
      "model_module": "@jupyter-widgets/base",
      "model_module_version": "1.2.0",
      "model_name": "LayoutModel",
      "state": {
       "_model_module": "@jupyter-widgets/base",
       "_model_module_version": "1.2.0",
       "_model_name": "LayoutModel",
       "_view_count": null,
       "_view_module": "@jupyter-widgets/base",
       "_view_module_version": "1.2.0",
       "_view_name": "LayoutView",
       "align_content": null,
       "align_items": null,
       "align_self": null,
       "border": null,
       "bottom": null,
       "display": null,
       "flex": null,
       "flex_flow": null,
       "grid_area": null,
       "grid_auto_columns": null,
       "grid_auto_flow": null,
       "grid_auto_rows": null,
       "grid_column": null,
       "grid_gap": null,
       "grid_row": null,
       "grid_template_areas": null,
       "grid_template_columns": null,
       "grid_template_rows": null,
       "height": null,
       "justify_content": null,
       "justify_items": null,
       "left": null,
       "margin": null,
       "max_height": null,
       "max_width": null,
       "min_height": null,
       "min_width": null,
       "object_fit": null,
       "object_position": null,
       "order": null,
       "overflow": null,
       "overflow_x": null,
       "overflow_y": null,
       "padding": null,
       "right": null,
       "top": null,
       "visibility": null,
       "width": null
      }
     },
     "ea3424110dee49e08c3f03f56542840c": {
      "model_module": "@jupyter-widgets/controls",
      "model_module_version": "1.5.0",
      "model_name": "HTMLModel",
      "state": {
       "_dom_classes": [],
       "_model_module": "@jupyter-widgets/controls",
       "_model_module_version": "1.5.0",
       "_model_name": "HTMLModel",
       "_view_count": null,
       "_view_module": "@jupyter-widgets/controls",
       "_view_module_version": "1.5.0",
       "_view_name": "HTMLView",
       "description": "",
       "description_tooltip": null,
       "layout": "IPY_MODEL_0533155058284c7b8ae0f158f11b4f7f",
       "placeholder": "​",
       "style": "IPY_MODEL_58b323d8a4904038b6d31cb349392cdd",
       "value": "tokenizer_config.json: 100%"
      }
     },
     "ea9b746016ca43608851a452685ca3bc": {
      "model_module": "@jupyter-widgets/controls",
      "model_module_version": "1.5.0",
      "model_name": "HBoxModel",
      "state": {
       "_dom_classes": [],
       "_model_module": "@jupyter-widgets/controls",
       "_model_module_version": "1.5.0",
       "_model_name": "HBoxModel",
       "_view_count": null,
       "_view_module": "@jupyter-widgets/controls",
       "_view_module_version": "1.5.0",
       "_view_name": "HBoxView",
       "box_style": "",
       "children": [
        "IPY_MODEL_ee37a581b723416ca81a48b7c3d939af",
        "IPY_MODEL_e1ac9e6dc3144d7e801d03c353834ab9",
        "IPY_MODEL_858099df133749c1bdf353469a5c5985"
       ],
       "layout": "IPY_MODEL_058194d7d96542f689242153ce703647"
      }
     },
     "ebc11960e92a45c5957fddda715347f3": {
      "model_module": "@jupyter-widgets/controls",
      "model_module_version": "1.5.0",
      "model_name": "HTMLModel",
      "state": {
       "_dom_classes": [],
       "_model_module": "@jupyter-widgets/controls",
       "_model_module_version": "1.5.0",
       "_model_name": "HTMLModel",
       "_view_count": null,
       "_view_module": "@jupyter-widgets/controls",
       "_view_module_version": "1.5.0",
       "_view_name": "HTMLView",
       "description": "",
       "description_tooltip": null,
       "layout": "IPY_MODEL_895085dd7a8a4ffa965ccad25f126361",
       "placeholder": "​",
       "style": "IPY_MODEL_323d98e9edac46ee91da2ec12e8a8302",
       "value": " 57.0/57.0 [00:00&lt;00:00, 4.80kB/s]"
      }
     },
     "ebd4fa1efbe349ee889cd4603931671d": {
      "model_module": "@jupyter-widgets/base",
      "model_module_version": "1.2.0",
      "model_name": "LayoutModel",
      "state": {
       "_model_module": "@jupyter-widgets/base",
       "_model_module_version": "1.2.0",
       "_model_name": "LayoutModel",
       "_view_count": null,
       "_view_module": "@jupyter-widgets/base",
       "_view_module_version": "1.2.0",
       "_view_name": "LayoutView",
       "align_content": null,
       "align_items": null,
       "align_self": null,
       "border": null,
       "bottom": null,
       "display": null,
       "flex": null,
       "flex_flow": null,
       "grid_area": null,
       "grid_auto_columns": null,
       "grid_auto_flow": null,
       "grid_auto_rows": null,
       "grid_column": null,
       "grid_gap": null,
       "grid_row": null,
       "grid_template_areas": null,
       "grid_template_columns": null,
       "grid_template_rows": null,
       "height": null,
       "justify_content": null,
       "justify_items": null,
       "left": null,
       "margin": null,
       "max_height": null,
       "max_width": null,
       "min_height": null,
       "min_width": null,
       "object_fit": null,
       "object_position": null,
       "order": null,
       "overflow": null,
       "overflow_x": null,
       "overflow_y": null,
       "padding": null,
       "right": null,
       "top": null,
       "visibility": null,
       "width": null
      }
     },
     "ebf9b71cd71648e9b31f9f523c6b7b1b": {
      "model_module": "@jupyter-widgets/controls",
      "model_module_version": "1.5.0",
      "model_name": "HBoxModel",
      "state": {
       "_dom_classes": [],
       "_model_module": "@jupyter-widgets/controls",
       "_model_module_version": "1.5.0",
       "_model_name": "HBoxModel",
       "_view_count": null,
       "_view_module": "@jupyter-widgets/controls",
       "_view_module_version": "1.5.0",
       "_view_name": "HBoxView",
       "box_style": "",
       "children": [
        "IPY_MODEL_04f9309cc9e44002bbd639804e4286d0",
        "IPY_MODEL_3610ad2dfd9f4cb7ad151ce079bf9efd",
        "IPY_MODEL_2d1b60a661874fc38133c31f7f7b3663"
       ],
       "layout": "IPY_MODEL_762cd031d703452fadf0be2f15dae3e4"
      }
     },
     "ed06c448d16b42c99ba155c94d6e634f": {
      "model_module": "@jupyter-widgets/controls",
      "model_module_version": "1.5.0",
      "model_name": "HBoxModel",
      "state": {
       "_dom_classes": [],
       "_model_module": "@jupyter-widgets/controls",
       "_model_module_version": "1.5.0",
       "_model_name": "HBoxModel",
       "_view_count": null,
       "_view_module": "@jupyter-widgets/controls",
       "_view_module_version": "1.5.0",
       "_view_name": "HBoxView",
       "box_style": "",
       "children": [
        "IPY_MODEL_dff8724ac09543bea9c494cb18f13780",
        "IPY_MODEL_d47b34de7ab94b429d7e8d583be227a2",
        "IPY_MODEL_f7590ec412a64b678ddfe3a51b940a0d"
       ],
       "layout": "IPY_MODEL_3efd35e320f1420e85ee66a76d75b5d9"
      }
     },
     "ee37a581b723416ca81a48b7c3d939af": {
      "model_module": "@jupyter-widgets/controls",
      "model_module_version": "1.5.0",
      "model_name": "HTMLModel",
      "state": {
       "_dom_classes": [],
       "_model_module": "@jupyter-widgets/controls",
       "_model_module_version": "1.5.0",
       "_model_name": "HTMLModel",
       "_view_count": null,
       "_view_module": "@jupyter-widgets/controls",
       "_view_module_version": "1.5.0",
       "_view_name": "HTMLView",
       "description": "",
       "description_tooltip": null,
       "layout": "IPY_MODEL_ffcd63ee6a6f4b3bb75ec817bfa12186",
       "placeholder": "​",
       "style": "IPY_MODEL_4212c024d8e34327bd8bbf619578014e",
       "value": "vocab.txt: 100%"
      }
     },
     "f0d366fee9fb4700822905678bc4c599": {
      "model_module": "@jupyter-widgets/controls",
      "model_module_version": "1.5.0",
      "model_name": "HTMLModel",
      "state": {
       "_dom_classes": [],
       "_model_module": "@jupyter-widgets/controls",
       "_model_module_version": "1.5.0",
       "_model_name": "HTMLModel",
       "_view_count": null,
       "_view_module": "@jupyter-widgets/controls",
       "_view_module_version": "1.5.0",
       "_view_name": "HTMLView",
       "description": "",
       "description_tooltip": null,
       "layout": "IPY_MODEL_a83e0509357d4378ac73ac739fdeff1a",
       "placeholder": "​",
       "style": "IPY_MODEL_f22f690b682c4bd7b2ca1cf1efdb017f",
       "value": "modules.json: 100%"
      }
     },
     "f1b78297d594497db00c7ecf56ef8103": {
      "model_module": "@jupyter-widgets/controls",
      "model_module_version": "1.5.0",
      "model_name": "FloatProgressModel",
      "state": {
       "_dom_classes": [],
       "_model_module": "@jupyter-widgets/controls",
       "_model_module_version": "1.5.0",
       "_model_name": "FloatProgressModel",
       "_view_count": null,
       "_view_module": "@jupyter-widgets/controls",
       "_view_module_version": "1.5.0",
       "_view_name": "ProgressView",
       "bar_style": "success",
       "description": "",
       "description_tooltip": null,
       "layout": "IPY_MODEL_e193a12ab54942d0b19e26fe85dd2b76",
       "max": 342.0,
       "min": 0.0,
       "orientation": "horizontal",
       "style": "IPY_MODEL_bc81f64b7dcd463d9328ca95ced32a10",
       "value": 342.0
      }
     },
     "f22f690b682c4bd7b2ca1cf1efdb017f": {
      "model_module": "@jupyter-widgets/controls",
      "model_module_version": "1.5.0",
      "model_name": "DescriptionStyleModel",
      "state": {
       "_model_module": "@jupyter-widgets/controls",
       "_model_module_version": "1.5.0",
       "_model_name": "DescriptionStyleModel",
       "_view_count": null,
       "_view_module": "@jupyter-widgets/base",
       "_view_module_version": "1.2.0",
       "_view_name": "StyleView",
       "description_width": ""
      }
     },
     "f7590ec412a64b678ddfe3a51b940a0d": {
      "model_module": "@jupyter-widgets/controls",
      "model_module_version": "1.5.0",
      "model_name": "HTMLModel",
      "state": {
       "_dom_classes": [],
       "_model_module": "@jupyter-widgets/controls",
       "_model_module_version": "1.5.0",
       "_model_name": "HTMLModel",
       "_view_count": null,
       "_view_module": "@jupyter-widgets/controls",
       "_view_module_version": "1.5.0",
       "_view_name": "HTMLView",
       "description": "",
       "description_tooltip": null,
       "layout": "IPY_MODEL_fcee7f39bc5643d695c5aeb679d74856",
       "placeholder": "​",
       "style": "IPY_MODEL_6cedd7fa199746e19d5390adcc9c332e",
       "value": " 67.9k/67.9k [00:00&lt;00:00, 964kB/s]"
      }
     },
     "fac79eff35d0490ea798de8a6c938c15": {
      "model_module": "@jupyter-widgets/base",
      "model_module_version": "1.2.0",
      "model_name": "LayoutModel",
      "state": {
       "_model_module": "@jupyter-widgets/base",
       "_model_module_version": "1.2.0",
       "_model_name": "LayoutModel",
       "_view_count": null,
       "_view_module": "@jupyter-widgets/base",
       "_view_module_version": "1.2.0",
       "_view_name": "LayoutView",
       "align_content": null,
       "align_items": null,
       "align_self": null,
       "border": null,
       "bottom": null,
       "display": null,
       "flex": null,
       "flex_flow": null,
       "grid_area": null,
       "grid_auto_columns": null,
       "grid_auto_flow": null,
       "grid_auto_rows": null,
       "grid_column": null,
       "grid_gap": null,
       "grid_row": null,
       "grid_template_areas": null,
       "grid_template_columns": null,
       "grid_template_rows": null,
       "height": null,
       "justify_content": null,
       "justify_items": null,
       "left": null,
       "margin": null,
       "max_height": null,
       "max_width": null,
       "min_height": null,
       "min_width": null,
       "object_fit": null,
       "object_position": null,
       "order": null,
       "overflow": null,
       "overflow_x": null,
       "overflow_y": null,
       "padding": null,
       "right": null,
       "top": null,
       "visibility": null,
       "width": null
      }
     },
     "fcee7f39bc5643d695c5aeb679d74856": {
      "model_module": "@jupyter-widgets/base",
      "model_module_version": "1.2.0",
      "model_name": "LayoutModel",
      "state": {
       "_model_module": "@jupyter-widgets/base",
       "_model_module_version": "1.2.0",
       "_model_name": "LayoutModel",
       "_view_count": null,
       "_view_module": "@jupyter-widgets/base",
       "_view_module_version": "1.2.0",
       "_view_name": "LayoutView",
       "align_content": null,
       "align_items": null,
       "align_self": null,
       "border": null,
       "bottom": null,
       "display": null,
       "flex": null,
       "flex_flow": null,
       "grid_area": null,
       "grid_auto_columns": null,
       "grid_auto_flow": null,
       "grid_auto_rows": null,
       "grid_column": null,
       "grid_gap": null,
       "grid_row": null,
       "grid_template_areas": null,
       "grid_template_columns": null,
       "grid_template_rows": null,
       "height": null,
       "justify_content": null,
       "justify_items": null,
       "left": null,
       "margin": null,
       "max_height": null,
       "max_width": null,
       "min_height": null,
       "min_width": null,
       "object_fit": null,
       "object_position": null,
       "order": null,
       "overflow": null,
       "overflow_x": null,
       "overflow_y": null,
       "padding": null,
       "right": null,
       "top": null,
       "visibility": null,
       "width": null
      }
     },
     "fd40c43c249b4993863f68c40474369a": {
      "model_module": "@jupyter-widgets/controls",
      "model_module_version": "1.5.0",
      "model_name": "ProgressStyleModel",
      "state": {
       "_model_module": "@jupyter-widgets/controls",
       "_model_module_version": "1.5.0",
       "_model_name": "ProgressStyleModel",
       "_view_count": null,
       "_view_module": "@jupyter-widgets/base",
       "_view_module_version": "1.2.0",
       "_view_name": "StyleView",
       "bar_color": null,
       "description_width": ""
      }
     },
     "fea45a8dbb3c484d9f9d6cd1d3dede7e": {
      "model_module": "@jupyter-widgets/base",
      "model_module_version": "1.2.0",
      "model_name": "LayoutModel",
      "state": {
       "_model_module": "@jupyter-widgets/base",
       "_model_module_version": "1.2.0",
       "_model_name": "LayoutModel",
       "_view_count": null,
       "_view_module": "@jupyter-widgets/base",
       "_view_module_version": "1.2.0",
       "_view_name": "LayoutView",
       "align_content": null,
       "align_items": null,
       "align_self": null,
       "border": null,
       "bottom": null,
       "display": null,
       "flex": null,
       "flex_flow": null,
       "grid_area": null,
       "grid_auto_columns": null,
       "grid_auto_flow": null,
       "grid_auto_rows": null,
       "grid_column": null,
       "grid_gap": null,
       "grid_row": null,
       "grid_template_areas": null,
       "grid_template_columns": null,
       "grid_template_rows": null,
       "height": null,
       "justify_content": null,
       "justify_items": null,
       "left": null,
       "margin": null,
       "max_height": null,
       "max_width": null,
       "min_height": null,
       "min_width": null,
       "object_fit": null,
       "object_position": null,
       "order": null,
       "overflow": null,
       "overflow_x": null,
       "overflow_y": null,
       "padding": null,
       "right": null,
       "top": null,
       "visibility": null,
       "width": null
      }
     },
     "ff10e74603ca4dcbbb863ed4239fd6bd": {
      "model_module": "@jupyter-widgets/controls",
      "model_module_version": "1.5.0",
      "model_name": "DescriptionStyleModel",
      "state": {
       "_model_module": "@jupyter-widgets/controls",
       "_model_module_version": "1.5.0",
       "_model_name": "DescriptionStyleModel",
       "_view_count": null,
       "_view_module": "@jupyter-widgets/base",
       "_view_module_version": "1.2.0",
       "_view_name": "StyleView",
       "description_width": ""
      }
     },
     "ffcd63ee6a6f4b3bb75ec817bfa12186": {
      "model_module": "@jupyter-widgets/base",
      "model_module_version": "1.2.0",
      "model_name": "LayoutModel",
      "state": {
       "_model_module": "@jupyter-widgets/base",
       "_model_module_version": "1.2.0",
       "_model_name": "LayoutModel",
       "_view_count": null,
       "_view_module": "@jupyter-widgets/base",
       "_view_module_version": "1.2.0",
       "_view_name": "LayoutView",
       "align_content": null,
       "align_items": null,
       "align_self": null,
       "border": null,
       "bottom": null,
       "display": null,
       "flex": null,
       "flex_flow": null,
       "grid_area": null,
       "grid_auto_columns": null,
       "grid_auto_flow": null,
       "grid_auto_rows": null,
       "grid_column": null,
       "grid_gap": null,
       "grid_row": null,
       "grid_template_areas": null,
       "grid_template_columns": null,
       "grid_template_rows": null,
       "height": null,
       "justify_content": null,
       "justify_items": null,
       "left": null,
       "margin": null,
       "max_height": null,
       "max_width": null,
       "min_height": null,
       "min_width": null,
       "object_fit": null,
       "object_position": null,
       "order": null,
       "overflow": null,
       "overflow_x": null,
       "overflow_y": null,
       "padding": null,
       "right": null,
       "top": null,
       "visibility": null,
       "width": null
      }
     }
    },
    "version_major": 2,
    "version_minor": 0
   }
  }
 },
 "nbformat": 4,
 "nbformat_minor": 5
}
