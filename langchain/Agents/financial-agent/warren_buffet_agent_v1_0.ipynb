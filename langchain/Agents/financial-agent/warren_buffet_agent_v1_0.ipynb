{
  "nbformat": 4,
  "nbformat_minor": 0,
  "metadata": {
    "colab": {
      "provenance": []
    },
    "kernelspec": {
      "name": "python3",
      "display_name": "Python 3"
    },
    "language_info": {
      "name": "python"
    }
  },
  "cells": [
    {
      "cell_type": "markdown",
      "source": [
        "**Disclaimer**: This agent is not intended as financial advice.  It is for informational and entertainment purposes only.  Do your own due diligence."
      ],
      "metadata": {
        "id": "1RV4aPVE3ecA"
      }
    },
    {
      "cell_type": "code",
      "execution_count": null,
      "metadata": {
        "id": "GcvSoNAmVbXH"
      },
      "outputs": [],
      "source": [
        "!pip install -U --quiet langgraph langchain_community langchain_openai"
      ]
    },
    {
      "cell_type": "code",
      "source": [
        "import getpass\n",
        "import os\n",
        "\n",
        "# Set your OpenAI API key\n",
        "os.environ[\"OPENAI_API_KEY\"] = getpass.getpass()"
      ],
      "metadata": {
        "id": "aw9453mxY2GZ"
      },
      "execution_count": null,
      "outputs": []
    },
    {
      "cell_type": "code",
      "source": [
        "# You can get an API key here https://financialdatasets.ai/\n",
        "os.environ[\"FINANCIAL_DATASETS_API_KEY\"] = getpass.getpass()"
      ],
      "metadata": {
        "id": "wLgG34qXylsg"
      },
      "execution_count": null,
      "outputs": []
    },
    {
      "cell_type": "markdown",
      "source": [
        "# Define the tools our agent can use"
      ],
      "metadata": {
        "id": "bqtPnq2Q7LKA"
      }
    },
    {
      "cell_type": "code",
      "source": [
        "from langchain_core.tools import tool\n",
        "\n",
        "\n",
        "@tool\n",
        "def roe(\n",
        "    net_income: float,\n",
        "    equity: float,\n",
        ") -> float:\n",
        "    \"\"\"\n",
        "    Computes the return on equity (ROE) for a given company.\n",
        "    Use this function to evaluate the profitability of a company.\n",
        "    \"\"\"\n",
        "    return net_income / equity\n",
        "\n",
        "\n",
        "@tool\n",
        "def roic(\n",
        "    operating_income: float,\n",
        "    total_debt: float,\n",
        "    equity: float,\n",
        "    cash_and_equivalents: float,\n",
        "    tax_rate: float = 0.35,\n",
        ") -> float:\n",
        "    \"\"\"\n",
        "    Computes the return on invested capital (ROIC) for a given company.\n",
        "    Use this function to evaluate the efficiency of a company in generating returns from its capital.\n",
        "    \"\"\"\n",
        "    net_operating_profit_after_tax = operating_income * (1 - tax_rate)\n",
        "    invested_capital = total_debt + equity - cash_and_equivalents\n",
        "    return net_operating_profit_after_tax / invested_capital\n",
        "\n",
        "\n",
        "@tool\n",
        "def owner_earnings(\n",
        "    net_income: float,\n",
        "    depreciation_amortization: float = 0.0,\n",
        "    capital_expenditures: float = 0.0\n",
        "):\n",
        "    \"\"\"\n",
        "    Calculates the owner earnings for a company based on the net income, depreciation/amortization, and capital expenditures.\n",
        "    \"\"\"\n",
        "    return net_income + depreciation_amortization - capital_expenditures\n",
        "\n",
        "\n",
        "@tool\n",
        "def intrinsic_value(\n",
        "    free_cash_flow: float,\n",
        "    growth_rate: float = 0.05,\n",
        "    discount_rate: float = 0.10,\n",
        "    terminal_growth_rate: float = 0.02,\n",
        "    num_years: int = 5,\n",
        ") -> float:\n",
        "    \"\"\"\n",
        "    Computes the discounted cash flow (DCF) for a given company based on the current free cash flow.\n",
        "    Use this function to calculate the intrinsic value of a stock.\n",
        "    \"\"\"\n",
        "    # Estimate the future cash flows based on the growth rate\n",
        "    cash_flows = [free_cash_flow * (1 + growth_rate) ** i for i in range(num_years)]\n",
        "\n",
        "    # Calculate the present value of projected cash flows\n",
        "    present_values = []\n",
        "    for i in range(num_years):\n",
        "        present_value = cash_flows[i] / (1 + discount_rate) ** (i + 1)\n",
        "        present_values.append(present_value)\n",
        "\n",
        "    # Calculate the terminal value\n",
        "    terminal_value = cash_flows[-1] * (1 + terminal_growth_rate) / (discount_rate - terminal_growth_rate)\n",
        "    terminal_present_value = terminal_value / (1 + discount_rate) ** num_years\n",
        "\n",
        "    # Sum up the present values and terminal value\n",
        "    dcf_value = sum(present_values) + terminal_present_value\n",
        "\n",
        "    return dcf_value"
      ],
      "metadata": {
        "id": "inc3sZdzsmQ-"
      },
      "execution_count": null,
      "outputs": []
    },
    {
      "cell_type": "code",
      "source": [
        "from langgraph.prebuilt import ToolNode\n",
        "\n",
        "from langchain_community.tools import IncomeStatements, BalanceSheets, CashFlowStatements\n",
        "from langchain_community.utilities.financial_datasets import FinancialDatasetsAPIWrapper\n",
        "\n",
        "# Create the tools\n",
        "api_wrapper = FinancialDatasetsAPIWrapper()\n",
        "integration_tools = [\n",
        "    IncomeStatements(api_wrapper=api_wrapper),\n",
        "    BalanceSheets(api_wrapper=api_wrapper),\n",
        "    CashFlowStatements(api_wrapper=api_wrapper),\n",
        "]\n",
        "\n",
        "local_tools = [intrinsic_value, roe, roic, owner_earnings]\n",
        "tools = integration_tools + local_tools\n",
        "\n",
        "tool_node = ToolNode(tools)"
      ],
      "metadata": {
        "id": "mczr2sUEVdYv"
      },
      "execution_count": null,
      "outputs": []
    },
    {
      "cell_type": "markdown",
      "source": [
        "# Set up the LLM"
      ],
      "metadata": {
        "id": "ABtfJlkWWs_9"
      }
    },
    {
      "cell_type": "code",
      "source": [
        "from langchain.tools.render import format_tool_to_openai_function\n",
        "from langchain_openai.chat_models import ChatOpenAI\n",
        "\n",
        "# Choose the LLM that will drive the agent\n",
        "model = ChatOpenAI(model=\"gpt-4o\", temperature=0).bind_tools(tools)"
      ],
      "metadata": {
        "id": "1Z05n9jgXB02"
      },
      "execution_count": null,
      "outputs": []
    },
    {
      "cell_type": "markdown",
      "source": [
        "# Define the agent state"
      ],
      "metadata": {
        "id": "-1QmeRXMXOpk"
      }
    },
    {
      "cell_type": "code",
      "source": [
        "from typing import TypedDict, Annotated, Sequence\n",
        "import operator\n",
        "from langchain_core.messages import BaseMessage\n",
        "\n",
        "class AgentState(TypedDict):\n",
        "    messages: Annotated[Sequence[BaseMessage], operator.add]"
      ],
      "metadata": {
        "id": "pdiItye3XRnC"
      },
      "execution_count": null,
      "outputs": []
    },
    {
      "cell_type": "markdown",
      "source": [
        "# Define the nodes"
      ],
      "metadata": {
        "id": "Nkx5fvUE7Hjz"
      }
    },
    {
      "cell_type": "code",
      "source": [
        "from typing import Literal\n",
        "from langgraph.graph import END, StateGraph, MessagesState\n",
        "\n",
        "\n",
        "# Define the function that determines whether to continue or not\n",
        "def should_continue(state: MessagesState) -> Literal[\"tools\", END]:\n",
        "    messages = state['messages']\n",
        "    last_message = messages[-1]\n",
        "    # If the LLM makes a tool call, then we route to the \"tools\" node\n",
        "    if last_message.tool_calls:\n",
        "        return \"tools\"\n",
        "    # Otherwise, we stop (reply to the user)\n",
        "    return END\n",
        "\n",
        "# Define the function that calls the model\n",
        "def call_model(state: MessagesState):\n",
        "    messages = state['messages']\n",
        "    response = model.invoke(messages)\n",
        "    # We return a list, because this will get added to the existing list\n",
        "    return {\"messages\": [response]}"
      ],
      "metadata": {
        "id": "nTW70qJEV6-A"
      },
      "execution_count": null,
      "outputs": []
    },
    {
      "cell_type": "markdown",
      "source": [
        "# Define the graph"
      ],
      "metadata": {
        "id": "WslINdsq7FWq"
      }
    },
    {
      "cell_type": "code",
      "source": [
        "from langgraph.checkpoint.memory import MemorySaver\n",
        "\n",
        "# Define a new graph\n",
        "workflow = StateGraph(MessagesState)\n",
        "\n",
        "# Define the two nodes we will cycle between\n",
        "workflow.add_node(\"agent\", call_model)\n",
        "workflow.add_node(\"tools\", tool_node)\n",
        "\n",
        "# Set the entrypoint as `agent`\n",
        "# This means that this node is the first one called\n",
        "workflow.set_entry_point(\"agent\")\n",
        "\n",
        "# We now add a conditional edge\n",
        "workflow.add_conditional_edges(\n",
        "    # First, we define the start node. We use `agent`.\n",
        "    # This means these are the edges taken after the `agent` node is called.\n",
        "    \"agent\",\n",
        "    # Next, we pass in the function that will determine which node is called next.\n",
        "    should_continue,\n",
        ")\n",
        "\n",
        "# We now add a normal edge from `tools` to `agent`.\n",
        "# This means that after `tools` is called, `agent` node is called next.\n",
        "workflow.add_edge(\"tools\", 'agent')\n",
        "\n",
        "# Initialize memory to persist state between graph runs\n",
        "checkpointer = MemorySaver()\n",
        "\n",
        "# Finally, we compile it!\n",
        "# This compiles it into a LangChain Runnable,\n",
        "# meaning you can use it as you would any other runnable.\n",
        "# Note that we're (optionally) passing the memory when compiling the graph\n",
        "app = workflow.compile(checkpointer=checkpointer)"
      ],
      "metadata": {
        "id": "xK5euZ6UWAhq"
      },
      "execution_count": null,
      "outputs": []
    },
    {
      "cell_type": "markdown",
      "source": [
        "# Run the financial agent"
      ],
      "metadata": {
        "id": "EQOLvjF7XvZR"
      }
    },
    {
      "cell_type": "code",
      "source": [
        "from langchain_core.messages import HumanMessage\n",
        "\n",
        "# Use the Runnable\n",
        "final_state = app.invoke(\n",
        "    {\"messages\": [HumanMessage(content=\"What is NVDA's intrinsic value given a discount rate of 5%, growth rate of 10%, terminal growth rate of 3%?\")]},\n",
        "    config={\"configurable\": {\"thread_id\": 42}}\n",
        ")\n",
        "final_state[\"messages\"][-1].content"
      ],
      "metadata": {
        "colab": {
          "base_uri": "https://localhost:8080/",
          "height": 35
        },
        "id": "BDiXx__hpilI",
        "outputId": "a6a96737-75b2-4d95-c9a5-f996a369ca64"
      },
      "execution_count": null,
      "outputs": [
        {
          "output_type": "execute_result",
          "data": {
            "text/plain": [
              "'The intrinsic value of NVIDIA Corporation (NVDA) given a discount rate of 5%, growth rate of 10%, and terminal growth rate of 3% is approximately $1,806,645,106,719.94.'"
            ],
            "application/vnd.google.colaboratory.intrinsic+json": {
              "type": "string"
            }
          },
          "metadata": {},
          "execution_count": 15
        }
      ]
    },
    {
      "cell_type": "markdown",
      "source": [
        "# Create dataset for evaluation"
      ],
      "metadata": {
        "id": "wqQ8Pru9pw1F"
      }
    },
    {
      "cell_type": "code",
      "source": [
        "!pip install -U --quiet financial-datasets"
      ],
      "metadata": {
        "colab": {
          "base_uri": "https://localhost:8080/"
        },
        "id": "SqSl4P5YwjZJ",
        "outputId": "669528c5-934b-419d-8312-d94f99447ac5"
      },
      "execution_count": null,
      "outputs": [
        {
          "output_type": "stream",
          "name": "stdout",
          "text": [
            "\u001b[31mERROR: pip's dependency resolver does not currently take into account all the packages that are installed. This behaviour is the source of the following dependency conflicts.\n",
            "langchain 0.2.14 requires langchain-core<0.3.0,>=0.2.32, but you have langchain-core 0.1.52 which is incompatible.\n",
            "langchain 0.2.14 requires langchain-text-splitters<0.3.0,>=0.2.0, but you have langchain-text-splitters 0.0.1 which is incompatible.\n",
            "langchain-community 0.2.12 requires langchain-core<0.3.0,>=0.2.30, but you have langchain-core 0.1.52 which is incompatible.\n",
            "langchain-openai 0.1.22 requires langchain-core<0.3.0,>=0.2.33, but you have langchain-core 0.1.52 which is incompatible.\n",
            "langchain-openai 0.1.22 requires tiktoken<1,>=0.7, but you have tiktoken 0.6.0 which is incompatible.\n",
            "langgraph 0.2.4 requires langchain-core<0.3,>=0.2.27, but you have langchain-core 0.1.52 which is incompatible.\n",
            "langgraph-checkpoint 1.0.3 requires langchain-core<0.3,>=0.2.22, but you have langchain-core 0.1.52 which is incompatible.\u001b[0m\u001b[31m\n",
            "\u001b[0m"
          ]
        }
      ]
    },
    {
      "cell_type": "markdown",
      "source": [
        "# Define helper functions for getting financials"
      ],
      "metadata": {
        "id": "m21jkItJw7kG"
      }
    },
    {
      "cell_type": "code",
      "source": [
        "def get_income_statements(ticker: str, period: str = \"ttm\", limit: int = 10) -> dict:\n",
        "    return api_wrapper.get_income_statements(ticker, period, limit)\n",
        "\n",
        "def get_balance_sheets(ticker: str, period: str = \"ttm\", limit: int = 10) -> dict:\n",
        "    return api_wrapper.get_balance_sheets(ticker, period, limit)\n",
        "\n",
        "def get_cash_flow_statements(ticker: str, period: str = \"ttm\", limit: int = 10) -> dict:\n",
        "    return api_wrapper.get_cash_flow_statements(ticker, period, limit)"
      ],
      "metadata": {
        "id": "7MFWUmU0xPHF"
      },
      "execution_count": null,
      "outputs": []
    },
    {
      "cell_type": "code",
      "source": [
        "ticker = \"NVDA\"\n",
        "income_statements = get_income_statements(ticker, 'ttm', 10)\n",
        "balance_sheets = get_balance_sheets(ticker, 'ttm', 10)\n",
        "cash_flow_statements = get_cash_flow_statements(ticker, 'ttm', 10)"
      ],
      "metadata": {
        "id": "lB1XUGJ9xYbO"
      },
      "execution_count": null,
      "outputs": []
    },
    {
      "cell_type": "markdown",
      "source": [
        "# Create a system prompt"
      ],
      "metadata": {
        "id": "RXsw7LKCy5BZ"
      }
    },
    {
      "cell_type": "code",
      "source": [
        "system_prompt = \"\"\"\n",
        "You are an expert at creating datasets for evaluating Large Language Models (LLMs) in the domain of financial analysis. Your task is to generate a list of question-answer-context sets based on the provided financial data.\n",
        "\n",
        "These sets will be used to test LLMs' ability to accurately interpret and analyze financial information.\n",
        "\n",
        "Your goal is to create question-answer-context sets. Each set should consist of:\n",
        "1. A question about the financial data\n",
        "2. The correct answer to that question (ground truth)\n",
        "3. The relevant context from which the question and answer were derived\n",
        "\n",
        "Follow these guidelines when creating the sets:\n",
        "1. Questions should vary in complexity, ranging from simple data retrieval to more complex calculations and comparisons.\n",
        "2. Ensure that questions cover different aspects of the financial data, such as revenue, profitability, growth, and financial ratios.\n",
        "3. The context should provide enough information for a human evaluator to understand where the question and answer came from, without giving away the answer directly.\n",
        "\n",
        "Examples of questions you might create:\n",
        "- Simple: \"What was NVDA's revenue for the period ending March 31, 2024?\"\n",
        "- Moderate: \"Calculate the year-over-year growth in gross profit between the two periods.\"\n",
        "- Complex: \"What is the change in operating margin between the two periods? (Operating margin = Operating income / Revenue)\"\n",
        "\n",
        "\"\"\""
      ],
      "metadata": {
        "id": "YX0iQFXay9UH"
      },
      "execution_count": null,
      "outputs": []
    },
    {
      "cell_type": "markdown",
      "source": [
        "# Generate question + answer dataset"
      ],
      "metadata": {
        "id": "7PiWJG_Ez7Nz"
      }
    },
    {
      "cell_type": "code",
      "source": [
        "from financial_datasets.generator import DatasetGenerator\n",
        "\n",
        "# Create dataset generator\n",
        "generator = DatasetGenerator(model=\"gpt-4-turbo\", api_key=os.environ[\"OPENAI_API_KEY\"])\n",
        "\n",
        "# Generate dataset from income_statements\n",
        "income_statements_dataset = generator.generate_from_texts(\n",
        "    texts={\"income_statements\": income_statements},\n",
        "    max_questions=10,\n",
        "    system_prompt=system_prompt,\n",
        ")"
      ],
      "metadata": {
        "id": "S6zbr-v3wmT_"
      },
      "execution_count": null,
      "outputs": []
    },
    {
      "cell_type": "code",
      "source": [
        "# Generate dataset from balance_sheets\n",
        "balance_sheets_dataset = generator.generate_from_texts(\n",
        "    texts={\"balance_sheets\": balance_sheets},\n",
        "    max_questions=10,\n",
        "    system_prompt=system_prompt,\n",
        ")"
      ],
      "metadata": {
        "id": "rr8Ilt3nzWcu"
      },
      "execution_count": null,
      "outputs": []
    },
    {
      "cell_type": "code",
      "source": [
        "# Generate dataset from cash_flow_statements\n",
        "cash_flow_statements_dataset = generator.generate_from_texts(\n",
        "    texts={\"cash_flow_statements\": cash_flow_statements},\n",
        "    max_questions=10,\n",
        "    system_prompt=system_prompt,\n",
        ")"
      ],
      "metadata": {
        "id": "sFu0DYS-zntB"
      },
      "execution_count": null,
      "outputs": []
    },
    {
      "cell_type": "code",
      "source": [
        "questions = income_statements_dataset.items + balance_sheets_dataset.items + cash_flow_statements_dataset.items"
      ],
      "metadata": {
        "id": "oLyMAkR4zglg"
      },
      "execution_count": null,
      "outputs": []
    },
    {
      "cell_type": "markdown",
      "source": [
        "# Visualize dataset"
      ],
      "metadata": {
        "id": "L4R_JqOH0E8V"
      }
    },
    {
      "cell_type": "code",
      "source": [
        "import json\n",
        "\n",
        "# Convert to JSON and print\n",
        "json_data = json.dumps([question.model_dump() for question in questions], indent=2)\n",
        "print(\"JSON data:\")\n",
        "print(json_data)"
      ],
      "metadata": {
        "id": "xXLoBhee0Ik9"
      },
      "execution_count": null,
      "outputs": []
    },
    {
      "cell_type": "code",
      "source": [
        "import pandas as pd\n",
        "\n",
        "# Convert to DataFrame and display\n",
        "df = pd.DataFrame([question.model_dump() for question in questions])\n",
        "print(\"\\nDataFrame:\")\n",
        "display(df)"
      ],
      "metadata": {
        "colab": {
          "base_uri": "https://localhost:8080/",
          "height": 1000
        },
        "id": "gTepRPjb0Xj-",
        "outputId": "510ed310-2532-4211-e7c0-b0185805215f"
      },
      "execution_count": null,
      "outputs": [
        {
          "output_type": "stream",
          "name": "stdout",
          "text": [
            "\n",
            "DataFrame:\n"
          ]
        },
        {
          "output_type": "display_data",
          "data": {
            "text/plain": [
              "                                             question                answer  \\\n",
              "0                 What was the total revenue in 2024?           $15 billion   \n",
              "1                   What was the net income for 2023?            $1 billion   \n",
              "2   Calculate the year-over-year growth in revenue...                   25%   \n",
              "3   Compare the gross profit margins for 2023 and ...  2023: 40%, 2024: 45%   \n",
              "4              What was the operating income in 2024?            $3 billion   \n",
              "5   What percentage of revenue did administrative ...                   15%   \n",
              "6   Calculate the earnings before interest and tax...            $2 billion   \n",
              "7   What was the change in operating margin from 2...           5% increase   \n",
              "8            What was the earnings per share in 2024?                 $2.50   \n",
              "9        Determine the debt to equity ratio for 2024.                   0.6   \n",
              "10  What is the total current assets of the compan...            $5,000,000   \n",
              "11  How much did the company's inventory value cha...     $200,000 decrease   \n",
              "12  What is the value of long-term liabilities on ...            $2,800,000   \n",
              "13  Calculate the ratio of current assets to total...                  0.50   \n",
              "14  What percentage did the company's cash positio...                   15%   \n",
              "15  How did the company's total liabilities as a p...      Increased by 10%   \n",
              "16  What was the net increase in shareholder equit...              $500,000   \n",
              "17  Identify the amount by which property, plant, ...            $1,000,000   \n",
              "18  What is the company's total assets at the clos...           $10,000,000   \n",
              "19  Determine the change in total current liabilit...     $300,000 increase   \n",
              "20  What was the total cash flow from operating ac...          $4.5 billion   \n",
              "21  How much did the company spend on capital expe...          $1.2 billion   \n",
              "22  Did the cash flow from financing activities in...             Decreased   \n",
              "23  What is the net change in cash and cash equiva...          $500 million   \n",
              "24  Calculate the free cash flow for the company d...          $3.3 billion   \n",
              "25  What was the cash flow from investments last y...         -$800 million   \n",
              "26  How much cash did the company generate from di...          $300 million   \n",
              "27  What is the percentage change in cash from ope...          10% increase   \n",
              "28  Identify the total dividends paid by the compa...          $600 million   \n",
              "29  What was the impact of exchange rate changes o...  $50 million decrease   \n",
              "\n",
              "                                              context  \n",
              "0   In 2024, the total revenue reported was $15 bi...  \n",
              "1   The net income in 2023 was reported to be $1 b...  \n",
              "2   The revenue in 2023 was $12 billion and in 202...  \n",
              "3   In 2023, the gross profit margin was 40%, and ...  \n",
              "4   The operating income for the year 2024 was $3 ...  \n",
              "5   In 2024, administrative expenses were $2.25 bi...  \n",
              "6   In 2023, the earnings before interest and taxe...  \n",
              "7   The operating margin in 2023 was 30% and in 20...  \n",
              "8   The earnings per share (EPS) in 2024 was repor...  \n",
              "9   In 2024, the total debt was reported as $9 bil...  \n",
              "10  The company's balance sheet as of December 31,...  \n",
              "11  Inventory on December 31, 2023, was $1,500,000...  \n",
              "12  The balance sheet at the end of 2024 records l...  \n",
              "13  As of December 31, 2024, the total assets were...  \n",
              "14  The balance sheet for December 31, 2024, shows...  \n",
              "15  Total liabilities were 30% of total assets at ...  \n",
              "16  Shareholder equity was $4,500,000 at the end o...  \n",
              "17  Property, plant, and equipment stood at $3,000...  \n",
              "18  The total assets on the balance sheet as of De...  \n",
              "19  Total current liabilities were $1,200,000 at t...  \n",
              "20  According to the latest cash flow statement, t...  \n",
              "21  The cash flow statement for the last fiscal ye...  \n",
              "22  The cash flow from financing activities decrea...  \n",
              "23  The cash flow statement reports a net change i...  \n",
              "24  Free cash flow is calculated as cash from oper...  \n",
              "25  Last year, the cash flow from investments was ...  \n",
              "26  The company generated $300 million from divest...  \n",
              "27  Cash from operating activities increased by 10...  \n",
              "28  The cash flow statement indicates that the com...  \n",
              "29  Exchange rate changes resulted in a $50 millio...  "
            ],
            "text/html": [
              "\n",
              "  <div id=\"df-f6c0a281-306e-4bb4-9502-9b94baf8049a\" class=\"colab-df-container\">\n",
              "    <div>\n",
              "<style scoped>\n",
              "    .dataframe tbody tr th:only-of-type {\n",
              "        vertical-align: middle;\n",
              "    }\n",
              "\n",
              "    .dataframe tbody tr th {\n",
              "        vertical-align: top;\n",
              "    }\n",
              "\n",
              "    .dataframe thead th {\n",
              "        text-align: right;\n",
              "    }\n",
              "</style>\n",
              "<table border=\"1\" class=\"dataframe\">\n",
              "  <thead>\n",
              "    <tr style=\"text-align: right;\">\n",
              "      <th></th>\n",
              "      <th>question</th>\n",
              "      <th>answer</th>\n",
              "      <th>context</th>\n",
              "    </tr>\n",
              "  </thead>\n",
              "  <tbody>\n",
              "    <tr>\n",
              "      <th>0</th>\n",
              "      <td>What was the total revenue in 2024?</td>\n",
              "      <td>$15 billion</td>\n",
              "      <td>In 2024, the total revenue reported was $15 bi...</td>\n",
              "    </tr>\n",
              "    <tr>\n",
              "      <th>1</th>\n",
              "      <td>What was the net income for 2023?</td>\n",
              "      <td>$1 billion</td>\n",
              "      <td>The net income in 2023 was reported to be $1 b...</td>\n",
              "    </tr>\n",
              "    <tr>\n",
              "      <th>2</th>\n",
              "      <td>Calculate the year-over-year growth in revenue...</td>\n",
              "      <td>25%</td>\n",
              "      <td>The revenue in 2023 was $12 billion and in 202...</td>\n",
              "    </tr>\n",
              "    <tr>\n",
              "      <th>3</th>\n",
              "      <td>Compare the gross profit margins for 2023 and ...</td>\n",
              "      <td>2023: 40%, 2024: 45%</td>\n",
              "      <td>In 2023, the gross profit margin was 40%, and ...</td>\n",
              "    </tr>\n",
              "    <tr>\n",
              "      <th>4</th>\n",
              "      <td>What was the operating income in 2024?</td>\n",
              "      <td>$3 billion</td>\n",
              "      <td>The operating income for the year 2024 was $3 ...</td>\n",
              "    </tr>\n",
              "    <tr>\n",
              "      <th>5</th>\n",
              "      <td>What percentage of revenue did administrative ...</td>\n",
              "      <td>15%</td>\n",
              "      <td>In 2024, administrative expenses were $2.25 bi...</td>\n",
              "    </tr>\n",
              "    <tr>\n",
              "      <th>6</th>\n",
              "      <td>Calculate the earnings before interest and tax...</td>\n",
              "      <td>$2 billion</td>\n",
              "      <td>In 2023, the earnings before interest and taxe...</td>\n",
              "    </tr>\n",
              "    <tr>\n",
              "      <th>7</th>\n",
              "      <td>What was the change in operating margin from 2...</td>\n",
              "      <td>5% increase</td>\n",
              "      <td>The operating margin in 2023 was 30% and in 20...</td>\n",
              "    </tr>\n",
              "    <tr>\n",
              "      <th>8</th>\n",
              "      <td>What was the earnings per share in 2024?</td>\n",
              "      <td>$2.50</td>\n",
              "      <td>The earnings per share (EPS) in 2024 was repor...</td>\n",
              "    </tr>\n",
              "    <tr>\n",
              "      <th>9</th>\n",
              "      <td>Determine the debt to equity ratio for 2024.</td>\n",
              "      <td>0.6</td>\n",
              "      <td>In 2024, the total debt was reported as $9 bil...</td>\n",
              "    </tr>\n",
              "    <tr>\n",
              "      <th>10</th>\n",
              "      <td>What is the total current assets of the compan...</td>\n",
              "      <td>$5,000,000</td>\n",
              "      <td>The company's balance sheet as of December 31,...</td>\n",
              "    </tr>\n",
              "    <tr>\n",
              "      <th>11</th>\n",
              "      <td>How much did the company's inventory value cha...</td>\n",
              "      <td>$200,000 decrease</td>\n",
              "      <td>Inventory on December 31, 2023, was $1,500,000...</td>\n",
              "    </tr>\n",
              "    <tr>\n",
              "      <th>12</th>\n",
              "      <td>What is the value of long-term liabilities on ...</td>\n",
              "      <td>$2,800,000</td>\n",
              "      <td>The balance sheet at the end of 2024 records l...</td>\n",
              "    </tr>\n",
              "    <tr>\n",
              "      <th>13</th>\n",
              "      <td>Calculate the ratio of current assets to total...</td>\n",
              "      <td>0.50</td>\n",
              "      <td>As of December 31, 2024, the total assets were...</td>\n",
              "    </tr>\n",
              "    <tr>\n",
              "      <th>14</th>\n",
              "      <td>What percentage did the company's cash positio...</td>\n",
              "      <td>15%</td>\n",
              "      <td>The balance sheet for December 31, 2024, shows...</td>\n",
              "    </tr>\n",
              "    <tr>\n",
              "      <th>15</th>\n",
              "      <td>How did the company's total liabilities as a p...</td>\n",
              "      <td>Increased by 10%</td>\n",
              "      <td>Total liabilities were 30% of total assets at ...</td>\n",
              "    </tr>\n",
              "    <tr>\n",
              "      <th>16</th>\n",
              "      <td>What was the net increase in shareholder equit...</td>\n",
              "      <td>$500,000</td>\n",
              "      <td>Shareholder equity was $4,500,000 at the end o...</td>\n",
              "    </tr>\n",
              "    <tr>\n",
              "      <th>17</th>\n",
              "      <td>Identify the amount by which property, plant, ...</td>\n",
              "      <td>$1,000,000</td>\n",
              "      <td>Property, plant, and equipment stood at $3,000...</td>\n",
              "    </tr>\n",
              "    <tr>\n",
              "      <th>18</th>\n",
              "      <td>What is the company's total assets at the clos...</td>\n",
              "      <td>$10,000,000</td>\n",
              "      <td>The total assets on the balance sheet as of De...</td>\n",
              "    </tr>\n",
              "    <tr>\n",
              "      <th>19</th>\n",
              "      <td>Determine the change in total current liabilit...</td>\n",
              "      <td>$300,000 increase</td>\n",
              "      <td>Total current liabilities were $1,200,000 at t...</td>\n",
              "    </tr>\n",
              "    <tr>\n",
              "      <th>20</th>\n",
              "      <td>What was the total cash flow from operating ac...</td>\n",
              "      <td>$4.5 billion</td>\n",
              "      <td>According to the latest cash flow statement, t...</td>\n",
              "    </tr>\n",
              "    <tr>\n",
              "      <th>21</th>\n",
              "      <td>How much did the company spend on capital expe...</td>\n",
              "      <td>$1.2 billion</td>\n",
              "      <td>The cash flow statement for the last fiscal ye...</td>\n",
              "    </tr>\n",
              "    <tr>\n",
              "      <th>22</th>\n",
              "      <td>Did the cash flow from financing activities in...</td>\n",
              "      <td>Decreased</td>\n",
              "      <td>The cash flow from financing activities decrea...</td>\n",
              "    </tr>\n",
              "    <tr>\n",
              "      <th>23</th>\n",
              "      <td>What is the net change in cash and cash equiva...</td>\n",
              "      <td>$500 million</td>\n",
              "      <td>The cash flow statement reports a net change i...</td>\n",
              "    </tr>\n",
              "    <tr>\n",
              "      <th>24</th>\n",
              "      <td>Calculate the free cash flow for the company d...</td>\n",
              "      <td>$3.3 billion</td>\n",
              "      <td>Free cash flow is calculated as cash from oper...</td>\n",
              "    </tr>\n",
              "    <tr>\n",
              "      <th>25</th>\n",
              "      <td>What was the cash flow from investments last y...</td>\n",
              "      <td>-$800 million</td>\n",
              "      <td>Last year, the cash flow from investments was ...</td>\n",
              "    </tr>\n",
              "    <tr>\n",
              "      <th>26</th>\n",
              "      <td>How much cash did the company generate from di...</td>\n",
              "      <td>$300 million</td>\n",
              "      <td>The company generated $300 million from divest...</td>\n",
              "    </tr>\n",
              "    <tr>\n",
              "      <th>27</th>\n",
              "      <td>What is the percentage change in cash from ope...</td>\n",
              "      <td>10% increase</td>\n",
              "      <td>Cash from operating activities increased by 10...</td>\n",
              "    </tr>\n",
              "    <tr>\n",
              "      <th>28</th>\n",
              "      <td>Identify the total dividends paid by the compa...</td>\n",
              "      <td>$600 million</td>\n",
              "      <td>The cash flow statement indicates that the com...</td>\n",
              "    </tr>\n",
              "    <tr>\n",
              "      <th>29</th>\n",
              "      <td>What was the impact of exchange rate changes o...</td>\n",
              "      <td>$50 million decrease</td>\n",
              "      <td>Exchange rate changes resulted in a $50 millio...</td>\n",
              "    </tr>\n",
              "  </tbody>\n",
              "</table>\n",
              "</div>\n",
              "    <div class=\"colab-df-buttons\">\n",
              "\n",
              "  <div class=\"colab-df-container\">\n",
              "    <button class=\"colab-df-convert\" onclick=\"convertToInteractive('df-f6c0a281-306e-4bb4-9502-9b94baf8049a')\"\n",
              "            title=\"Convert this dataframe to an interactive table.\"\n",
              "            style=\"display:none;\">\n",
              "\n",
              "  <svg xmlns=\"http://www.w3.org/2000/svg\" height=\"24px\" viewBox=\"0 -960 960 960\">\n",
              "    <path d=\"M120-120v-720h720v720H120Zm60-500h600v-160H180v160Zm220 220h160v-160H400v160Zm0 220h160v-160H400v160ZM180-400h160v-160H180v160Zm440 0h160v-160H620v160ZM180-180h160v-160H180v160Zm440 0h160v-160H620v160Z\"/>\n",
              "  </svg>\n",
              "    </button>\n",
              "\n",
              "  <style>\n",
              "    .colab-df-container {\n",
              "      display:flex;\n",
              "      gap: 12px;\n",
              "    }\n",
              "\n",
              "    .colab-df-convert {\n",
              "      background-color: #E8F0FE;\n",
              "      border: none;\n",
              "      border-radius: 50%;\n",
              "      cursor: pointer;\n",
              "      display: none;\n",
              "      fill: #1967D2;\n",
              "      height: 32px;\n",
              "      padding: 0 0 0 0;\n",
              "      width: 32px;\n",
              "    }\n",
              "\n",
              "    .colab-df-convert:hover {\n",
              "      background-color: #E2EBFA;\n",
              "      box-shadow: 0px 1px 2px rgba(60, 64, 67, 0.3), 0px 1px 3px 1px rgba(60, 64, 67, 0.15);\n",
              "      fill: #174EA6;\n",
              "    }\n",
              "\n",
              "    .colab-df-buttons div {\n",
              "      margin-bottom: 4px;\n",
              "    }\n",
              "\n",
              "    [theme=dark] .colab-df-convert {\n",
              "      background-color: #3B4455;\n",
              "      fill: #D2E3FC;\n",
              "    }\n",
              "\n",
              "    [theme=dark] .colab-df-convert:hover {\n",
              "      background-color: #434B5C;\n",
              "      box-shadow: 0px 1px 3px 1px rgba(0, 0, 0, 0.15);\n",
              "      filter: drop-shadow(0px 1px 2px rgba(0, 0, 0, 0.3));\n",
              "      fill: #FFFFFF;\n",
              "    }\n",
              "  </style>\n",
              "\n",
              "    <script>\n",
              "      const buttonEl =\n",
              "        document.querySelector('#df-f6c0a281-306e-4bb4-9502-9b94baf8049a button.colab-df-convert');\n",
              "      buttonEl.style.display =\n",
              "        google.colab.kernel.accessAllowed ? 'block' : 'none';\n",
              "\n",
              "      async function convertToInteractive(key) {\n",
              "        const element = document.querySelector('#df-f6c0a281-306e-4bb4-9502-9b94baf8049a');\n",
              "        const dataTable =\n",
              "          await google.colab.kernel.invokeFunction('convertToInteractive',\n",
              "                                                    [key], {});\n",
              "        if (!dataTable) return;\n",
              "\n",
              "        const docLinkHtml = 'Like what you see? Visit the ' +\n",
              "          '<a target=\"_blank\" href=https://colab.research.google.com/notebooks/data_table.ipynb>data table notebook</a>'\n",
              "          + ' to learn more about interactive tables.';\n",
              "        element.innerHTML = '';\n",
              "        dataTable['output_type'] = 'display_data';\n",
              "        await google.colab.output.renderOutput(dataTable, element);\n",
              "        const docLink = document.createElement('div');\n",
              "        docLink.innerHTML = docLinkHtml;\n",
              "        element.appendChild(docLink);\n",
              "      }\n",
              "    </script>\n",
              "  </div>\n",
              "\n",
              "\n",
              "<div id=\"df-f0656b74-f463-41b3-a890-42e9f9a9c5cd\">\n",
              "  <button class=\"colab-df-quickchart\" onclick=\"quickchart('df-f0656b74-f463-41b3-a890-42e9f9a9c5cd')\"\n",
              "            title=\"Suggest charts\"\n",
              "            style=\"display:none;\">\n",
              "\n",
              "<svg xmlns=\"http://www.w3.org/2000/svg\" height=\"24px\"viewBox=\"0 0 24 24\"\n",
              "     width=\"24px\">\n",
              "    <g>\n",
              "        <path d=\"M19 3H5c-1.1 0-2 .9-2 2v14c0 1.1.9 2 2 2h14c1.1 0 2-.9 2-2V5c0-1.1-.9-2-2-2zM9 17H7v-7h2v7zm4 0h-2V7h2v10zm4 0h-2v-4h2v4z\"/>\n",
              "    </g>\n",
              "</svg>\n",
              "  </button>\n",
              "\n",
              "<style>\n",
              "  .colab-df-quickchart {\n",
              "      --bg-color: #E8F0FE;\n",
              "      --fill-color: #1967D2;\n",
              "      --hover-bg-color: #E2EBFA;\n",
              "      --hover-fill-color: #174EA6;\n",
              "      --disabled-fill-color: #AAA;\n",
              "      --disabled-bg-color: #DDD;\n",
              "  }\n",
              "\n",
              "  [theme=dark] .colab-df-quickchart {\n",
              "      --bg-color: #3B4455;\n",
              "      --fill-color: #D2E3FC;\n",
              "      --hover-bg-color: #434B5C;\n",
              "      --hover-fill-color: #FFFFFF;\n",
              "      --disabled-bg-color: #3B4455;\n",
              "      --disabled-fill-color: #666;\n",
              "  }\n",
              "\n",
              "  .colab-df-quickchart {\n",
              "    background-color: var(--bg-color);\n",
              "    border: none;\n",
              "    border-radius: 50%;\n",
              "    cursor: pointer;\n",
              "    display: none;\n",
              "    fill: var(--fill-color);\n",
              "    height: 32px;\n",
              "    padding: 0;\n",
              "    width: 32px;\n",
              "  }\n",
              "\n",
              "  .colab-df-quickchart:hover {\n",
              "    background-color: var(--hover-bg-color);\n",
              "    box-shadow: 0 1px 2px rgba(60, 64, 67, 0.3), 0 1px 3px 1px rgba(60, 64, 67, 0.15);\n",
              "    fill: var(--button-hover-fill-color);\n",
              "  }\n",
              "\n",
              "  .colab-df-quickchart-complete:disabled,\n",
              "  .colab-df-quickchart-complete:disabled:hover {\n",
              "    background-color: var(--disabled-bg-color);\n",
              "    fill: var(--disabled-fill-color);\n",
              "    box-shadow: none;\n",
              "  }\n",
              "\n",
              "  .colab-df-spinner {\n",
              "    border: 2px solid var(--fill-color);\n",
              "    border-color: transparent;\n",
              "    border-bottom-color: var(--fill-color);\n",
              "    animation:\n",
              "      spin 1s steps(1) infinite;\n",
              "  }\n",
              "\n",
              "  @keyframes spin {\n",
              "    0% {\n",
              "      border-color: transparent;\n",
              "      border-bottom-color: var(--fill-color);\n",
              "      border-left-color: var(--fill-color);\n",
              "    }\n",
              "    20% {\n",
              "      border-color: transparent;\n",
              "      border-left-color: var(--fill-color);\n",
              "      border-top-color: var(--fill-color);\n",
              "    }\n",
              "    30% {\n",
              "      border-color: transparent;\n",
              "      border-left-color: var(--fill-color);\n",
              "      border-top-color: var(--fill-color);\n",
              "      border-right-color: var(--fill-color);\n",
              "    }\n",
              "    40% {\n",
              "      border-color: transparent;\n",
              "      border-right-color: var(--fill-color);\n",
              "      border-top-color: var(--fill-color);\n",
              "    }\n",
              "    60% {\n",
              "      border-color: transparent;\n",
              "      border-right-color: var(--fill-color);\n",
              "    }\n",
              "    80% {\n",
              "      border-color: transparent;\n",
              "      border-right-color: var(--fill-color);\n",
              "      border-bottom-color: var(--fill-color);\n",
              "    }\n",
              "    90% {\n",
              "      border-color: transparent;\n",
              "      border-bottom-color: var(--fill-color);\n",
              "    }\n",
              "  }\n",
              "</style>\n",
              "\n",
              "  <script>\n",
              "    async function quickchart(key) {\n",
              "      const quickchartButtonEl =\n",
              "        document.querySelector('#' + key + ' button');\n",
              "      quickchartButtonEl.disabled = true;  // To prevent multiple clicks.\n",
              "      quickchartButtonEl.classList.add('colab-df-spinner');\n",
              "      try {\n",
              "        const charts = await google.colab.kernel.invokeFunction(\n",
              "            'suggestCharts', [key], {});\n",
              "      } catch (error) {\n",
              "        console.error('Error during call to suggestCharts:', error);\n",
              "      }\n",
              "      quickchartButtonEl.classList.remove('colab-df-spinner');\n",
              "      quickchartButtonEl.classList.add('colab-df-quickchart-complete');\n",
              "    }\n",
              "    (() => {\n",
              "      let quickchartButtonEl =\n",
              "        document.querySelector('#df-f0656b74-f463-41b3-a890-42e9f9a9c5cd button');\n",
              "      quickchartButtonEl.style.display =\n",
              "        google.colab.kernel.accessAllowed ? 'block' : 'none';\n",
              "    })();\n",
              "  </script>\n",
              "</div>\n",
              "\n",
              "  <div id=\"id_55429507-9830-4f24-a5ad-e9bbb67aef72\">\n",
              "    <style>\n",
              "      .colab-df-generate {\n",
              "        background-color: #E8F0FE;\n",
              "        border: none;\n",
              "        border-radius: 50%;\n",
              "        cursor: pointer;\n",
              "        display: none;\n",
              "        fill: #1967D2;\n",
              "        height: 32px;\n",
              "        padding: 0 0 0 0;\n",
              "        width: 32px;\n",
              "      }\n",
              "\n",
              "      .colab-df-generate:hover {\n",
              "        background-color: #E2EBFA;\n",
              "        box-shadow: 0px 1px 2px rgba(60, 64, 67, 0.3), 0px 1px 3px 1px rgba(60, 64, 67, 0.15);\n",
              "        fill: #174EA6;\n",
              "      }\n",
              "\n",
              "      [theme=dark] .colab-df-generate {\n",
              "        background-color: #3B4455;\n",
              "        fill: #D2E3FC;\n",
              "      }\n",
              "\n",
              "      [theme=dark] .colab-df-generate:hover {\n",
              "        background-color: #434B5C;\n",
              "        box-shadow: 0px 1px 3px 1px rgba(0, 0, 0, 0.15);\n",
              "        filter: drop-shadow(0px 1px 2px rgba(0, 0, 0, 0.3));\n",
              "        fill: #FFFFFF;\n",
              "      }\n",
              "    </style>\n",
              "    <button class=\"colab-df-generate\" onclick=\"generateWithVariable('df')\"\n",
              "            title=\"Generate code using this dataframe.\"\n",
              "            style=\"display:none;\">\n",
              "\n",
              "  <svg xmlns=\"http://www.w3.org/2000/svg\" height=\"24px\"viewBox=\"0 0 24 24\"\n",
              "       width=\"24px\">\n",
              "    <path d=\"M7,19H8.4L18.45,9,17,7.55,7,17.6ZM5,21V16.75L18.45,3.32a2,2,0,0,1,2.83,0l1.4,1.43a1.91,1.91,0,0,1,.58,1.4,1.91,1.91,0,0,1-.58,1.4L9.25,21ZM18.45,9,17,7.55Zm-12,3A5.31,5.31,0,0,0,4.9,8.1,5.31,5.31,0,0,0,1,6.5,5.31,5.31,0,0,0,4.9,4.9,5.31,5.31,0,0,0,6.5,1,5.31,5.31,0,0,0,8.1,4.9,5.31,5.31,0,0,0,12,6.5,5.46,5.46,0,0,0,6.5,12Z\"/>\n",
              "  </svg>\n",
              "    </button>\n",
              "    <script>\n",
              "      (() => {\n",
              "      const buttonEl =\n",
              "        document.querySelector('#id_55429507-9830-4f24-a5ad-e9bbb67aef72 button.colab-df-generate');\n",
              "      buttonEl.style.display =\n",
              "        google.colab.kernel.accessAllowed ? 'block' : 'none';\n",
              "\n",
              "      buttonEl.onclick = () => {\n",
              "        google.colab.notebook.generateWithVariable('df');\n",
              "      }\n",
              "      })();\n",
              "    </script>\n",
              "  </div>\n",
              "\n",
              "    </div>\n",
              "  </div>\n"
            ],
            "application/vnd.google.colaboratory.intrinsic+json": {
              "type": "dataframe",
              "variable_name": "df",
              "summary": "{\n  \"name\": \"df\",\n  \"rows\": 30,\n  \"fields\": [\n    {\n      \"column\": \"question\",\n      \"properties\": {\n        \"dtype\": \"string\",\n        \"num_unique_values\": 30,\n        \"samples\": [\n          \"What is the percentage change in cash from operating activities from the previous year to this year?\",\n          \"How did the company's total liabilities as a percentage of total assets change from 2023 to 2024?\",\n          \"What is the net change in cash and cash equivalents at the end of the period?\"\n        ],\n        \"semantic_type\": \"\",\n        \"description\": \"\"\n      }\n    },\n    {\n      \"column\": \"answer\",\n      \"properties\": {\n        \"dtype\": \"string\",\n        \"num_unique_values\": 29,\n        \"samples\": [\n          \"$600 million\",\n          \"$1,000,000\",\n          \"$2,800,000\"\n        ],\n        \"semantic_type\": \"\",\n        \"description\": \"\"\n      }\n    },\n    {\n      \"column\": \"context\",\n      \"properties\": {\n        \"dtype\": \"string\",\n        \"num_unique_values\": 30,\n        \"samples\": [\n          \"Cash from operating activities increased by 10% this year, growing from $4.1 billion to $4.5 billion.\",\n          \"Total liabilities were 30% of total assets at the end of 2023 and increased to 40% at the end of 2024.\",\n          \"The cash flow statement reports a net change in cash and cash equivalents of $500 million at the end of the period.\"\n        ],\n        \"semantic_type\": \"\",\n        \"description\": \"\"\n      }\n    }\n  ]\n}"
            }
          },
          "metadata": {}
        }
      ]
    },
    {
      "cell_type": "code",
      "source": [],
      "metadata": {
        "id": "N9sg6fXw0dd-"
      },
      "execution_count": null,
      "outputs": []
    }
  ]
}