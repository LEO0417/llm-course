{
  "cells": [
    {
      "cell_type": "markdown",
      "metadata": {
        "id": "t1dXuGpdoqYZ"
      },
      "source": [
        "# Build a more capable LLM powered chatbot using LangGraph and web search tool\n",
        "In this first tutorial of how to use LangGraph, we will build a more capable LLM powered chatbot using LangGraph and web search tool, to find relevant information and provide better responses to users, without being limited to data used for training the llm."
      ]
    },
    {
      "cell_type": "markdown",
      "metadata": {
        "id": "CV5hO0gJoqYa"
      },
      "source": [
        "# Summary\n",
        "- Installations\n",
        "- Setting environment variables\n",
        "- Importing necessary packages\n",
        "- Creating our chatbot using LangGraph to answer questions"
      ]
    },
    {
      "cell_type": "markdown",
      "metadata": {
        "id": "J8G3GedvoqYa"
      },
      "source": [
        "# Installations"
      ]
    },
    {
      "cell_type": "code",
      "execution_count": null,
      "metadata": {
        "id": "8h5zJzRQoqYb"
      },
      "outputs": [],
      "source": [
        "pip install -U langgraph langchain_openai langchain-community tavily-python"
      ]
    },
    {
      "cell_type": "markdown",
      "metadata": {
        "id": "Nw5bfIYSoqYb"
      },
      "source": [
        "# Set environment variables"
      ]
    },
    {
      "cell_type": "code",
      "execution_count": null,
      "metadata": {
        "id": "m4w6wsmtoqYb"
      },
      "outputs": [],
      "source": [
        "import os\n",
        "os.environ[\"OPENAI_API_KEY\"] = \"\"\n",
        "os.environ[\"TAVILY_API_KEY\"] = \"\""
      ]
    },
    {
      "cell_type": "markdown",
      "metadata": {
        "id": "UNFR1jSUoqYb"
      },
      "source": [
        "# Import necessary packages"
      ]
    },
    {
      "cell_type": "code",
      "execution_count": null,
      "metadata": {
        "id": "Qi53ZadooqYb"
      },
      "outputs": [],
      "source": [
        "from typing import Annotated\n",
        "from typing_extensions import TypedDict\n",
        "\n",
        "from langgraph.graph import StateGraph, START, END\n",
        "from langgraph.graph.message import add_messages\n",
        "\n",
        "from langchain_community.tools.tavily_search import TavilySearchResults"
      ]
    },
    {
      "cell_type": "markdown",
      "metadata": {
        "id": "Y-xSB0xboqYc"
      },
      "source": [
        "# Define and use tavily search tool"
      ]
    },
    {
      "cell_type": "code",
      "execution_count": null,
      "metadata": {
        "id": "pHjgftjWoqYc",
        "outputId": "56c3daf4-8401-47fe-d796-08072d7835ac"
      },
      "outputs": [
        {
          "data": {
            "text/plain": [
              "[{'url': 'https://langchain-ai.github.io/langgraph/concepts/low_level/',\n",
              "  'content': 'Nodes¶ In LangGraph, nodes are typically python functions (sync or async) where the first positional argument is the state, and (optionally), the second positional argument is a \"config\", containing optional configurable parameters (such as a thread_id). Similar to NetworkX, you add these nodes to a graph using the add_node method:'},\n",
              " {'url': 'https://medium.com/@kbdhunga/beginners-guide-to-langgraph-understanding-state-nodes-and-edges-part-1-897e6114fa48',\n",
              "  'content': 'Each node in a LangGraph graph has the ability to access, read, and write to the state. When a node modifies the state, it effectively broadcasts this information to all other nodes within the graph .'}]"
            ]
          },
          "execution_count": 4,
          "metadata": {},
          "output_type": "execute_result"
        }
      ],
      "source": [
        "tool = TavilySearchResults(max_results=2)\n",
        "tools = [tool]\n",
        "tool.invoke(\"What's a 'node' in LangGraph?\")"
      ]
    },
    {
      "cell_type": "markdown",
      "metadata": {
        "id": "nBNUr4wXoqYc"
      },
      "source": [
        "The results are page summaries our chat bot can use to answer questions."
      ]
    },
    {
      "cell_type": "markdown",
      "metadata": {
        "id": "hJQxO9PuoqYc"
      },
      "source": [
        "# Create a `StateGraph`\n",
        "\n",
        "The first thing you do when you define a graph is define the `State` of the graph using the `StateGraph` object.\n",
        "\n",
        "A `StateGraph` object defines the structure of our chatbot as a \"state machine\".\n",
        "\n",
        "The `State` consists of the schema of the graph as well as reducer functions which specify how to apply updates to the state.\n",
        "\n",
        "In our example `State` is a `TypedDict` with a single key: `messages`.\n",
        "\n",
        "The `messages` key is annotated with the `add_messages` reducer function, which tells `LangGraph` to append new messages to the existing list, rather than overwriting it.\n",
        "\n",
        "`State` keys without an annotation will be overwritten by each update, storing the most recent value."
      ]
    },
    {
      "cell_type": "code",
      "execution_count": null,
      "metadata": {
        "id": "cKgJytxzoqYc"
      },
      "outputs": [],
      "source": [
        "class State(TypedDict):\n",
        "    # Messages have the type \"list\". The `add_messages` function\n",
        "    # in the annotation defines how this state key should be updated\n",
        "    # (in this case, it appends messages to the list, rather than overwriting them)\n",
        "    messages: Annotated[list, add_messages]\n",
        "\n",
        "\n",
        "graph_builder = StateGraph(State)"
      ]
    },
    {
      "cell_type": "markdown",
      "metadata": {
        "id": "X5DlqFmKoqYd"
      },
      "source": [
        "So now our graph knows two things:\n",
        "\n",
        "- Every `node` we define will receive the current `State` as input and return a value that updates that state.\n",
        "\n",
        "- `messages` will be appended to the current list, rather than directly overwritten. This is communicated via the prebuilt `add_messages` function in the `Annotated` syntax."
      ]
    },
    {
      "cell_type": "markdown",
      "metadata": {
        "id": "NQZj09lhoqYd"
      },
      "source": [
        "Next, add a `chatbot` node. Nodes represent units of work. They are typically regular python functions."
      ]
    },
    {
      "cell_type": "code",
      "execution_count": null,
      "metadata": {
        "id": "tmfBuZ4BoqYd"
      },
      "outputs": [],
      "source": [
        "from langchain_openai import ChatOpenAI\n",
        "\n",
        "llm = ChatOpenAI(model=\"gpt-4o\")\n",
        "\n",
        "# Modification: tell the LLM which tools it can call\n",
        "llm_with_tools = llm.bind_tools(tools)\n",
        "\n",
        "\n",
        "def chatbot(state: State):\n",
        "    return {\"messages\": [llm_with_tools.invoke(state[\"messages\"])]}\n",
        "\n",
        "\n",
        "# The first argument is the unique node name\n",
        "# The second argument is the function or object that will be called whenever\n",
        "# the node is used.\n",
        "graph_builder.add_node(\"chatbot\", chatbot)"
      ]
    },
    {
      "cell_type": "markdown",
      "metadata": {
        "id": "-LXmN-qPoqYd"
      },
      "source": [
        "Notice how the `chatbot` node function takes the current `State` as input and returns a dictionary containing an updated `messages` list under the key `messages`. This is the basic pattern for all `LangGraph` node functions.\n",
        "\n",
        "The `add_messages` function in our `State` will append the llm's response messages to whatever messages are already in the state.\n",
        "\n"
      ]
    },
    {
      "cell_type": "markdown",
      "metadata": {
        "id": "HCwUModuoqYd"
      },
      "source": [
        "Next we need to create a function to actually run the tools if they are called. We'll do this by adding the tools to a new node.\n",
        "\n",
        "In this cell, we implement a BasicToolNode that checks the most recent message in the state and calls tools if the message contains tool_calls. It relies on the LLM's tool_calling support, which is available in Anthropic, OpenAI, Google Gemini, and a number of other LLM providers."
      ]
    },
    {
      "cell_type": "code",
      "execution_count": null,
      "metadata": {
        "id": "sSv-kytjoqYd"
      },
      "outputs": [],
      "source": [
        "import json\n",
        "\n",
        "from langchain_core.messages import ToolMessage\n",
        "\n",
        "\n",
        "class BasicToolNode:\n",
        "    \"\"\"A node that runs the tools requested in the last AIMessage.\"\"\"\n",
        "\n",
        "    def __init__(self, tools: list) -> None:\n",
        "        self.tools_by_name = {tool.name: tool for tool in tools}\n",
        "\n",
        "    def __call__(self, inputs: dict):\n",
        "        if messages := inputs.get(\"messages\", []):\n",
        "            message = messages[-1]\n",
        "        else:\n",
        "            raise ValueError(\"No message found in input\")\n",
        "        outputs = []\n",
        "        for tool_call in message.tool_calls:\n",
        "            tool_result = self.tools_by_name[tool_call[\"name\"]].invoke(\n",
        "                tool_call[\"args\"]\n",
        "            )\n",
        "            outputs.append(\n",
        "                ToolMessage(\n",
        "                    content=json.dumps(tool_result),\n",
        "                    name=tool_call[\"name\"],\n",
        "                    tool_call_id=tool_call[\"id\"],\n",
        "                )\n",
        "            )\n",
        "        return {\"messages\": outputs}\n",
        "\n",
        "\n",
        "tool_node = BasicToolNode(tools=[tool])\n",
        "graph_builder.add_node(\"tools\", tool_node)"
      ]
    },
    {
      "cell_type": "markdown",
      "metadata": {
        "id": "1UdvnFvroqYd"
      },
      "source": [
        "Now in the next cell we'll use conditional edges using `if` statement, to route to different nodes depending on the current graph state.\n",
        "\n",
        "In our case, the condition either route to `tools` if tool calls are present or to `__end__` if not.\n",
        "When the graph transitions to `__end__`, it has no more tasks to complete and ceases execution.\n",
        "\n",
        "So the function `root_tools` receives the current graph `state` and returns a string or a list of strings indicating which node or nodes to call next.\n",
        "This is done by checking the tool_calls in the chatbot's output.\n",
        "Again this will will be replaced by a prebuilt `tools_condition` function later.\n",
        "\n",
        "After that, we add the function to the graph using `add_conditional_edges`\n",
        "\n",
        "Finally, we add tools-chatbot and start-chatbot edges to the graph\n",
        "\n",
        "it's to be noticed guys that as the condition can return `__end__`, we don't need to explicitly set a finish_point this time. Our graph already has a way to finish!"
      ]
    },
    {
      "cell_type": "code",
      "execution_count": null,
      "metadata": {
        "id": "gz9uNToNoqYd"
      },
      "outputs": [],
      "source": [
        "from typing import Literal\n",
        "\n",
        "\n",
        "def route_tools(\n",
        "    state: State,\n",
        ") -> Literal[\"tools\", \"__end__\"]:\n",
        "    \"\"\"\n",
        "    Use in the conditional_edge to route to the ToolNode if the last message\n",
        "    has tool calls. Otherwise, route to the end.\n",
        "    \"\"\"\n",
        "    if isinstance(state, list):\n",
        "        ai_message = state[-1]\n",
        "    elif messages := state.get(\"messages\", []):\n",
        "        ai_message = messages[-1]\n",
        "    else:\n",
        "        raise ValueError(f\"No messages found in input state to tool_edge: {state}\")\n",
        "    if hasattr(ai_message, \"tool_calls\") and len(ai_message.tool_calls) > 0:\n",
        "        return \"tools\"\n",
        "    return \"__end__\"\n",
        "\n",
        "\n",
        "# The `tools_condition` function returns \"tools\" if the chatbot asks to use a tool, and \"__end__\" if\n",
        "# it is fine directly responding. This conditional routing defines the main agent loop.\n",
        "graph_builder.add_conditional_edges(\n",
        "    \"chatbot\",\n",
        "    route_tools,\n",
        "    # The following dictionary lets you tell the graph to interpret the condition's outputs as a specific node\n",
        "    # It defaults to the identity function, but if you\n",
        "    # want to use a node named something else apart from \"tools\",\n",
        "    # You can update the value of the dictionary to something else\n",
        "    # e.g., \"tools\": \"my_tools\"\n",
        "    {\"tools\": \"tools\", \"__end__\": \"__end__\"},\n",
        ")\n",
        "# Any time a tool is called, we return to the chatbot to decide the next step\n",
        "graph_builder.add_edge(\"tools\", \"chatbot\")\n",
        "graph_builder.add_edge(START, \"chatbot\")\n",
        "graph = graph_builder.compile()"
      ]
    },
    {
      "cell_type": "markdown",
      "metadata": {
        "id": "EgkWOOaLoqYd"
      },
      "source": [
        "Let's visualize the graph we've built now using the `get_graph` method"
      ]
    },
    {
      "cell_type": "code",
      "execution_count": null,
      "metadata": {
        "id": "7d-tvNkaoqYd",
        "outputId": "4181dde7-62b4-46c9-d995-59cac9784c83"
      },
      "outputs": [
        {
          "data": {
            "image/jpeg": "[encoded data removed]",
            "text/plain": [
              "<IPython.core.display.Image object>"
            ]
          },
          "metadata": {},
          "output_type": "display_data"
        }
      ],
      "source": [
        "from IPython.display import Image, display\n",
        "\n",
        "try:\n",
        "    display(Image(graph.get_graph().draw_mermaid_png()))\n",
        "except Exception:\n",
        "    # This requires some extra dependencies and is optional\n",
        "    pass"
      ]
    },
    {
      "cell_type": "markdown",
      "metadata": {
        "id": "driCSKfhoqYd"
      },
      "source": [
        "Now we can ask the bot questions outside its training data."
      ]
    },
    {
      "cell_type": "code",
      "execution_count": null,
      "metadata": {
        "id": "ABoFtsHpoqYe",
        "outputId": "8a2a44d2-98e7-46a0-8ba6-ba78456bc600"
      },
      "outputs": [
        {
          "name": "stdout",
          "output_type": "stream",
          "text": [
            "Assistant: \n",
            "Assistant: [{\"url\": \"https://www.langchain.com/langgraph\", \"content\": \"LangGraph - LangChain ... LangGraph\"}, {\"url\": \"https://blog.langchain.dev/langgraph-cloud/\", \"content\": \"Announcing LangGraph v0.1 & LangGraph Cloud: Running ...\"}]\n",
            "Assistant: LangGraph appears to be associated with LangChain, a company focused on developing tools and infrastructure for working with language models. Here are some insights based on the search results:\n",
            "\n",
            "1. **LangGraph**: It is likely a product or service offered by LangChain. The specifics about what LangGraph does weren't detailed in the search snippets, but it could involve tools or frameworks for working with language models.\n",
            "\n",
            "2. **LangGraph Cloud**: This seems to be a cloud-based offering, possibly a platform to run and manage language models or related applications more efficiently.\n",
            "\n",
            "To get more detailed information, you can visit:\n",
            "- [LangGraph on LangChain's website](https://www.langchain.com/langgraph)\n",
            "- [Announcement of LangGraph v0.1 & LangGraph Cloud](https://blog.langchain.dev/langgraph-cloud/)\n",
            "Assistant: Hello! How can I assist you today?\n"
          ]
        }
      ],
      "source": [
        "from langchain_core.messages import BaseMessage\n",
        "\n",
        "while True:\n",
        "    user_input = input(\"User: \")\n",
        "    if user_input.lower() in [\"quit\", \"exit\", \"q\"]:\n",
        "        print(\"Goodbye!\")\n",
        "        break\n",
        "    for event in graph.stream({\"messages\": [(\"user\", user_input)]}):\n",
        "        for value in event.values():\n",
        "            if isinstance(value[\"messages\"][-1], BaseMessage):\n",
        "                print(\"Assistant:\", value[\"messages\"][-1].content)"
      ]
    },
    {
      "cell_type": "markdown",
      "metadata": {
        "id": "SekmelDgoqYe"
      },
      "source": [
        "# Congratulations\n",
        "\n",
        "Congrats guys! You've created a conversational agent in langgraph that can use a search engine to retrieve updated information when needed. Now it can handle a wider range of user queries. To inspect all the steps your agent just took, check out this LangSmith trace. Let me know if you need a video on this.\n",
        "\n",
        "Now the problem here is that our chatbot still can't remember past interactions on its own, limiting its ability to have coherent, multi-turn conversations. In the next part, we'll add memory to address this."
      ]
    },
    {
      "cell_type": "markdown",
      "metadata": {
        "id": "uzRcXvVEoqYe"
      },
      "source": [
        "# Sources\n",
        "https://langchain-ai.github.io/langgraph/tutorials/introduction/#part-1-build-a-basic-chatbot"
      ]
    }
  ],
  "metadata": {
    "kernelspec": {
      "display_name": "mistral_n",
      "language": "python",
      "name": "python3"
    },
    "language_info": {
      "codemirror_mode": {
        "name": "ipython",
        "version": 3
      },
      "file_extension": ".py",
      "mimetype": "text/x-python",
      "name": "python",
      "nbconvert_exporter": "python",
      "pygments_lexer": "ipython3",
      "version": "3.10.14"
    },
    "colab": {
      "provenance": []
    }
  },
  "nbformat": 4,
  "nbformat_minor": 0
}