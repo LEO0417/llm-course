{
  "nbformat": 4,
  "nbformat_minor": 0,
  "metadata": {
    "colab": {
      "provenance": []
    },
    "kernelspec": {
      "name": "python3",
      "display_name": "Python 3"
    },
    "language_info": {
      "name": "python"
    }
  },
  "cells": [
    {
      "cell_type": "code",
      "execution_count": null,
      "metadata": {
        "id": "R2Zm8HGgT2xI",
        "colab": {
          "base_uri": "https://localhost:8080/"
        },
        "outputId": "37601425-d7fc-4613-f50d-67e3bb28c32b"
      },
      "outputs": [
        {
          "output_type": "stream",
          "name": "stdout",
          "text": [
            "  Preparing metadata (setup.py) ... \u001b[?25l\u001b[?25hdone\n",
            "\u001b[2K     \u001b[90m━━━━━━━━━━━━━━━━━━━━━━━━━━━━━━━━━━━━━━━━\u001b[0m \u001b[32m7.4/7.4 MB\u001b[0m \u001b[31m13.7 MB/s\u001b[0m eta \u001b[36m0:00:00\u001b[0m\n",
            "\u001b[?25h  Preparing metadata (setup.py) ... \u001b[?25l\u001b[?25hdone\n",
            "  Preparing metadata (setup.py) ... \u001b[?25l\u001b[?25hdone\n",
            "  Preparing metadata (setup.py) ... \u001b[?25l\u001b[?25hdone\n",
            "\u001b[2K   \u001b[90m━━━━━━━━━━━━━━━━━━━━━━━━━━━━━━━━━━━━━━━━\u001b[0m \u001b[32m361.3/361.3 kB\u001b[0m \u001b[31m9.9 MB/s\u001b[0m eta \u001b[36m0:00:00\u001b[0m\n",
            "\u001b[2K   \u001b[90m━━━━━━━━━━━━━━━━━━━━━━━━━━━━━━━━━━━━━━━━\u001b[0m \u001b[32m211.1/211.1 kB\u001b[0m \u001b[31m7.6 MB/s\u001b[0m eta \u001b[36m0:00:00\u001b[0m\n",
            "\u001b[2K   \u001b[90m━━━━━━━━━━━━━━━━━━━━━━━━━━━━━━━━━━━━━━━━\u001b[0m \u001b[32m81.3/81.3 kB\u001b[0m \u001b[31m3.1 MB/s\u001b[0m eta \u001b[36m0:00:00\u001b[0m\n",
            "\u001b[2K   \u001b[90m━━━━━━━━━━━━━━━━━━━━━━━━━━━━━━━━━━━━━━━━\u001b[0m \u001b[32m75.6/75.6 kB\u001b[0m \u001b[31m4.0 MB/s\u001b[0m eta \u001b[36m0:00:00\u001b[0m\n",
            "\u001b[2K   \u001b[90m━━━━━━━━━━━━━━━━━━━━━━━━━━━━━━━━━━━━━━━━\u001b[0m \u001b[32m77.9/77.9 kB\u001b[0m \u001b[31m2.5 MB/s\u001b[0m eta \u001b[36m0:00:00\u001b[0m\n",
            "\u001b[2K   \u001b[90m━━━━━━━━━━━━━━━━━━━━━━━━━━━━━━━━━━━━━━━━\u001b[0m \u001b[32m318.9/318.9 kB\u001b[0m \u001b[31m10.3 MB/s\u001b[0m eta \u001b[36m0:00:00\u001b[0m\n",
            "\u001b[2K   \u001b[90m━━━━━━━━━━━━━━━━━━━━━━━━━━━━━━━━━━━━━━━━\u001b[0m \u001b[32m97.6/97.6 kB\u001b[0m \u001b[31m3.8 MB/s\u001b[0m eta \u001b[36m0:00:00\u001b[0m\n",
            "\u001b[2K   \u001b[90m━━━━━━━━━━━━━━━━━━━━━━━━━━━━━━━━━━━━━━━━\u001b[0m \u001b[32m58.3/58.3 kB\u001b[0m \u001b[31m2.4 MB/s\u001b[0m eta \u001b[36m0:00:00\u001b[0m\n",
            "\u001b[?25h  Building wheel for tinysegmenter (setup.py) ... \u001b[?25l\u001b[?25hdone\n",
            "  Building wheel for feedfinder2 (setup.py) ... \u001b[?25l\u001b[?25hdone\n",
            "  Building wheel for jieba3k (setup.py) ... \u001b[?25l\u001b[?25hdone\n",
            "  Building wheel for sgmllib3k (setup.py) ... \u001b[?25l\u001b[?25hdone\n"
          ]
        }
      ],
      "source": [
        "!pip -q install openai newspaper3k"
      ]
    },
    {
      "cell_type": "code",
      "source": [
        "import os\n",
        "import openai\n",
        "from google.colab import userdata\n",
        "\n",
        "\n",
        "os.environ[\"OPENAI_API_KEY\"] = userdata.get('OPENAI_API_KEY')\n"
      ],
      "metadata": {
        "id": "xEhpYTvbUdXZ"
      },
      "execution_count": null,
      "outputs": []
    },
    {
      "cell_type": "code",
      "source": [
        "from enum import Enum\n",
        "from typing import Union\n",
        "\n",
        "from pydantic import BaseModel\n",
        "\n",
        "import openai\n",
        "from openai import OpenAI"
      ],
      "metadata": {
        "id": "CjlqCMiVd1oO"
      },
      "execution_count": null,
      "outputs": []
    },
    {
      "cell_type": "markdown",
      "source": [
        "## Article getter"
      ],
      "metadata": {
        "id": "_zgSvArNb51i"
      }
    },
    {
      "cell_type": "code",
      "source": [
        "import newspaper\n",
        "\n",
        "def download_article(url):\n",
        "    # Create an Article object\n",
        "    article = newspaper.Article(url)\n",
        "\n",
        "    # Download and parse the article\n",
        "    article.download()\n",
        "    article.parse()\n",
        "\n",
        "    # Get the article text\n",
        "    article_text = article.text\n",
        "\n",
        "    return article_text\n"
      ],
      "metadata": {
        "id": "wbFz4SsBb8US"
      },
      "execution_count": null,
      "outputs": []
    },
    {
      "cell_type": "code",
      "source": [
        "\n",
        "url = \"https://techcrunch.com/2024/08/13/made-by-google-2024-a-few-ai-features-you-mightve-missed/\"\n",
        "article = download_article(url)\n",
        "\n",
        "# Now, 'content' contains the text of the article\n",
        "print(\"Article content:\")\n",
        "print(article[:500] + \"...\")"
      ],
      "metadata": {
        "colab": {
          "base_uri": "https://localhost:8080/"
        },
        "id": "L54lvwVAcCFc",
        "outputId": "762efee8-3ed0-44af-8370-287cba3e580a"
      },
      "execution_count": null,
      "outputs": [
        {
          "output_type": "stream",
          "name": "stdout",
          "text": [
            "Article content:\n",
            "Google’s annual Made by Google hardware event was held earlier Tuesday, and because the company announced so much stuff, a lot got lost in the shuffle. We rounded up some of the more intriguing AI-related announcements that didn’t get a ton of play, like the image-generating Pixel Studio and Pixel Screenshots, which helps save and organize info in screenshots.\n",
            "\n",
            "Call Notes summarizes your conversations\n",
            "\n",
            "For short-term-memory-challenged folks like this writer, Call Notes could be a useful feature....\n"
          ]
        }
      ]
    },
    {
      "cell_type": "markdown",
      "source": [
        "### Setting up the Pydantic model"
      ],
      "metadata": {
        "id": "ojNQUOuKVuLc"
      }
    },
    {
      "cell_type": "code",
      "source": [
        "from enum import Enum\n",
        "from pydantic import BaseModel\n",
        "\n",
        "class ProductType(str, Enum):\n",
        "    \"\"\"\n",
        "    Enumeration of product types.\n",
        "\n",
        "    This enum represents different categories of products that can be referenced.\n",
        "    \"\"\"\n",
        "    device = \"device\"\n",
        "    app = \"app\"\n",
        "    ft = \"fintech\"\n",
        "    saas = \"saas\"\n",
        "    consumer_tech = \"consumer_tech\"\n",
        "\n",
        "class OrgType(str, Enum):\n",
        "    \"\"\"\n",
        "    Enumeration of product types.\n",
        "\n",
        "    This enum represents different categories of products that can be referenced.\n",
        "    \"\"\"\n",
        "    startup = \"startup\"\n",
        "    big_tech = \"big_tech\"\n",
        "    tech_media = \"tech_media\"\n",
        "    social_media = \"social_media\"\n",
        "    gov = \"govt_org\"\n",
        "    non_prof = \"non_profit_org\"\n",
        "    vc = \"venture_captial\"\n",
        "    other = \"other\"\n",
        "\n",
        "class Person(BaseModel):\n",
        "    \"\"\"\n",
        "    Represents an individual associated with an organization.\n",
        "\n",
        "    This model captures basic information about a person, including their name,\n",
        "    the organization they're associated with, and their role within that organization.\n",
        "    \"\"\"\n",
        "    name: str\n",
        "    organization: str\n",
        "    role: str\n",
        "\n",
        "class Product(BaseModel):\n",
        "    \"\"\"\n",
        "    Represents a product offered by an organization.\n",
        "\n",
        "    This model captures basic information about a product, including its name,\n",
        "    the organization it belongs to, and its type.\n",
        "    \"\"\"\n",
        "    name: str\n",
        "    organization: str\n",
        "    product_type: ProductType\n",
        "\n",
        "class Organization(BaseModel):\n",
        "    \"\"\"\n",
        "    Represents an organization or company.\n",
        "\n",
        "    This model captures basic information about an organization, including its name\n",
        "    and location.\n",
        "    \"\"\"\n",
        "    name: str\n",
        "    org_type: OrgType\n",
        "    location: str\n",
        "\n",
        "class ArticleResponse(BaseModel):\n",
        "    \"\"\"\n",
        "    Represents the structured response for an article analysis.\n",
        "\n",
        "    This model aggregates information about products, people, and organizations\n",
        "    mentioned in an article, along with a summary of the article's content.\n",
        "    \"\"\"\n",
        "    products: list[Product]\n",
        "    people: list[Person]\n",
        "    organizations: list[Organization]\n",
        "    summary: str"
      ],
      "metadata": {
        "id": "lCrqszljQgXd"
      },
      "execution_count": null,
      "outputs": []
    },
    {
      "cell_type": "code",
      "source": [
        "client = OpenAI()\n",
        "\n",
        "completion = client.beta.chat.completions.parse(\n",
        "    model=\"gpt-4o-2024-08-06\",\n",
        "    messages=[\n",
        "        {\"role\": \"system\", \"content\": \"You are a helpful assistant that scans for \\\n",
        "        people, products and organizations mentioned in articles.\"},\n",
        "        {\"role\": \"user\", \"content\": article},\n",
        "    ],\n",
        "    response_format=ArticleResponse,\n",
        ")\n",
        "\n",
        "message = completion.choices[0].message\n",
        "if message.parsed:\n",
        "    print(message.parsed.people)\n",
        "    for product in message.parsed.products:\n",
        "        print(product)\n",
        "    print(message.parsed.organizations)\n",
        "    print(f\"\\n\\nSummary: {message.parsed.summary}\")\n",
        "else:\n",
        "    print(message.refusal)"
      ],
      "metadata": {
        "colab": {
          "base_uri": "https://localhost:8080/"
        },
        "id": "vKsHtKZvPoyQ",
        "outputId": "ad04f0ac-3dd3-42be-89fe-1a4dd2a65706"
      },
      "execution_count": null,
      "outputs": [
        {
          "output_type": "stream",
          "name": "stdout",
          "text": [
            "[Person(name='Ivan Mehta', organization='Google', role='Colleague')]\n",
            "name='Pixel 9' organization='Google' product_type=<ProductType.device: 'device'>\n",
            "name='Pixel 9 Pro' organization='Google' product_type=<ProductType.device: 'device'>\n",
            "name='Pixel 9 Pro Fold' organization='Google' product_type=<ProductType.device: 'device'>\n",
            "name='Pixel Studio' organization='Google' product_type=<ProductType.app: 'app'>\n",
            "name='Call Notes' organization='Google' product_type=<ProductType.app: 'app'>\n",
            "name='Pixel Screenshots' organization='Google' product_type=<ProductType.app: 'app'>\n",
            "[Organization(name='Google', org_type=<OrgType.big_tech: 'big_tech'>, location='Mountain View, California')]\n",
            "\n",
            "\n",
            "Summary: Google's annual Made by Google hardware event unveiled several AI-related features exclusive to the Pixel 9 family of devices. These include Call Notes, which summarizes calls and saves details on the device; Pixel Studio, an image-generating app leveraging AI models both on-device and in the cloud; and Pixel Screenshots, which makes screenshots searchable by analyzing their content locally. The features focus on enhancing productivity and creativity, though privacy concerns are noted with respect to on-device operations and notifications.\n"
          ]
        }
      ]
    },
    {
      "cell_type": "code",
      "source": [
        "products = []\n",
        "people = []\n",
        "organizations = []\n",
        "\n",
        "def parse_article(article):\n",
        "    completion = client.beta.chat.completions.parse(\n",
        "    model=\"gpt-4o-2024-08-06\",\n",
        "    messages=[\n",
        "            {\"role\": \"system\", \"content\": \"You are a helpful assistant that scans for \\\n",
        "            people, products and organizations mentioned in articles.\"},\n",
        "            {\"role\": \"user\", \"content\": article},\n",
        "        ],\n",
        "        response_format=ArticleResponse,\n",
        "    )\n",
        "\n",
        "    message = completion.choices[0].message\n",
        "    if message.parsed:\n",
        "        print(message.parsed.people)\n",
        "        for product in message.parsed.products:\n",
        "            print(product)\n",
        "        print(message.parsed.organizations)\n",
        "        print(f\"\\n\\nSummary: {message.parsed.summary}\")\n",
        "    else:\n",
        "        print(message.refusal)"
      ],
      "metadata": {
        "id": "ty3CQv6qgeWH"
      },
      "execution_count": null,
      "outputs": []
    },
    {
      "cell_type": "code",
      "source": [
        "url = \"https://www.theverge.com/24218825/google-pixel-9-event-announcements-products\"\n",
        "article = download_article(url)\n",
        "parse_article(article)"
      ],
      "metadata": {
        "colab": {
          "base_uri": "https://localhost:8080/"
        },
        "id": "Mv2edsDihC0i",
        "outputId": "2d9cd75a-0da8-4ba0-854b-d49720c4bf64"
      },
      "execution_count": null,
      "outputs": [
        {
          "output_type": "stream",
          "name": "stdout",
          "text": [
            "[Person(name='Chris Welch', organization='The Verge', role='Reporter'), Person(name='Victoria Song', organization='The Verge', role='Reporter')]\n",
            "name='Pixel 9' organization='Google' product_type=<ProductType.device: 'device'>\n",
            "name='Pixel 9 Pro' organization='Google' product_type=<ProductType.device: 'device'>\n",
            "name='Pixel 9 Pro XL' organization='Google' product_type=<ProductType.device: 'device'>\n",
            "name='Pixel 9 Pro Fold' organization='Google' product_type=<ProductType.device: 'device'>\n",
            "name='Pixel Studio' organization='Google' product_type=<ProductType.app: 'app'>\n",
            "name='Pixel Screenshots' organization='Google' product_type=<ProductType.app: 'app'>\n",
            "name='Pixel Watch 3' organization='Google' product_type=<ProductType.device: 'device'>\n",
            "name='Pixel Buds Pro 2' organization='Google' product_type=<ProductType.device: 'device'>\n",
            "[Organization(name='Google', org_type=<OrgType.big_tech: 'big_tech'>, location='Mountain View, California'), Organization(name='The Verge', org_type=<OrgType.tech_media: 'tech_media'>, location='New York, New York')]\n",
            "\n",
            "\n",
            "Summary: Google's recent Made by Google event introduced the new Pixel 9 lineup, featuring the Pixel 9, Pixel 9 Pro, and Pixel 9 Pro XL devices, along with the Pixel 9 Pro Fold. These devices have enhanced features like the G4 Tensor chip and satellite SOS. Google also unveiled the Pixel Studio and Pixel Screenshots apps with AI capabilities and released new hardware like the Pixel Watch 3 and Pixel Buds Pro 2. The event highlighted significant updates such as the new design of the Pixel phones, the introduction of a foldable option, improved AI tools, and updated wearables with advanced features.\n"
          ]
        }
      ]
    },
    {
      "cell_type": "code",
      "source": [
        "url = \"https://www.theverge.com/24219730/jeff-bezos-amazon-bbc-archive-shopping\"\n",
        "article = download_article(url)\n",
        "parse_article(article)"
      ],
      "metadata": {
        "colab": {
          "base_uri": "https://localhost:8080/"
        },
        "id": "xuIxymVxiRrT",
        "outputId": "5b18b205-b5bd-4e1d-e8b5-665d7452c3de"
      },
      "execution_count": null,
      "outputs": [
        {
          "output_type": "stream",
          "name": "stdout",
          "text": [
            "[Person(name='Jeff Bezos', organization='Amazon', role='Founder and CEO'), Person(name='Nils Blythe', organization='BBC', role='Reporter')]\n",
            "[Organization(name='Amazon', org_type=<OrgType.big_tech: 'big_tech'>, location='USA'), Organization(name='BBC', org_type=<OrgType.gov: 'govt_org'>, location='UK'), Organization(name=\"Sainsbury's\", org_type=<OrgType.big_tech: 'big_tech'>, location='UK')]\n",
            "\n",
            "\n",
            "Summary: The article recounts a 1997 BBC report that explored how the internet was expected to revolutionize shopping. It included interviews with local bakers, booksellers, and Jeff Bezos, discussing the potential of online commerce. At the time, a small UK bakery was successfully selling internationally online, while Sainsbury's had mixed results selling groceries using the internet. Fast forward to 2024, Amazon, founded by Jeff Bezos, reported $143.3 billion in revenue in the first quarter, showcasing the actualized potential of e-commerce years later.\n"
          ]
        }
      ]
    },
    {
      "cell_type": "code",
      "source": [
        "url = \"https://techcrunch.com/2024/08/12/a16z-backed-fintech-tally-which-raised-172m-in-funding-is-shutting-down-after-running-out-of-cash/\"\n",
        "article = download_article(url)\n",
        "parse_article(article)\n",
        "\n"
      ],
      "metadata": {
        "colab": {
          "base_uri": "https://localhost:8080/"
        },
        "id": "HOAPlWx3jCpa",
        "outputId": "2cd07aac-d593-4cff-e144-ab3779e215f9"
      },
      "execution_count": null,
      "outputs": [
        {
          "output_type": "stream",
          "name": "stdout",
          "text": [
            "[Person(name='Jason Brown', organization='Tally', role='Founder and CEO')]\n",
            "name='Tally App' organization='Tally' product_type=<ProductType.app: 'app'>\n",
            "[Organization(name='Tally', org_type=<OrgType.startup: 'startup'>, location='San Francisco'), Organization(name='Sway Ventures', org_type=<OrgType.vc: 'venture_captial'>, location=''), Organization(name='Andreessen Horowitz', org_type=<OrgType.vc: 'venture_captial'>, location=''), Organization(name='Kleiner Perkins', org_type=<OrgType.vc: 'venture_captial'>, location=''), Organization(name='Shasta Ventures', org_type=<OrgType.vc: 'venture_captial'>, location=''), Organization(name='Cowboy Ventures', org_type=<OrgType.vc: 'venture_captial'>, location=''), Organization(name='TechCrunch', org_type=<OrgType.tech_media: 'tech_media'>, location='')]\n",
            "\n",
            "\n",
            "Summary: Tally, a fintech startup founded in 2015, has shut down after failing to secure necessary funding. The company, last valued at $855 million, initially aimed to help consumers manage credit card debt with a lower interest loan. Despite plans to shift to a B2B model earlier this year, Tally could not sustain operations. The company had raised $172 million over several funding rounds, with Sway Ventures leading the latest series and Andreessen Horowitz previously involved.\n"
          ]
        }
      ]
    },
    {
      "cell_type": "code",
      "source": [],
      "metadata": {
        "id": "LcTBhaX5krO6"
      },
      "execution_count": null,
      "outputs": []
    }
  ]
}