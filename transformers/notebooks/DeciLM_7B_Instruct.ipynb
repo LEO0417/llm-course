{
  "nbformat": 4,
  "nbformat_minor": 0,
  "metadata": {
    "colab": {
      "provenance": [],
      "machine_shape": "hm",
      "gpuType": "T4"
    },
    "kernelspec": {
      "name": "python3",
      "display_name": "Python 3"
    },
    "language_info": {
      "name": "python"
    },
    "accelerator": "GPU"
  },
  "cells": [
    {
      "cell_type": "markdown",
      "source": [
        "# 👨🏽‍🏫 DeciLM-7B-Instruct\n",
        "\n"
      ],
      "metadata": {
        "id": "k8nsTp2jJksC"
      }
    },
    {
      "cell_type": "code",
      "execution_count": null,
      "metadata": {
        "id": "QptGSEd6z9pV"
      },
      "outputs": [],
      "source": [
        "%%capture\n",
        "!pip install huggingface_hub\n",
        "!pip install transformers\n",
        "!pip install accelerate\n",
        "!pip install bitsandbytes\n",
        "!pip install ninja\n",
        "# !pip install flash-attn"
      ]
    },
    {
      "cell_type": "code",
      "source": [
        "import torch\n",
        "from transformers import AutoTokenizer, AutoModelForCausalLM, BitsAndBytesConfig, pipeline"
      ],
      "metadata": {
        "id": "B4aARQ4v1_r-"
      },
      "execution_count": null,
      "outputs": []
    },
    {
      "cell_type": "markdown",
      "source": [
        "We load the model with 4-bit quantization in this case since colab usually offers limited T4 GPUs with 16GB VRAM.\n",
        "\n",
        "In general, we recommend loading the model using `torch_dtype=torch.bfloat16` for best results."
      ],
      "metadata": {
        "id": "VoCPe4dfAQnP"
      }
    },
    {
      "cell_type": "code",
      "source": [
        "model_id = 'Deci/DeciLM-7B-instruct'\n",
        "\n",
        "using_colab_T4_GPU = True\n",
        "if using_colab_T4_GPU:\n",
        "  bnb_config = BitsAndBytesConfig(\n",
        "      load_in_4bit = True,\n",
        "      bnb_4bit_compute_dtype=torch.bfloat16\n",
        "  )\n",
        "  dtype_kwargs = {\"quantization_config\": bnb_config}\n",
        "else:\n",
        "  dtype_kwargs = {\"torch_dtype\": torch.bfloat16}\n",
        "\n",
        "\n",
        "model = AutoModelForCausalLM.from_pretrained(\n",
        "    model_id,\n",
        "    device_map=\"auto\",\n",
        "    trust_remote_code=True,\n",
        "    **dtype_kwargs\n",
        ")"
      ],
      "metadata": {
        "id": "iQbVrhQC2DPm"
      },
      "execution_count": null,
      "outputs": []
    },
    {
      "cell_type": "code",
      "source": [
        "tokenizer = AutoTokenizer.from_pretrained(model_id)\n",
        "\n",
        "tokenizer.pad_token = tokenizer.eos_token"
      ],
      "metadata": {
        "id": "t6r0A5CA84LX"
      },
      "execution_count": null,
      "outputs": []
    },
    {
      "cell_type": "code",
      "source": [
        "SYSTEM_PROMPT_TEMPLATE =\"\"\"\n",
        "### System:\n",
        "You are an AI assistant that follows instruction extremely well. Help as much as you can.\n",
        "### User:\n",
        "{instruction}\n",
        "### Assistant:\n",
        "\"\"\"\n",
        "\n",
        "# Function to construct the prompt using the new system prompt template\n",
        "def get_prompt_with_template(message: str) -> str:\n",
        "    return SYSTEM_PROMPT_TEMPLATE.format(instruction=message)\n",
        "\n",
        "# Function to handle the generation of the model's response using the constructed prompt\n",
        "def generate_model_response(message: str) -> str:\n",
        "    prompt = get_prompt_with_template(message)\n",
        "    inputs = tokenizer(prompt, return_tensors='pt')\n",
        "    if torch.cuda.is_available():  # Ensure input tensors are on the GPU if model is on GPU\n",
        "        inputs = inputs.to('cuda')\n",
        "    output = model.generate(**inputs,\n",
        "                            max_new_tokens=3000,\n",
        "                            num_beams=5,\n",
        "                            no_repeat_ngram_size=4,\n",
        "                            early_stopping=True\n",
        "                            )\n",
        "    return tokenizer.decode(output[0], skip_special_tokens=True)\n",
        "\n",
        "# Function to extract the content after \"### Response:\"\n",
        "def extract_response_content(full_response: str) -> str:\n",
        "    response_start_index = full_response.find(\"### Assistant:\")\n",
        "    if response_start_index != -1:\n",
        "        return full_response[response_start_index + len(\"### Assistant:\"):].strip()\n",
        "    else:\n",
        "        return full_response\n",
        "\n",
        "# Main function to get the model's response and extract the content after \"### Response:\"\n",
        "def get_response_with_template(message: str) -> str:\n",
        "    full_response = generate_model_response(message)\n",
        "    return extract_response_content(full_response)"
      ],
      "metadata": {
        "id": "wt0M-Qfs3ARL"
      },
      "execution_count": null,
      "outputs": []
    },
    {
      "cell_type": "code",
      "source": [
        "# Sample usage\n",
        "user_message = \"How can I teach my toddler son to be more patient and not throw tantrums?\"\n",
        "response = get_response_with_template(user_message)\n",
        "print(response)"
      ],
      "metadata": {
        "id": "w7Y6F8T-FIBQ",
        "colab": {
          "base_uri": "https://localhost:8080/"
        },
        "outputId": "5423ea47-368b-4c32-f5e4-08ba59d3a373"
      },
      "execution_count": null,
      "outputs": [
        {
          "output_type": "stream",
          "name": "stderr",
          "text": [
            "Setting `pad_token_id` to `eos_token_id`:2 for open-end generation.\n"
          ]
        },
        {
          "output_type": "stream",
          "name": "stdout",
          "text": [
            "Here are some tips to help your toddler learn patience and avoid tantrums:\n",
            "\n",
            "1. Establish a routine: Toddlers thrive on structure and predictability. Establishing a consistent routine can help them feel more secure and in control, reducing the likelihood of tantrums.\n",
            "\n",
            "2. Use positive reinforcement: Praise and reward your child when they exhibit patience and self-control. This will encourage them to continue exhibiting these behaviors.\n",
            "\n",
            "3. Teach coping strategies: Teach your child coping strategies such as deep breathing, counting to 10, or taking a break to calm down.\n",
            "\n",
            "4. Be patient and consistent: Model patience and consistency in your interactions with your child. This will help them learn these behaviors from you.\n",
            "\n",
            "5. Limit screen time: Too much screen time can lead to overstimulation and impatience. Limit your child's screen time and encourage them to engage in other activities.\n",
            "\n",
            "6. Address the root cause: If your child is throwing tantrums in response to a specific situation, try to address the root cause. For example, if they're throwing a tantrum because they're tired, help them take a nap or rest.\n",
            "\n",
            "Remember, teaching patience and reducing tantrums takes time and patience. Be consistent and patient with your child, and they will learn these skills over time.\n"
          ]
        }
      ]
    },
    {
      "cell_type": "code",
      "source": [
        "user_message = \"How do I write a compelling social media post?\"\n",
        "response = get_response_with_template(user_message)\n",
        "print(response)"
      ],
      "metadata": {
        "id": "vOFa4mJ6_0K5",
        "colab": {
          "base_uri": "https://localhost:8080/"
        },
        "outputId": "2e6aa145-c7a8-42b3-a3fd-5e4eda16b29f"
      },
      "execution_count": null,
      "outputs": [
        {
          "output_type": "stream",
          "name": "stderr",
          "text": [
            "Setting `pad_token_id` to `eos_token_id`:2 for open-end generation.\n"
          ]
        },
        {
          "output_type": "stream",
          "name": "stdout",
          "text": [
            "Here's a step-by-step guide to help you write a compelling and engaging social media post:\n",
            "\n",
            "1. Define your goal: Determine what you want to achieve with your social media post. Do you want to inform, educate, entertain, or engage your audience?\n",
            "\n",
            "2. Identify your audience: Understand your target audience's interests, preferences, and pain points. This will help you tailor your content to resonate with them.\n",
            "\n",
            "3. Choose the right platform: Select the social media platform that best aligns with your goal and audience. For example, if you're targeting a younger demographic, platforms like Instagram or TikTok may be more suitable.\n",
            "\n",
            "4. Craft a compelling headline: Your headline is the first thing your audience will see, so make it attention-grabbing and relevant to your content.\n",
            "\n",
            "5. Use visuals: Incorporate eye-catching visuals like images, videos, or GIFs to make your post more engaging.\n",
            "\n",
            "6. Keep it concise: Social media users have short attention spans, so keep your post concise and to the point.\n",
            "\n",
            "7. Include a call-to-action (CTA): Encourage your audience to engage with your post by including a CTA, such as asking them to like, comment, share, or visit your website.\n",
            "\n",
            "8. Use hashtags: Hashtags help your post reach a wider audience and make it easier for users to find your content. Research relevant hashtags and include them in your post.\n",
            "\n",
            "9. Monitor and engage: After posting, monitor your post's performance and engage with your audience by responding to comments and messages.\n",
            "\n",
            "10. Analyze and improve: Analyze the performance of your post and use the insights to improve your future social media posts.\n"
          ]
        }
      ]
    },
    {
      "cell_type": "code",
      "source": [
        "user_message = \"I have Bisquick flour, eggs, milk, butter. How can I make peanut butter pancakes?\"\n",
        "response = get_response_with_template(user_message)\n",
        "print(response)"
      ],
      "metadata": {
        "id": "RkmVAU0NWBwK",
        "colab": {
          "base_uri": "https://localhost:8080/"
        },
        "outputId": "2af382f4-7b6e-4013-cd9d-f2145aa14e25"
      },
      "execution_count": null,
      "outputs": [
        {
          "output_type": "stream",
          "name": "stderr",
          "text": [
            "Setting `pad_token_id` to `eos_token_id`:2 for open-end generation.\n"
          ]
        },
        {
          "output_type": "stream",
          "name": "stdout",
          "text": [
            "Ingredients:\n",
            "- Bisquick flour\n",
            "- Eggs\n",
            "- Milk\n",
            "- Butter\n",
            "- Peanut butter\n",
            "\n",
            "Instructions:\n",
            "1. Preheat a non-stick pan or griddle over medium heat.\n",
            "2. In a mixing bowl, whisk together 1 cup of Bisquick, 1 egg, and 1/4 cup of milk.\n",
            "3. Add 1 tablespoon of butter to the pan and let it melt.\n",
            "4. Once the butter has melted, pour the batter into the pan.\n",
            "5. Let the pancake cook for 1-2 minutes or until bubbles form on the surface.\n",
            "6. Flip the pancakes and cook for an additional 1 minute or until the other side is golden brown.\n",
            "7. Repeat steps 5 and 6 for the remaining batter.\n",
            "8. Once all pancakes are cooked, spread a thin layer of peanut better on top of each pancake.\n",
            "9. Serve and enjoy!\n"
          ]
        }
      ]
    },
    {
      "cell_type": "code",
      "source": [
        "user_message = \"How do I make french toast? Think through it step by step\"\n",
        "response = get_response_with_template(user_message)\n",
        "print(response)"
      ],
      "metadata": {
        "id": "ue5HVQqsELzJ",
        "colab": {
          "base_uri": "https://localhost:8080/"
        },
        "outputId": "50d09387-f791-4ecb-b121-e967ae78a7db"
      },
      "execution_count": null,
      "outputs": [
        {
          "output_type": "stream",
          "name": "stderr",
          "text": [
            "Setting `pad_token_id` to `eos_token_id`:2 for open-end generation.\n"
          ]
        },
        {
          "output_type": "stream",
          "name": "stdout",
          "text": [
            "To make French toast, follow these step-by-step instructions:\n",
            "\n",
            "1. Preheat the oven to 350 degrees Fahrenheit (180 degrees Celsius).\n",
            "\n",
            "2. In a mixing bowl, whisk together 4 large eggs, 1 cup of milk, 1 teaspoon of vanilla extract, and a pinch of salt.\n",
            "\n",
            "3. In a separate bowl, mix together 1/2 cup of granulated sugar and 1 tablespoon of ground cinnamon.\n",
            "\n",
            "4. In a shallow dish, combine the cinnamon-sugar mixture with 1/4 cup of unsalted butter, melted.\n",
            "\n",
            "5. Dip each slice of bread into the egg mixture, coating both sides.\n",
            "\n",
            "6. Place the coated bread slices on a baking sheet lined with parchment paper.\n",
            "\n",
            "7. Bake the French toast in the preheated oven for 10-15 minutes, or until the bread is golden brown and crispy.\n",
            "\n",
            "8. Serve the French toast with your favorite toppings, such as maple syrup, powdered sugar, or fresh fruit.\n",
            "\n",
            "Enjoy your delicious homemade French toast!\n"
          ]
        }
      ]
    },
    {
      "cell_type": "code",
      "source": [
        "user_message = \"Help me come up with an idea for my first machine learning project and tell me the steps to complete it\"\n",
        "response = get_response_with_template(user_message)\n",
        "print(response)"
      ],
      "metadata": {
        "id": "H7-9TeyVGta2",
        "colab": {
          "base_uri": "https://localhost:8080/"
        },
        "outputId": "c689fffa-b242-4114-d8be-a137288cc490"
      },
      "execution_count": null,
      "outputs": [
        {
          "output_type": "stream",
          "name": "stderr",
          "text": [
            "Setting `pad_token_id` to `eos_token_id`:2 for open-end generation.\n"
          ]
        },
        {
          "output_type": "stream",
          "name": "stdout",
          "text": [
            "One possible machine learning project idea is to create a sentiment analysis model that can classify text as positive, negative, or neutral. Here are the steps you can follow to complete this project:\n",
            "\n",
            "1. **Data Collection**: Gather a dataset of text data, such as movie reviews, product reviews, or social media posts. Make sure the dataset is labeled with the sentiment (positive, negative, neutral) for each text.\n",
            "\n",
            "2. **Data Preprocessing**: Clean and preprocess the text data by removing stop words, punctuation, and converting all text to lowercase.\n",
            "\n",
            "3. **Feature Extraction**: Extract features from the preprocessed text, such as bag-of-words, term frequency-inverse document frequency (TF-IDF), or word embeddings.\n",
            "\n",
            "4. **Model Selection**: Choose a suitable machine learning model for sentiment analysis, such as Naive Bayes, Support Vector Machines (SVM), or Recurrent Neural Networks (RNN).\n",
            "\n",
            "5. **Training and Evaluation**: Train the model using the labeled dataset and evaluate its performance using metrics like accuracy, precision, recall, and F1-score.\n",
            "\n",
            "6. **Model Improvement**: If the model's performance is not satisfactory, try improving it by experimenting with different feature extraction methods, model architectures, or hyperparameters.\n",
            "\n",
            "7. **Deployment**: Once you have a satisfactory model, you can deploy it in a real-world application, such as a sentiment analysis API or a social media sentiment analysis tool.\n"
          ]
        }
      ]
    },
    {
      "cell_type": "code",
      "source": [
        "user_message = \"Teach me how to make a good trap beat\"\n",
        "response = get_response_with_template(user_message)\n",
        "print(response)"
      ],
      "metadata": {
        "id": "cp-izlS-YxlK",
        "colab": {
          "base_uri": "https://localhost:8080/"
        },
        "outputId": "f46c75b6-da00-4919-dd75-e9f204263352"
      },
      "execution_count": null,
      "outputs": [
        {
          "output_type": "stream",
          "name": "stderr",
          "text": [
            "Setting `pad_token_id` to `eos_token_id`:2 for open-end generation.\n"
          ]
        },
        {
          "output_type": "stream",
          "name": "stdout",
          "text": [
            "To make a trap beat, follow these steps:\n",
            "\n",
            "1. Choose a tempo: Decide on the speed at which you want your beat to play. A common tempo for trap beats is around 100-120 beats per minute (BPM).\n",
            "\n",
            "2. Select a drum machine or software: You can use a drum machine like the Roland TR-808 or TR-909, or a digital audio workstation (DAW) like Ableton Live, FL Studio, or Logic Pro.\n",
            "\n",
            "3. Choose a kick drum sound: The kick drum is the most important element of a trap beat. Experiment with different kick drum sounds until you find one that suits your style.\n",
            "\n",
            "4. Add a snare drum: The snare drum should complement the kick drum. Try different snare drum sounds to find one that works well with your kick drum.\n",
            "\n",
            "5. Incorporate hi-hats: Hi-hats are an essential part of trap beats. Choose a hi-hat sound that complements the kick and snare drums.\n",
            "\n",
            "6. Add a clap: A clap sound can add a unique element to your trap beat. Try different clap sounds and see which one fits best.\n",
            "\n",
            "7. Add a shaker: A shaker can add a subtle rhythmic element to your beat. Choose a shaker sound that compliments the other elements in your beat.\n",
            "\n",
            "8. Mix and balance the elements: Once you have all the elements in place, mix and balance them to create a cohesive trap beat. Adjust the volume, panning, and EQ of each element to make them sound good together.\n",
            "\n",
            "9. Save and export your beat: Once you're happy with your trap beat, save it and export it to a format that you can use in your projects.\n",
            "\n",
            "By following these steps, you'll be able to create a trap beat that sounds good and fits your style.\n"
          ]
        }
      ]
    }
  ]
}