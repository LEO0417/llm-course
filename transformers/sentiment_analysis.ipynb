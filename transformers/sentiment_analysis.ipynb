{
  "nbformat": 4,
  "nbformat_minor": 0,
  "metadata": {
    "colab": {
      "provenance": []
    },
    "kernelspec": {
      "name": "python3",
      "display_name": "Python 3"
    },
    "language_info": {
      "name": "python"
    },
    "widgets": {
      "application/vnd.jupyter.widget-state+json": {
        "0a1ed8f35a584cf9a7ef665919a02ef8": {
          "model_module": "@jupyter-widgets/controls",
          "model_name": "HBoxModel",
          "model_module_version": "1.5.0",
          "state": {
            "_dom_classes": [],
            "_model_module": "@jupyter-widgets/controls",
            "_model_module_version": "1.5.0",
            "_model_name": "HBoxModel",
            "_view_count": null,
            "_view_module": "@jupyter-widgets/controls",
            "_view_module_version": "1.5.0",
            "_view_name": "HBoxView",
            "box_style": "",
            "children": [
              "IPY_MODEL_c41ff170a0234f508e21322eadf3618d",
              "IPY_MODEL_5399f632ac3d4ff8a9f2a6591f48eab4",
              "IPY_MODEL_4cb9672336714a5091e2d1ee2f55c70e"
            ],
            "layout": "IPY_MODEL_58bebf742406437293cce9df70c64cf2"
          }
        },
        "c41ff170a0234f508e21322eadf3618d": {
          "model_module": "@jupyter-widgets/controls",
          "model_name": "HTMLModel",
          "model_module_version": "1.5.0",
          "state": {
            "_dom_classes": [],
            "_model_module": "@jupyter-widgets/controls",
            "_model_module_version": "1.5.0",
            "_model_name": "HTMLModel",
            "_view_count": null,
            "_view_module": "@jupyter-widgets/controls",
            "_view_module_version": "1.5.0",
            "_view_name": "HTMLView",
            "description": "",
            "description_tooltip": null,
            "layout": "IPY_MODEL_b4e6aee7c85a421c96857418ba011eee",
            "placeholder": "​",
            "style": "IPY_MODEL_50608bed15204dfbaa2fc0741d04911f",
            "value": "Map: 100%"
          }
        },
        "5399f632ac3d4ff8a9f2a6591f48eab4": {
          "model_module": "@jupyter-widgets/controls",
          "model_name": "FloatProgressModel",
          "model_module_version": "1.5.0",
          "state": {
            "_dom_classes": [],
            "_model_module": "@jupyter-widgets/controls",
            "_model_module_version": "1.5.0",
            "_model_name": "FloatProgressModel",
            "_view_count": null,
            "_view_module": "@jupyter-widgets/controls",
            "_view_module_version": "1.5.0",
            "_view_name": "ProgressView",
            "bar_style": "success",
            "description": "",
            "description_tooltip": null,
            "layout": "IPY_MODEL_db6507c952b346189736250dfca62863",
            "max": 2,
            "min": 0,
            "orientation": "horizontal",
            "style": "IPY_MODEL_27bbe65c6e1e49d483352490a6d4fa83",
            "value": 2
          }
        },
        "4cb9672336714a5091e2d1ee2f55c70e": {
          "model_module": "@jupyter-widgets/controls",
          "model_name": "HTMLModel",
          "model_module_version": "1.5.0",
          "state": {
            "_dom_classes": [],
            "_model_module": "@jupyter-widgets/controls",
            "_model_module_version": "1.5.0",
            "_model_name": "HTMLModel",
            "_view_count": null,
            "_view_module": "@jupyter-widgets/controls",
            "_view_module_version": "1.5.0",
            "_view_name": "HTMLView",
            "description": "",
            "description_tooltip": null,
            "layout": "IPY_MODEL_5297370560504be680e84b3bb2679355",
            "placeholder": "​",
            "style": "IPY_MODEL_7db8906071e84822bc59865fd2a29b73",
            "value": " 2/2 [00:00&lt;00:00, 24.83 examples/s]"
          }
        },
        "58bebf742406437293cce9df70c64cf2": {
          "model_module": "@jupyter-widgets/base",
          "model_name": "LayoutModel",
          "model_module_version": "1.2.0",
          "state": {
            "_model_module": "@jupyter-widgets/base",
            "_model_module_version": "1.2.0",
            "_model_name": "LayoutModel",
            "_view_count": null,
            "_view_module": "@jupyter-widgets/base",
            "_view_module_version": "1.2.0",
            "_view_name": "LayoutView",
            "align_content": null,
            "align_items": null,
            "align_self": null,
            "border": null,
            "bottom": null,
            "display": null,
            "flex": null,
            "flex_flow": null,
            "grid_area": null,
            "grid_auto_columns": null,
            "grid_auto_flow": null,
            "grid_auto_rows": null,
            "grid_column": null,
            "grid_gap": null,
            "grid_row": null,
            "grid_template_areas": null,
            "grid_template_columns": null,
            "grid_template_rows": null,
            "height": null,
            "justify_content": null,
            "justify_items": null,
            "left": null,
            "margin": null,
            "max_height": null,
            "max_width": null,
            "min_height": null,
            "min_width": null,
            "object_fit": null,
            "object_position": null,
            "order": null,
            "overflow": null,
            "overflow_x": null,
            "overflow_y": null,
            "padding": null,
            "right": null,
            "top": null,
            "visibility": null,
            "width": null
          }
        },
        "b4e6aee7c85a421c96857418ba011eee": {
          "model_module": "@jupyter-widgets/base",
          "model_name": "LayoutModel",
          "model_module_version": "1.2.0",
          "state": {
            "_model_module": "@jupyter-widgets/base",
            "_model_module_version": "1.2.0",
            "_model_name": "LayoutModel",
            "_view_count": null,
            "_view_module": "@jupyter-widgets/base",
            "_view_module_version": "1.2.0",
            "_view_name": "LayoutView",
            "align_content": null,
            "align_items": null,
            "align_self": null,
            "border": null,
            "bottom": null,
            "display": null,
            "flex": null,
            "flex_flow": null,
            "grid_area": null,
            "grid_auto_columns": null,
            "grid_auto_flow": null,
            "grid_auto_rows": null,
            "grid_column": null,
            "grid_gap": null,
            "grid_row": null,
            "grid_template_areas": null,
            "grid_template_columns": null,
            "grid_template_rows": null,
            "height": null,
            "justify_content": null,
            "justify_items": null,
            "left": null,
            "margin": null,
            "max_height": null,
            "max_width": null,
            "min_height": null,
            "min_width": null,
            "object_fit": null,
            "object_position": null,
            "order": null,
            "overflow": null,
            "overflow_x": null,
            "overflow_y": null,
            "padding": null,
            "right": null,
            "top": null,
            "visibility": null,
            "width": null
          }
        },
        "50608bed15204dfbaa2fc0741d04911f": {
          "model_module": "@jupyter-widgets/controls",
          "model_name": "DescriptionStyleModel",
          "model_module_version": "1.5.0",
          "state": {
            "_model_module": "@jupyter-widgets/controls",
            "_model_module_version": "1.5.0",
            "_model_name": "DescriptionStyleModel",
            "_view_count": null,
            "_view_module": "@jupyter-widgets/base",
            "_view_module_version": "1.2.0",
            "_view_name": "StyleView",
            "description_width": ""
          }
        },
        "db6507c952b346189736250dfca62863": {
          "model_module": "@jupyter-widgets/base",
          "model_name": "LayoutModel",
          "model_module_version": "1.2.0",
          "state": {
            "_model_module": "@jupyter-widgets/base",
            "_model_module_version": "1.2.0",
            "_model_name": "LayoutModel",
            "_view_count": null,
            "_view_module": "@jupyter-widgets/base",
            "_view_module_version": "1.2.0",
            "_view_name": "LayoutView",
            "align_content": null,
            "align_items": null,
            "align_self": null,
            "border": null,
            "bottom": null,
            "display": null,
            "flex": null,
            "flex_flow": null,
            "grid_area": null,
            "grid_auto_columns": null,
            "grid_auto_flow": null,
            "grid_auto_rows": null,
            "grid_column": null,
            "grid_gap": null,
            "grid_row": null,
            "grid_template_areas": null,
            "grid_template_columns": null,
            "grid_template_rows": null,
            "height": null,
            "justify_content": null,
            "justify_items": null,
            "left": null,
            "margin": null,
            "max_height": null,
            "max_width": null,
            "min_height": null,
            "min_width": null,
            "object_fit": null,
            "object_position": null,
            "order": null,
            "overflow": null,
            "overflow_x": null,
            "overflow_y": null,
            "padding": null,
            "right": null,
            "top": null,
            "visibility": null,
            "width": null
          }
        },
        "27bbe65c6e1e49d483352490a6d4fa83": {
          "model_module": "@jupyter-widgets/controls",
          "model_name": "ProgressStyleModel",
          "model_module_version": "1.5.0",
          "state": {
            "_model_module": "@jupyter-widgets/controls",
            "_model_module_version": "1.5.0",
            "_model_name": "ProgressStyleModel",
            "_view_count": null,
            "_view_module": "@jupyter-widgets/base",
            "_view_module_version": "1.2.0",
            "_view_name": "StyleView",
            "bar_color": null,
            "description_width": ""
          }
        },
        "5297370560504be680e84b3bb2679355": {
          "model_module": "@jupyter-widgets/base",
          "model_name": "LayoutModel",
          "model_module_version": "1.2.0",
          "state": {
            "_model_module": "@jupyter-widgets/base",
            "_model_module_version": "1.2.0",
            "_model_name": "LayoutModel",
            "_view_count": null,
            "_view_module": "@jupyter-widgets/base",
            "_view_module_version": "1.2.0",
            "_view_name": "LayoutView",
            "align_content": null,
            "align_items": null,
            "align_self": null,
            "border": null,
            "bottom": null,
            "display": null,
            "flex": null,
            "flex_flow": null,
            "grid_area": null,
            "grid_auto_columns": null,
            "grid_auto_flow": null,
            "grid_auto_rows": null,
            "grid_column": null,
            "grid_gap": null,
            "grid_row": null,
            "grid_template_areas": null,
            "grid_template_columns": null,
            "grid_template_rows": null,
            "height": null,
            "justify_content": null,
            "justify_items": null,
            "left": null,
            "margin": null,
            "max_height": null,
            "max_width": null,
            "min_height": null,
            "min_width": null,
            "object_fit": null,
            "object_position": null,
            "order": null,
            "overflow": null,
            "overflow_x": null,
            "overflow_y": null,
            "padding": null,
            "right": null,
            "top": null,
            "visibility": null,
            "width": null
          }
        },
        "7db8906071e84822bc59865fd2a29b73": {
          "model_module": "@jupyter-widgets/controls",
          "model_name": "DescriptionStyleModel",
          "model_module_version": "1.5.0",
          "state": {
            "_model_module": "@jupyter-widgets/controls",
            "_model_module_version": "1.5.0",
            "_model_name": "DescriptionStyleModel",
            "_view_count": null,
            "_view_module": "@jupyter-widgets/base",
            "_view_module_version": "1.2.0",
            "_view_name": "StyleView",
            "description_width": ""
          }
        }
      }
    }
  },
  "cells": [
    {
      "cell_type": "code",
      "execution_count": 1,
      "metadata": {
        "colab": {
          "base_uri": "https://localhost:8080/"
        },
        "id": "gAYEXagDG54r",
        "outputId": "f8c07a0c-ca3f-4166-cc5b-e3f3c8270be7"
      },
      "outputs": [
        {
          "output_type": "stream",
          "name": "stdout",
          "text": [
            "\u001b[2K     \u001b[90m━━━━━━━━━━━━━━━━━━━━━━━━━━━━━━━━━━━━━━━━\u001b[0m \u001b[32m507.1/507.1 kB\u001b[0m \u001b[31m5.6 MB/s\u001b[0m eta \u001b[36m0:00:00\u001b[0m\n",
            "\u001b[2K     \u001b[90m━━━━━━━━━━━━━━━━━━━━━━━━━━━━━━━━━━━━━━━━\u001b[0m \u001b[32m115.3/115.3 kB\u001b[0m \u001b[31m5.9 MB/s\u001b[0m eta \u001b[36m0:00:00\u001b[0m\n",
            "\u001b[2K     \u001b[90m━━━━━━━━━━━━━━━━━━━━━━━━━━━━━━━━━━━━━━━━\u001b[0m \u001b[32m134.8/134.8 kB\u001b[0m \u001b[31m6.4 MB/s\u001b[0m eta \u001b[36m0:00:00\u001b[0m\n",
            "\u001b[?25h"
          ]
        }
      ],
      "source": [
        "!pip install transformers datasets -q"
      ]
    },
    {
      "cell_type": "code",
      "source": [
        "import transformers\n",
        "\n",
        "# Set to avoid warning messages.\n",
        "transformers.logging.set_verbosity_error()"
      ],
      "metadata": {
        "id": "3w7GxHKUHDEx"
      },
      "execution_count": 2,
      "outputs": []
    },
    {
      "cell_type": "code",
      "source": [
        "from datasets import load_dataset\n",
        "\n",
        "# Pretrained model from Huggingface\n",
        "model_name = \"distilbert-base-uncased\"\n",
        "\n",
        "# Dataset from HuggingFace\n",
        "poem_sentiments = load_dataset(\"poem_sentiment\")\n",
        "\n",
        "# The Data is stored in Apache Arrow format\n",
        "print(poem_sentiments)\n",
        "print(poem_sentiments[\"test\"][20:25])\n",
        "\n",
        "print(\"\\nSentiment Labels used\",\n",
        "      poem_sentiments[\"train\"].features.get(\"label\").names)"
      ],
      "metadata": {
        "colab": {
          "base_uri": "https://localhost:8080/"
        },
        "id": "2cGkcsmQHLYi",
        "outputId": "a64c0d6d-8caf-4670-d14e-09aa8f5384aa"
      },
      "execution_count": 14,
      "outputs": [
        {
          "output_type": "stream",
          "name": "stderr",
          "text": [
            "/usr/local/lib/python3.10/dist-packages/datasets/load.py:1429: FutureWarning: The repository for poem_sentiment contains custom code which must be executed to correctly load the dataset. You can inspect the repository content at https://hf.co/datasets/poem_sentiment\n",
            "You can avoid this message in future by passing the argument `trust_remote_code=True`.\n",
            "Passing `trust_remote_code=True` will be mandatory to load this dataset from the next major release of `datasets`.\n",
            "  warnings.warn(\n"
          ]
        },
        {
          "output_type": "stream",
          "name": "stdout",
          "text": [
            "DatasetDict({\n",
            "    train: Dataset({\n",
            "        features: ['id', 'verse_text', 'label'],\n",
            "        num_rows: 892\n",
            "    })\n",
            "    validation: Dataset({\n",
            "        features: ['id', 'verse_text', 'label'],\n",
            "        num_rows: 105\n",
            "    })\n",
            "    test: Dataset({\n",
            "        features: ['id', 'verse_text', 'label'],\n",
            "        num_rows: 104\n",
            "    })\n",
            "})\n",
            "{'id': [20, 21, 22, 23, 24], 'verse_text': [\"as o'er the earth it wanders wide,\", 'how hearts were answering to his own,', 'glad on its stone-built hearth; and thorough the wide-mouthed smoke-flue', 'sees the clouds reel and roll above our head,', '’tis to behold his vengeance for my son.'], 'label': [2, 1, 2, 2, 0]}\n",
            "\n",
            "Sentiment Labels used ['negative', 'positive', 'no_impact', 'mixed']\n"
          ]
        }
      ]
    },
    {
      "cell_type": "code",
      "source": [
        "# Encoding text from the Dataset\n",
        "\n",
        "from transformers import DistilBertTokenizer\n",
        "\n",
        "tokenizer = DistilBertTokenizer.from_pretrained(model_name)\n",
        "\n",
        "def tokenize(batch):\n",
        "    return tokenizer(batch[\"verse_text\"],\n",
        "                        padding = True,\n",
        "                        truncation = True)\n",
        "\n",
        "enc_poem_sentiments = poem_sentiments.map(\n",
        "                        tokenize,\n",
        "                        batched = True,\n",
        "                        batch_size = None)\n",
        "\n",
        "print(enc_poem_sentiments[\"train\"][0:5])"
      ],
      "metadata": {
        "colab": {
          "base_uri": "https://localhost:8080/"
        },
        "id": "UabnlmTnHbkj",
        "outputId": "293d7c16-6c83-4f43-e0a9-9640f39e1c23"
      },
      "execution_count": 15,
      "outputs": [
        {
          "output_type": "stream",
          "name": "stdout",
          "text": [
            "{'id': [0, 1, 2, 3, 4], 'verse_text': ['with pale blue berries. in these peaceful shades--', 'it flows so long as falls the rain,', 'and that is why, the lonesome day,', 'when i peruse the conquered fame of heroes, and the victories of mighty generals, i do not envy the generals,', 'of inward strife for truth and liberty.'], 'label': [1, 2, 0, 3, 3], 'input_ids': [[101, 2007, 5122, 2630, 22681, 1012, 1999, 2122, 9379, 13178, 1011, 1011, 102, 0, 0, 0, 0, 0, 0, 0, 0, 0, 0, 0, 0, 0, 0, 0], [101, 2009, 6223, 2061, 2146, 2004, 4212, 1996, 4542, 1010, 102, 0, 0, 0, 0, 0, 0, 0, 0, 0, 0, 0, 0, 0, 0, 0, 0, 0], [101, 1998, 2008, 2003, 2339, 1010, 1996, 10459, 14045, 2154, 1010, 102, 0, 0, 0, 0, 0, 0, 0, 0, 0, 0, 0, 0, 0, 0, 0, 0], [101, 2043, 1045, 7304, 3366, 1996, 11438, 4476, 1997, 7348, 1010, 1998, 1996, 9248, 1997, 10478, 11593, 1010, 1045, 2079, 2025, 21103, 1996, 11593, 1010, 102, 0, 0], [101, 1997, 20546, 27865, 2005, 3606, 1998, 7044, 1012, 102, 0, 0, 0, 0, 0, 0, 0, 0, 0, 0, 0, 0, 0, 0, 0, 0, 0, 0]], 'attention_mask': [[1, 1, 1, 1, 1, 1, 1, 1, 1, 1, 1, 1, 1, 0, 0, 0, 0, 0, 0, 0, 0, 0, 0, 0, 0, 0, 0, 0], [1, 1, 1, 1, 1, 1, 1, 1, 1, 1, 1, 0, 0, 0, 0, 0, 0, 0, 0, 0, 0, 0, 0, 0, 0, 0, 0, 0], [1, 1, 1, 1, 1, 1, 1, 1, 1, 1, 1, 1, 0, 0, 0, 0, 0, 0, 0, 0, 0, 0, 0, 0, 0, 0, 0, 0], [1, 1, 1, 1, 1, 1, 1, 1, 1, 1, 1, 1, 1, 1, 1, 1, 1, 1, 1, 1, 1, 1, 1, 1, 1, 1, 0, 0], [1, 1, 1, 1, 1, 1, 1, 1, 1, 1, 0, 0, 0, 0, 0, 0, 0, 0, 0, 0, 0, 0, 0, 0, 0, 0, 0, 0]]}\n"
          ]
        }
      ]
    },
    {
      "cell_type": "code",
      "source": [
        "enc_poem_sentiments"
      ],
      "metadata": {
        "colab": {
          "base_uri": "https://localhost:8080/"
        },
        "id": "6EOqCP5DIAqj",
        "outputId": "6582a5f7-ad40-4ecd-c44e-a435996744e2"
      },
      "execution_count": 8,
      "outputs": [
        {
          "output_type": "execute_result",
          "data": {
            "text/plain": [
              "DatasetDict({\n",
              "    train: Dataset({\n",
              "        features: ['id', 'verse_text', 'label', 'input_ids', 'attention_mask'],\n",
              "        num_rows: 892\n",
              "    })\n",
              "    validation: Dataset({\n",
              "        features: ['id', 'verse_text', 'label', 'input_ids', 'attention_mask'],\n",
              "        num_rows: 105\n",
              "    })\n",
              "    test: Dataset({\n",
              "        features: ['id', 'verse_text', 'label', 'input_ids', 'attention_mask'],\n",
              "        num_rows: 104\n",
              "    })\n",
              "})"
            ]
          },
          "metadata": {},
          "execution_count": 8
        }
      ]
    },
    {
      "cell_type": "code",
      "source": [
        "# Exploring the data\n",
        "\n",
        "print(\"Text :\",\n",
        "      enc_poem_sentiments[\"train\"][1].get(\"verse_text\"))\n",
        "print(\"\\nInput Map :\",\n",
        "      enc_poem_sentiments[\"train\"][1].get(\"input_ids\"))\n",
        "print(\"\\nAttention Mask :\",\n",
        "      enc_poem_sentiments[\"train\"][1].get(\"attention_mask\"))\n",
        "\n",
        "print(\"\\nTotal tokens: \",\n",
        "      len(enc_poem_sentiments[\"train\"][1].get(\"input_ids\")))\n",
        "print(\"Non Zero tokens: \",\n",
        "      len(list(filter(\n",
        "        lambda x :x > 0,\n",
        "          enc_poem_sentiments[\"train\"][1].get(\"input_ids\")))))\n",
        "print(\"Attention = 1: \",\n",
        "      len(list(filter(\n",
        "        lambda x :x > 0,\n",
        "          enc_poem_sentiments[\"train\"][1].get(\"attention_mask\")))))"
      ],
      "metadata": {
        "colab": {
          "base_uri": "https://localhost:8080/"
        },
        "id": "KircRHGEHkVm",
        "outputId": "d1d45d0a-c765-4ded-9946-a51eedd8f2d9"
      },
      "execution_count": 16,
      "outputs": [
        {
          "output_type": "stream",
          "name": "stdout",
          "text": [
            "Text : it flows so long as falls the rain,\n",
            "\n",
            "Input Map : [101, 2009, 6223, 2061, 2146, 2004, 4212, 1996, 4542, 1010, 102, 0, 0, 0, 0, 0, 0, 0, 0, 0, 0, 0, 0, 0, 0, 0, 0, 0]\n",
            "\n",
            "Attention Mask : [1, 1, 1, 1, 1, 1, 1, 1, 1, 1, 1, 0, 0, 0, 0, 0, 0, 0, 0, 0, 0, 0, 0, 0, 0, 0, 0, 0]\n",
            "\n",
            "Total tokens:  28\n",
            "Non Zero tokens:  11\n",
            "Attention = 1:  11\n"
          ]
        }
      ]
    },
    {
      "cell_type": "code",
      "source": [
        "# dataset = enc_poem_sentiments.remove_columns(['id', 'verse_text'])\n",
        "# dataset"
      ],
      "metadata": {
        "colab": {
          "base_uri": "https://localhost:8080/"
        },
        "id": "f45xLrkXH2Pz",
        "outputId": "842c2ea8-8fa2-479e-e5a6-542ea50eaf6b"
      },
      "execution_count": 9,
      "outputs": [
        {
          "output_type": "execute_result",
          "data": {
            "text/plain": [
              "DatasetDict({\n",
              "    train: Dataset({\n",
              "        features: ['label', 'input_ids', 'attention_mask'],\n",
              "        num_rows: 892\n",
              "    })\n",
              "    validation: Dataset({\n",
              "        features: ['label', 'input_ids', 'attention_mask'],\n",
              "        num_rows: 105\n",
              "    })\n",
              "    test: Dataset({\n",
              "        features: ['label', 'input_ids', 'attention_mask'],\n",
              "        num_rows: 104\n",
              "    })\n",
              "})"
            ]
          },
          "metadata": {},
          "execution_count": 9
        }
      ]
    },
    {
      "cell_type": "code",
      "source": [
        "# Splitting the dataset into training and validation sets\n",
        "\n",
        "training_dataset = enc_poem_sentiments[\"train\"]\n",
        "validation_dataset=enc_poem_sentiments[\"validation\"]\n",
        "\n",
        "print(\"\\nColumn Names : \",training_dataset.column_names)\n",
        "print(\"\\nFeatures : \",training_dataset.features)\n",
        "\n",
        "labels = training_dataset.features.get(\"label\")\n",
        "num_labels=len(labels.names)"
      ],
      "metadata": {
        "colab": {
          "base_uri": "https://localhost:8080/"
        },
        "id": "ysuh0MGGIXXb",
        "outputId": "d3858172-4917-411e-b70b-864f3a304b9b"
      },
      "execution_count": 17,
      "outputs": [
        {
          "output_type": "stream",
          "name": "stdout",
          "text": [
            "\n",
            "Column Names :  ['id', 'verse_text', 'label', 'input_ids', 'attention_mask']\n",
            "\n",
            "Features :  {'id': Value(dtype='int32', id=None), 'verse_text': Value(dtype='string', id=None), 'label': ClassLabel(names=['negative', 'positive', 'no_impact', 'mixed'], id=None), 'input_ids': Sequence(feature=Value(dtype='int32', id=None), length=-1, id=None), 'attention_mask': Sequence(feature=Value(dtype='int8', id=None), length=-1, id=None)}\n"
          ]
        }
      ]
    },
    {
      "cell_type": "markdown",
      "source": [
        "## Creating the Model Architecture"
      ],
      "metadata": {
        "id": "1ILerCCrIfUI"
      }
    },
    {
      "cell_type": "code",
      "source": [
        "from transformers import TFAutoModelForSequenceClassification\n",
        "\n",
        "# Loading transformer from HuggingFace\n",
        "sentiment_model = (TFAutoModelForSequenceClassification\n",
        "            .from_pretrained(model_name, num_labels=num_labels))\n",
        "\n",
        "sentiment_model.get_config()"
      ],
      "metadata": {
        "colab": {
          "base_uri": "https://localhost:8080/"
        },
        "id": "tFkFwbRYITzF",
        "outputId": "ad0743e1-0e19-4125-fc37-3afb5aa088aa"
      },
      "execution_count": 18,
      "outputs": [
        {
          "output_type": "execute_result",
          "data": {
            "text/plain": [
              "{'vocab_size': 30522,\n",
              " 'max_position_embeddings': 512,\n",
              " 'sinusoidal_pos_embds': False,\n",
              " 'n_layers': 6,\n",
              " 'n_heads': 12,\n",
              " 'dim': 768,\n",
              " 'hidden_dim': 3072,\n",
              " 'dropout': 0.1,\n",
              " 'attention_dropout': 0.1,\n",
              " 'activation': 'gelu',\n",
              " 'initializer_range': 0.02,\n",
              " 'qa_dropout': 0.1,\n",
              " 'seq_classif_dropout': 0.2,\n",
              " 'return_dict': True,\n",
              " 'output_hidden_states': False,\n",
              " 'output_attentions': False,\n",
              " 'torchscript': False,\n",
              " 'torch_dtype': None,\n",
              " 'use_bfloat16': False,\n",
              " 'tf_legacy_loss': False,\n",
              " 'pruned_heads': {},\n",
              " 'tie_word_embeddings': True,\n",
              " 'is_encoder_decoder': False,\n",
              " 'is_decoder': False,\n",
              " 'cross_attention_hidden_size': None,\n",
              " 'add_cross_attention': False,\n",
              " 'tie_encoder_decoder': False,\n",
              " 'max_length': 20,\n",
              " 'min_length': 0,\n",
              " 'do_sample': False,\n",
              " 'early_stopping': False,\n",
              " 'num_beams': 1,\n",
              " 'num_beam_groups': 1,\n",
              " 'diversity_penalty': 0.0,\n",
              " 'temperature': 1.0,\n",
              " 'top_k': 50,\n",
              " 'top_p': 1.0,\n",
              " 'typical_p': 1.0,\n",
              " 'repetition_penalty': 1.0,\n",
              " 'length_penalty': 1.0,\n",
              " 'no_repeat_ngram_size': 0,\n",
              " 'encoder_no_repeat_ngram_size': 0,\n",
              " 'bad_words_ids': None,\n",
              " 'num_return_sequences': 1,\n",
              " 'chunk_size_feed_forward': 0,\n",
              " 'output_scores': False,\n",
              " 'return_dict_in_generate': False,\n",
              " 'forced_bos_token_id': None,\n",
              " 'forced_eos_token_id': None,\n",
              " 'remove_invalid_values': False,\n",
              " 'exponential_decay_length_penalty': None,\n",
              " 'suppress_tokens': None,\n",
              " 'begin_suppress_tokens': None,\n",
              " 'architectures': ['DistilBertForMaskedLM'],\n",
              " 'finetuning_task': None,\n",
              " 'id2label': {0: 'LABEL_0', 1: 'LABEL_1', 2: 'LABEL_2', 3: 'LABEL_3'},\n",
              " 'label2id': {'LABEL_0': 0, 'LABEL_1': 1, 'LABEL_2': 2, 'LABEL_3': 3},\n",
              " 'tokenizer_class': None,\n",
              " 'prefix': None,\n",
              " 'bos_token_id': None,\n",
              " 'pad_token_id': 0,\n",
              " 'eos_token_id': None,\n",
              " 'sep_token_id': None,\n",
              " 'decoder_start_token_id': None,\n",
              " 'task_specific_params': None,\n",
              " 'problem_type': None,\n",
              " '_name_or_path': 'distilbert-base-uncased',\n",
              " 'transformers_version': '4.35.2',\n",
              " 'model_type': 'distilbert',\n",
              " 'tie_weights_': True}"
            ]
          },
          "metadata": {},
          "execution_count": 18
        }
      ]
    },
    {
      "cell_type": "code",
      "source": [
        "# Freeze the first layer if needed\n",
        "sentiment_model.layers[0].trainable = True\n",
        "\n",
        "# Add/remove layers if needed.\n",
        "# sentiment_model.layers [append()/insert()/remove()]\n",
        "\n",
        "print(sentiment_model.summary())"
      ],
      "metadata": {
        "colab": {
          "base_uri": "https://localhost:8080/"
        },
        "id": "uNJhwKBFIiiJ",
        "outputId": "c66a8c92-4119-47a4-9966-f62f4f9e2e22"
      },
      "execution_count": 19,
      "outputs": [
        {
          "output_type": "stream",
          "name": "stdout",
          "text": [
            "Model: \"tf_distil_bert_for_sequence_classification_1\"\n",
            "_________________________________________________________________\n",
            " Layer (type)                Output Shape              Param #   \n",
            "=================================================================\n",
            " distilbert (TFDistilBertMa  multiple                  66362880  \n",
            " inLayer)                                                        \n",
            "                                                                 \n",
            " pre_classifier (Dense)      multiple                  590592    \n",
            "                                                                 \n",
            " classifier (Dense)          multiple                  3076      \n",
            "                                                                 \n",
            " dropout_39 (Dropout)        multiple                  0         \n",
            "                                                                 \n",
            "=================================================================\n",
            "Total params: 66956548 (255.42 MB)\n",
            "Trainable params: 66956548 (255.42 MB)\n",
            "Non-trainable params: 0 (0.00 Byte)\n",
            "_________________________________________________________________\n",
            "None\n"
          ]
        }
      ]
    },
    {
      "cell_type": "markdown",
      "source": [
        "## Training the Sentiment Model"
      ],
      "metadata": {
        "id": "IUTWx4qxIsk6"
      }
    },
    {
      "cell_type": "code",
      "source": [
        "import tensorflow as tf\n",
        "\n",
        "batch_size = 64\n",
        "tokenizer_columns = tokenizer.model_input_names\n",
        "\n",
        "train = training_dataset.to_tf_dataset(\n",
        "    columns = tokenizer_columns, label_cols = [\"label\"], shuffle = True,\n",
        "    batch_size = batch_size)\n",
        "\n",
        "val = validation_dataset.to_tf_dataset(\n",
        "    columns = tokenizer_columns, label_cols = [\"label\"], shuffle = False,\n",
        "    batch_size = batch_size)\n",
        "\n",
        "sentiment_model.compile(\n",
        "    optimizer = tf.keras.optimizers.Adam(learning_rate = 5e-5),\n",
        "    loss = tf.keras.losses.SparseCategoricalCrossentropy(from_logits = True),\n",
        "    metrics = tf.metrics.SparseCategoricalAccuracy())\n",
        "\n",
        "sentiment_model.fit(train,\n",
        "                    validation_data = val,\n",
        "                    epochs = 5)"
      ],
      "metadata": {
        "colab": {
          "base_uri": "https://localhost:8080/"
        },
        "id": "_qdNStNvIqWa",
        "outputId": "b70f3fd1-a6bb-4807-85b4-7143f785d0d0"
      },
      "execution_count": 20,
      "outputs": [
        {
          "output_type": "stream",
          "name": "stdout",
          "text": [
            "Epoch 1/5\n",
            "14/14 [==============================] - 212s 13s/step - loss: 1.1269 - sparse_categorical_accuracy: 0.6200 - val_loss: 0.8900 - val_sparse_categorical_accuracy: 0.6571\n",
            "Epoch 2/5\n",
            "14/14 [==============================] - 161s 12s/step - loss: 0.8348 - sparse_categorical_accuracy: 0.6850 - val_loss: 0.5829 - val_sparse_categorical_accuracy: 0.8190\n",
            "Epoch 3/5\n",
            "14/14 [==============================] - 166s 12s/step - loss: 0.4879 - sparse_categorical_accuracy: 0.8453 - val_loss: 0.5054 - val_sparse_categorical_accuracy: 0.8095\n",
            "Epoch 4/5\n",
            "14/14 [==============================] - 154s 11s/step - loss: 0.3019 - sparse_categorical_accuracy: 0.9036 - val_loss: 0.4870 - val_sparse_categorical_accuracy: 0.8762\n",
            "Epoch 5/5\n",
            "14/14 [==============================] - 153s 11s/step - loss: 0.2109 - sparse_categorical_accuracy: 0.9271 - val_loss: 0.5327 - val_sparse_categorical_accuracy: 0.8571\n"
          ]
        },
        {
          "output_type": "execute_result",
          "data": {
            "text/plain": [
              "<keras.src.callbacks.History at 0x7f1e2d7234f0>"
            ]
          },
          "metadata": {},
          "execution_count": 20
        }
      ]
    },
    {
      "cell_type": "code",
      "source": [
        "from datasets import Dataset, DatasetDict\n",
        "\n",
        "infer_data = {'id':[0,1],\n",
        "             'verse_text':['and be glad in the summer morning when the kindred ride on their way',\n",
        "                           'that sometime they put themself in danger'],\n",
        "             'label':[1,0]}\n",
        "\n",
        "infer_dataset = Dataset.from_dict(infer_data)\n",
        "\n",
        "ds_dict = DatasetDict()\n",
        "ds_dict[\"infer\"] = infer_dataset\n",
        "\n",
        "print(ds_dict)\n",
        "\n",
        "# Encoding the text\n",
        "enc_dataset = ds_dict.map(tokenize, batched = True, batch_size = None)\n",
        "\n",
        "# Converting to Tensors\n",
        "infer_final_dataset = enc_dataset[\"infer\"].to_tf_dataset(\n",
        "    columns = tokenizer_columns,  shuffle = True,\n",
        "    batch_size = batch_size)\n",
        "\n",
        "print(infer_final_dataset)\n",
        "\n",
        "# Prediction\n",
        "predictions = sentiment_model.predict(infer_final_dataset)"
      ],
      "metadata": {
        "colab": {
          "base_uri": "https://localhost:8080/",
          "height": 192,
          "referenced_widgets": [
            "0a1ed8f35a584cf9a7ef665919a02ef8",
            "c41ff170a0234f508e21322eadf3618d",
            "5399f632ac3d4ff8a9f2a6591f48eab4",
            "4cb9672336714a5091e2d1ee2f55c70e",
            "58bebf742406437293cce9df70c64cf2",
            "b4e6aee7c85a421c96857418ba011eee",
            "50608bed15204dfbaa2fc0741d04911f",
            "db6507c952b346189736250dfca62863",
            "27bbe65c6e1e49d483352490a6d4fa83",
            "5297370560504be680e84b3bb2679355",
            "7db8906071e84822bc59865fd2a29b73"
          ]
        },
        "id": "itBC-xewOBwf",
        "outputId": "c07547cf-0811-4ad5-a659-beb404b6045f"
      },
      "execution_count": 22,
      "outputs": [
        {
          "output_type": "stream",
          "name": "stdout",
          "text": [
            "DatasetDict({\n",
            "    infer: Dataset({\n",
            "        features: ['id', 'verse_text', 'label'],\n",
            "        num_rows: 2\n",
            "    })\n",
            "})\n"
          ]
        },
        {
          "output_type": "display_data",
          "data": {
            "text/plain": [
              "Map:   0%|          | 0/2 [00:00<?, ? examples/s]"
            ],
            "application/vnd.jupyter.widget-view+json": {
              "version_major": 2,
              "version_minor": 0,
              "model_id": "0a1ed8f35a584cf9a7ef665919a02ef8"
            }
          },
          "metadata": {}
        },
        {
          "output_type": "stream",
          "name": "stdout",
          "text": [
            "<_PrefetchDataset element_spec={'input_ids': TensorSpec(shape=(None, 17), dtype=tf.int64, name=None), 'attention_mask': TensorSpec(shape=(None, 17), dtype=tf.int64, name=None)}>\n",
            "1/1 [==============================] - 4s 4s/step\n"
          ]
        }
      ]
    },
    {
      "cell_type": "code",
      "source": [
        "predictions.logits"
      ],
      "metadata": {
        "colab": {
          "base_uri": "https://localhost:8080/"
        },
        "id": "Vgbuz-xWJWOH",
        "outputId": "26721aaf-e494-486c-c047-666bbd726a1c"
      },
      "execution_count": 23,
      "outputs": [
        {
          "output_type": "execute_result",
          "data": {
            "text/plain": [
              "array([[-1.5647929 ,  2.9026542 , -0.79876226, -0.5324803 ],\n",
              "       [ 2.533812  , -2.0192611 , -1.057152  , -0.05806513]],\n",
              "      dtype=float32)"
            ]
          },
          "metadata": {},
          "execution_count": 23
        }
      ]
    },
    {
      "cell_type": "code",
      "source": [
        "import numpy as np\n",
        "\n",
        "pred_label_ids = np.argmax(predictions.logits, axis=1)\n",
        "\n",
        "for i in range(len(pred_label_ids)):\n",
        "    print(\"Poem:\", infer_data[\"verse_text\"][i],\n",
        "          \" Predicted:\",labels.names[pred_label_ids[i]],\n",
        "          \" | Actual Label:\",labels.names[infer_data[\"label\"][i]])"
      ],
      "metadata": {
        "colab": {
          "base_uri": "https://localhost:8080/"
        },
        "id": "c_no18dTJWyY",
        "outputId": "b62cc728-3c07-4c0e-a750-fb19def4dce0"
      },
      "execution_count": 24,
      "outputs": [
        {
          "output_type": "stream",
          "name": "stdout",
          "text": [
            "Poem: and be glad in the summer morning when the kindred ride on their way  Predicted: positive  | Actual Label: positive\n",
            "Poem: that sometime they put themself in danger  Predicted: negative  | Actual Label: negative\n"
          ]
        }
      ]
    }
  ]
}